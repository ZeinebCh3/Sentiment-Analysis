{
 "cells": [
  {
   "cell_type": "markdown",
   "id": "5f4abff6-1d87-4f96-b8ca-84b375cf763f",
   "metadata": {
    "colab": {
     "base_uri": "https://localhost:8080/"
    },
    "executionInfo": {
     "elapsed": 244657,
     "status": "ok",
     "timestamp": 1660907196697,
     "user": {
      "displayName": "Salma BELHADJ ALI",
      "userId": "15118588427645427858"
     },
     "user_tz": -60
    },
    "id": "m84kyU_Y3xah",
    "outputId": "32fffb2a-5611-441e-9ba3-bdaad7b63f80"
   },
   "source": [
    "!pip install torch==1.8.1+cu111 torchvision==0.9.1+cu111 torchaudio===0.8.1 -f https://download.pytorch.org/whl/torch_stable.html"
   ]
  },
  {
   "cell_type": "markdown",
   "id": "95d97ab6-20b5-4e9f-9edf-99c1d9d421fe",
   "metadata": {
    "colab": {
     "base_uri": "https://localhost:8080/"
    },
    "executionInfo": {
     "elapsed": 22133,
     "status": "ok",
     "timestamp": 1660907218817,
     "user": {
      "displayName": "Salma BELHADJ ALI",
      "userId": "15118588427645427858"
     },
     "user_tz": -60
    },
    "id": "7_puaxDU3xiy",
    "outputId": "612a98d7-1ea9-48fa-cec1-6202fd907cf5"
   },
   "source": [
    "!pip install transformers "
   ]
  },
  {
   "cell_type": "code",
   "execution_count": 98,
   "id": "6d14959b-686f-4f98-a992-3acabe175c9c",
   "metadata": {
    "executionInfo": {
     "elapsed": 13426,
     "status": "ok",
     "timestamp": 1660907232235,
     "user": {
      "displayName": "Salma BELHADJ ALI",
      "userId": "15118588427645427858"
     },
     "user_tz": -60
    },
    "id": "6d14959b-686f-4f98-a992-3acabe175c9c"
   },
   "outputs": [
    {
     "name": "stdout",
     "output_type": "stream",
     "text": [
      "The autoreload extension is already loaded. To reload it, use:\n",
      "  %reload_ext autoreload\n"
     ]
    }
   ],
   "source": [
    "#Import librairies\n",
    "%matplotlib inline\n",
    "import matplotlib.pyplot as plt\n",
    "import pandas as pd\n",
    "import numpy as np\n",
    "import seaborn as sns\n",
    "import nltk\n",
    "import io\n",
    "import re\n",
    "import string\n",
    "import torch\n",
    "import requests\n",
    "import tqdm\n",
    "import keras\n",
    "from nltk.tokenize import RegexpTokenizer\n",
    "from nltk.tokenize import sent_tokenize, word_tokenize\n",
    "from nltk.corpus import stopwords\n",
    "from nltk.probability import FreqDist\n",
    "from nltk.stem import WordNetLemmatizer\n",
    "from nltk.sentiment import SentimentIntensityAnalyzer\n",
    "from wordcloud import WordCloud\n",
    "# from keras.layers.embeddings import Embedding\n",
    "from keras.preprocessing.text import Tokenizer\n",
    "from sklearn.model_selection import train_test_split\n",
    "from pathlib import Path\n",
    "from gensim.test.utils import common_texts\n",
    "from gensim.models.doc2vec import Doc2Vec, TaggedDocument\n",
    "from sklearn.feature_extraction.text import TfidfVectorizer\n",
    "from transformers import AutoTokenizer, AutoModelForSequenceClassification\n",
    "from bs4 import BeautifulSoup\n",
    "%load_ext autoreload\n",
    "from nltk.sentiment.vader import SentimentIntensityAnalyzer\n",
    "from textblob import TextBlob\n",
    "from sklearn import metrics\n",
    "from sklearn.metrics import confusion_matrix, classification_report, accuracy_score, f1_score,precision_score,recall_score"
   ]
  },
  {
   "cell_type": "markdown",
   "id": "23bf19d4-6f42-43d1-baf1-f1272805614f",
   "metadata": {
    "colab": {
     "base_uri": "https://localhost:8080/"
    },
    "executionInfo": {
     "elapsed": 25490,
     "status": "ok",
     "timestamp": 1660907262386,
     "user": {
      "displayName": "Salma BELHADJ ALI",
      "userId": "15118588427645427858"
     },
     "user_tz": -60
    },
    "id": "m9mQFrdhLlBk",
    "outputId": "30b4252b-dfa5-4095-8d86-39fa526887aa"
   },
   "source": [
    "#Open drive\n",
    "from google.colab import drive \n",
    "drive.mount('/content/gdrive')"
   ]
  },
  {
   "cell_type": "markdown",
   "id": "611e328a-07c5-4807-8661-4af7ec6c9ab5",
   "metadata": {
    "colab": {
     "base_uri": "https://localhost:8080/"
    },
    "executionInfo": {
     "elapsed": 959,
     "status": "ok",
     "timestamp": 1660907263343,
     "user": {
      "displayName": "Salma BELHADJ ALI",
      "userId": "15118588427645427858"
     },
     "user_tz": -60
    },
    "id": "d39fHHFgRXyP",
    "outputId": "2fdf6609-8764-461e-8ee0-79e823259eb1"
   },
   "source": [
    "#List the drive's content to fix the path\n",
    "! ls /content/gdrive/MyDrive/Stage"
   ]
  },
  {
   "cell_type": "code",
   "execution_count": 2,
   "id": "d1139608-8b03-45c2-8466-ea6aa7dabf06",
   "metadata": {
    "colab": {
     "base_uri": "https://localhost:8080/",
     "height": 580
    },
    "executionInfo": {
     "elapsed": 581,
     "status": "ok",
     "timestamp": 1660910151932,
     "user": {
      "displayName": "Salma BELHADJ ALI",
      "userId": "15118588427645427858"
     },
     "user_tz": -60
    },
    "id": "d1139608-8b03-45c2-8466-ea6aa7dabf06",
    "outputId": "85c9e346-dc3b-4823-935b-fbc3ccbe687e"
   },
   "outputs": [
    {
     "data": {
      "text/html": [
       "<div>\n",
       "<style scoped>\n",
       "    .dataframe tbody tr th:only-of-type {\n",
       "        vertical-align: middle;\n",
       "    }\n",
       "\n",
       "    .dataframe tbody tr th {\n",
       "        vertical-align: top;\n",
       "    }\n",
       "\n",
       "    .dataframe thead th {\n",
       "        text-align: right;\n",
       "    }\n",
       "</style>\n",
       "<table border=\"1\" class=\"dataframe\">\n",
       "  <thead>\n",
       "    <tr style=\"text-align: right;\">\n",
       "      <th></th>\n",
       "      <th>Unnamed: 0</th>\n",
       "      <th>Title</th>\n",
       "      <th>Author</th>\n",
       "      <th>Image_URL</th>\n",
       "      <th>Book_URL</th>\n",
       "      <th>Type</th>\n",
       "      <th>Description</th>\n",
       "      <th>Reviews</th>\n",
       "      <th>Rating</th>\n",
       "    </tr>\n",
       "  </thead>\n",
       "  <tbody>\n",
       "    <tr>\n",
       "      <th>0</th>\n",
       "      <td>0</td>\n",
       "      <td>Storyworthy</td>\n",
       "      <td>Matthew Dicks</td>\n",
       "      <td>https://m.media-amazon.com/images/I/51foPoGk58...</td>\n",
       "      <td>https://www.audible.in/pd/Storyworthy-Audioboo...</td>\n",
       "      <td>['Business &amp; Careers']</td>\n",
       "      <td>A five-time Moth GrandSLAM winner and bestsell...</td>\n",
       "      <td>[' not many tips on how to deliver a good stor...</td>\n",
       "      <td>['2', '5', '1', '5', '1', '1', '4', '5', '4', ...</td>\n",
       "    </tr>\n",
       "    <tr>\n",
       "      <th>1</th>\n",
       "      <td>1</td>\n",
       "      <td>The New Comedy Bible</td>\n",
       "      <td>Judy Carter</td>\n",
       "      <td>https://m.media-amazon.com/images/I/51UIsSCRlQ...</td>\n",
       "      <td>https://www.audible.in/pd/The-New-Comedy-Bible...</td>\n",
       "      <td>['Arts &amp; Entertainment']</td>\n",
       "      <td>The New Comedy Bible is a step-by-step, no exc...</td>\n",
       "      <td>[' PDF workbook ', ' Fantastic Book ', ' Horri...</td>\n",
       "      <td>['5', '5', '1', '5', '3', '5', '5', '5', '4', ...</td>\n",
       "    </tr>\n",
       "    <tr>\n",
       "      <th>2</th>\n",
       "      <td>2</td>\n",
       "      <td>Seriously...I'm Kidding</td>\n",
       "      <td>Ellen DeGeneres</td>\n",
       "      <td>https://m.media-amazon.com/images/I/51ubd-qU8J...</td>\n",
       "      <td>https://www.audible.in/pd/SeriouslyIm-Kidding-...</td>\n",
       "      <td>['Biographies &amp; Memoirs']</td>\n",
       "      <td>With the winning, upbeat candor that has made ...</td>\n",
       "      <td>[' Better live ', ' couldn t get through it ',...</td>\n",
       "      <td>['1', '2', '3', '4', '1', '1', '2', '2', '1', ...</td>\n",
       "    </tr>\n",
       "    <tr>\n",
       "      <th>3</th>\n",
       "      <td>3</td>\n",
       "      <td>Someday Is Today</td>\n",
       "      <td>Matthew Dicks</td>\n",
       "      <td>https://m.media-amazon.com/images/I/41l1gHqfvp...</td>\n",
       "      <td>https://www.audible.in/pd/Someday-Is-Today-Aud...</td>\n",
       "      <td>['Arts &amp; Entertainment']</td>\n",
       "      <td>REALIZE YOUR CREATIVE DREAMS—STARTING TODAY Ar...</td>\n",
       "      <td>[' Super motivating ', ' Inspiring ']</td>\n",
       "      <td>['5', '5']</td>\n",
       "    </tr>\n",
       "    <tr>\n",
       "      <th>4</th>\n",
       "      <td>4</td>\n",
       "      <td>Good Omens</td>\n",
       "      <td>Terry Pratchett</td>\n",
       "      <td>https://m.media-amazon.com/images/I/51Cyok-6Tu...</td>\n",
       "      <td>https://www.audible.in/pd/Good-Omens-Audiobook...</td>\n",
       "      <td>['Arts &amp; Entertainment']</td>\n",
       "      <td>Neil Gaiman was the WINNER of the BBC Audio Dr...</td>\n",
       "      <td>[' An adaption of one of my all time favorite ...</td>\n",
       "      <td>['4', '2', '5', '5', '5', '3', '5', '5', '4', ...</td>\n",
       "    </tr>\n",
       "  </tbody>\n",
       "</table>\n",
       "</div>"
      ],
      "text/plain": [
       "   Unnamed: 0                    Title           Author  \\\n",
       "0           0              Storyworthy    Matthew Dicks   \n",
       "1           1     The New Comedy Bible      Judy Carter   \n",
       "2           2  Seriously...I'm Kidding  Ellen DeGeneres   \n",
       "3           3         Someday Is Today    Matthew Dicks   \n",
       "4           4               Good Omens  Terry Pratchett   \n",
       "\n",
       "                                           Image_URL  \\\n",
       "0  https://m.media-amazon.com/images/I/51foPoGk58...   \n",
       "1  https://m.media-amazon.com/images/I/51UIsSCRlQ...   \n",
       "2  https://m.media-amazon.com/images/I/51ubd-qU8J...   \n",
       "3  https://m.media-amazon.com/images/I/41l1gHqfvp...   \n",
       "4  https://m.media-amazon.com/images/I/51Cyok-6Tu...   \n",
       "\n",
       "                                            Book_URL  \\\n",
       "0  https://www.audible.in/pd/Storyworthy-Audioboo...   \n",
       "1  https://www.audible.in/pd/The-New-Comedy-Bible...   \n",
       "2  https://www.audible.in/pd/SeriouslyIm-Kidding-...   \n",
       "3  https://www.audible.in/pd/Someday-Is-Today-Aud...   \n",
       "4  https://www.audible.in/pd/Good-Omens-Audiobook...   \n",
       "\n",
       "                        Type  \\\n",
       "0     ['Business & Careers']   \n",
       "1   ['Arts & Entertainment']   \n",
       "2  ['Biographies & Memoirs']   \n",
       "3   ['Arts & Entertainment']   \n",
       "4   ['Arts & Entertainment']   \n",
       "\n",
       "                                         Description  \\\n",
       "0  A five-time Moth GrandSLAM winner and bestsell...   \n",
       "1  The New Comedy Bible is a step-by-step, no exc...   \n",
       "2  With the winning, upbeat candor that has made ...   \n",
       "3  REALIZE YOUR CREATIVE DREAMS—STARTING TODAY Ar...   \n",
       "4  Neil Gaiman was the WINNER of the BBC Audio Dr...   \n",
       "\n",
       "                                             Reviews  \\\n",
       "0  [' not many tips on how to deliver a good stor...   \n",
       "1  [' PDF workbook ', ' Fantastic Book ', ' Horri...   \n",
       "2  [' Better live ', ' couldn t get through it ',...   \n",
       "3              [' Super motivating ', ' Inspiring ']   \n",
       "4  [' An adaption of one of my all time favorite ...   \n",
       "\n",
       "                                              Rating  \n",
       "0  ['2', '5', '1', '5', '1', '1', '4', '5', '4', ...  \n",
       "1  ['5', '5', '1', '5', '3', '5', '5', '5', '4', ...  \n",
       "2  ['1', '2', '3', '4', '1', '1', '2', '2', '1', ...  \n",
       "3                                         ['5', '5']  \n",
       "4  ['4', '2', '5', '5', '5', '3', '5', '5', '4', ...  "
      ]
     },
     "execution_count": 2,
     "metadata": {},
     "output_type": "execute_result"
    }
   ],
   "source": [
    "#Import data from the drive\n",
    "df = pd.read_csv('Audible_English_Books.csv')\n",
    "df.head()"
   ]
  },
  {
   "cell_type": "code",
   "execution_count": 3,
   "id": "YNZLOkxxzlt5",
   "metadata": {
    "colab": {
     "base_uri": "https://localhost:8080/",
     "height": 493
    },
    "executionInfo": {
     "elapsed": 3,
     "status": "ok",
     "timestamp": 1660910156087,
     "user": {
      "displayName": "Salma BELHADJ ALI",
      "userId": "15118588427645427858"
     },
     "user_tz": -60
    },
    "id": "YNZLOkxxzlt5",
    "outputId": "9b6711be-1b30-4d71-c27d-627c9a509c48"
   },
   "outputs": [
    {
     "data": {
      "text/html": [
       "<div>\n",
       "<style scoped>\n",
       "    .dataframe tbody tr th:only-of-type {\n",
       "        vertical-align: middle;\n",
       "    }\n",
       "\n",
       "    .dataframe tbody tr th {\n",
       "        vertical-align: top;\n",
       "    }\n",
       "\n",
       "    .dataframe thead th {\n",
       "        text-align: right;\n",
       "    }\n",
       "</style>\n",
       "<table border=\"1\" class=\"dataframe\">\n",
       "  <thead>\n",
       "    <tr style=\"text-align: right;\">\n",
       "      <th></th>\n",
       "      <th>Title</th>\n",
       "      <th>Author</th>\n",
       "      <th>Image_URL</th>\n",
       "      <th>Book_URL</th>\n",
       "      <th>Type</th>\n",
       "      <th>Description</th>\n",
       "      <th>Reviews</th>\n",
       "      <th>Rating</th>\n",
       "    </tr>\n",
       "  </thead>\n",
       "  <tbody>\n",
       "    <tr>\n",
       "      <th>0</th>\n",
       "      <td>Storyworthy</td>\n",
       "      <td>Matthew Dicks</td>\n",
       "      <td>https://m.media-amazon.com/images/I/51foPoGk58...</td>\n",
       "      <td>https://www.audible.in/pd/Storyworthy-Audioboo...</td>\n",
       "      <td>['Business &amp; Careers']</td>\n",
       "      <td>A five-time Moth GrandSLAM winner and bestsell...</td>\n",
       "      <td>[' not many tips on how to deliver a good stor...</td>\n",
       "      <td>['2', '5', '1', '5', '1', '1', '4', '5', '4', ...</td>\n",
       "    </tr>\n",
       "    <tr>\n",
       "      <th>1</th>\n",
       "      <td>The New Comedy Bible</td>\n",
       "      <td>Judy Carter</td>\n",
       "      <td>https://m.media-amazon.com/images/I/51UIsSCRlQ...</td>\n",
       "      <td>https://www.audible.in/pd/The-New-Comedy-Bible...</td>\n",
       "      <td>['Arts &amp; Entertainment']</td>\n",
       "      <td>The New Comedy Bible is a step-by-step, no exc...</td>\n",
       "      <td>[' PDF workbook ', ' Fantastic Book ', ' Horri...</td>\n",
       "      <td>['5', '5', '1', '5', '3', '5', '5', '5', '4', ...</td>\n",
       "    </tr>\n",
       "    <tr>\n",
       "      <th>2</th>\n",
       "      <td>Seriously...I'm Kidding</td>\n",
       "      <td>Ellen DeGeneres</td>\n",
       "      <td>https://m.media-amazon.com/images/I/51ubd-qU8J...</td>\n",
       "      <td>https://www.audible.in/pd/SeriouslyIm-Kidding-...</td>\n",
       "      <td>['Biographies &amp; Memoirs']</td>\n",
       "      <td>With the winning, upbeat candor that has made ...</td>\n",
       "      <td>[' Better live ', ' couldn t get through it ',...</td>\n",
       "      <td>['1', '2', '3', '4', '1', '1', '2', '2', '1', ...</td>\n",
       "    </tr>\n",
       "    <tr>\n",
       "      <th>3</th>\n",
       "      <td>Someday Is Today</td>\n",
       "      <td>Matthew Dicks</td>\n",
       "      <td>https://m.media-amazon.com/images/I/41l1gHqfvp...</td>\n",
       "      <td>https://www.audible.in/pd/Someday-Is-Today-Aud...</td>\n",
       "      <td>['Arts &amp; Entertainment']</td>\n",
       "      <td>REALIZE YOUR CREATIVE DREAMS—STARTING TODAY Ar...</td>\n",
       "      <td>[' Super motivating ', ' Inspiring ']</td>\n",
       "      <td>['5', '5']</td>\n",
       "    </tr>\n",
       "    <tr>\n",
       "      <th>4</th>\n",
       "      <td>Good Omens</td>\n",
       "      <td>Terry Pratchett</td>\n",
       "      <td>https://m.media-amazon.com/images/I/51Cyok-6Tu...</td>\n",
       "      <td>https://www.audible.in/pd/Good-Omens-Audiobook...</td>\n",
       "      <td>['Arts &amp; Entertainment']</td>\n",
       "      <td>Neil Gaiman was the WINNER of the BBC Audio Dr...</td>\n",
       "      <td>[' An adaption of one of my all time favorite ...</td>\n",
       "      <td>['4', '2', '5', '5', '5', '3', '5', '5', '4', ...</td>\n",
       "    </tr>\n",
       "  </tbody>\n",
       "</table>\n",
       "</div>"
      ],
      "text/plain": [
       "                     Title           Author  \\\n",
       "0              Storyworthy    Matthew Dicks   \n",
       "1     The New Comedy Bible      Judy Carter   \n",
       "2  Seriously...I'm Kidding  Ellen DeGeneres   \n",
       "3         Someday Is Today    Matthew Dicks   \n",
       "4               Good Omens  Terry Pratchett   \n",
       "\n",
       "                                           Image_URL  \\\n",
       "0  https://m.media-amazon.com/images/I/51foPoGk58...   \n",
       "1  https://m.media-amazon.com/images/I/51UIsSCRlQ...   \n",
       "2  https://m.media-amazon.com/images/I/51ubd-qU8J...   \n",
       "3  https://m.media-amazon.com/images/I/41l1gHqfvp...   \n",
       "4  https://m.media-amazon.com/images/I/51Cyok-6Tu...   \n",
       "\n",
       "                                            Book_URL  \\\n",
       "0  https://www.audible.in/pd/Storyworthy-Audioboo...   \n",
       "1  https://www.audible.in/pd/The-New-Comedy-Bible...   \n",
       "2  https://www.audible.in/pd/SeriouslyIm-Kidding-...   \n",
       "3  https://www.audible.in/pd/Someday-Is-Today-Aud...   \n",
       "4  https://www.audible.in/pd/Good-Omens-Audiobook...   \n",
       "\n",
       "                        Type  \\\n",
       "0     ['Business & Careers']   \n",
       "1   ['Arts & Entertainment']   \n",
       "2  ['Biographies & Memoirs']   \n",
       "3   ['Arts & Entertainment']   \n",
       "4   ['Arts & Entertainment']   \n",
       "\n",
       "                                         Description  \\\n",
       "0  A five-time Moth GrandSLAM winner and bestsell...   \n",
       "1  The New Comedy Bible is a step-by-step, no exc...   \n",
       "2  With the winning, upbeat candor that has made ...   \n",
       "3  REALIZE YOUR CREATIVE DREAMS—STARTING TODAY Ar...   \n",
       "4  Neil Gaiman was the WINNER of the BBC Audio Dr...   \n",
       "\n",
       "                                             Reviews  \\\n",
       "0  [' not many tips on how to deliver a good stor...   \n",
       "1  [' PDF workbook ', ' Fantastic Book ', ' Horri...   \n",
       "2  [' Better live ', ' couldn t get through it ',...   \n",
       "3              [' Super motivating ', ' Inspiring ']   \n",
       "4  [' An adaption of one of my all time favorite ...   \n",
       "\n",
       "                                              Rating  \n",
       "0  ['2', '5', '1', '5', '1', '1', '4', '5', '4', ...  \n",
       "1  ['5', '5', '1', '5', '3', '5', '5', '5', '4', ...  \n",
       "2  ['1', '2', '3', '4', '1', '1', '2', '2', '1', ...  \n",
       "3                                         ['5', '5']  \n",
       "4  ['4', '2', '5', '5', '5', '3', '5', '5', '4', ...  "
      ]
     },
     "execution_count": 3,
     "metadata": {},
     "output_type": "execute_result"
    }
   ],
   "source": [
    "#Delete unnecessary column\n",
    "df.drop('Unnamed: 0', inplace=True, axis=1)\n",
    "df.head()"
   ]
  },
  {
   "cell_type": "code",
   "execution_count": 4,
   "id": "f7qKK6hg9ftR",
   "metadata": {
    "colab": {
     "base_uri": "https://localhost:8080/",
     "height": 1000
    },
    "executionInfo": {
     "elapsed": 641,
     "status": "ok",
     "timestamp": 1660910976378,
     "user": {
      "displayName": "Salma BELHADJ ALI",
      "userId": "15118588427645427858"
     },
     "user_tz": -60
    },
    "id": "f7qKK6hg9ftR",
    "outputId": "8b526084-bcc8-450e-934f-c9ad73faeb8e"
   },
   "outputs": [
    {
     "data": {
      "text/html": [
       "<div>\n",
       "<style scoped>\n",
       "    .dataframe tbody tr th:only-of-type {\n",
       "        vertical-align: middle;\n",
       "    }\n",
       "\n",
       "    .dataframe tbody tr th {\n",
       "        vertical-align: top;\n",
       "    }\n",
       "\n",
       "    .dataframe thead th {\n",
       "        text-align: right;\n",
       "    }\n",
       "</style>\n",
       "<table border=\"1\" class=\"dataframe\">\n",
       "  <thead>\n",
       "    <tr style=\"text-align: right;\">\n",
       "      <th></th>\n",
       "      <th>Title</th>\n",
       "      <th>Reviews</th>\n",
       "      <th>Rating</th>\n",
       "    </tr>\n",
       "  </thead>\n",
       "  <tbody>\n",
       "    <tr>\n",
       "      <th>0</th>\n",
       "      <td>Storyworthy</td>\n",
       "      <td>[' not many tips on how to deliver a good stor...</td>\n",
       "      <td>['2', '5', '1', '5', '1', '1', '4', '5', '4', ...</td>\n",
       "    </tr>\n",
       "    <tr>\n",
       "      <th>1</th>\n",
       "      <td>The New Comedy Bible</td>\n",
       "      <td>[' PDF workbook ', ' Fantastic Book ', ' Horri...</td>\n",
       "      <td>['5', '5', '1', '5', '3', '5', '5', '5', '4', ...</td>\n",
       "    </tr>\n",
       "    <tr>\n",
       "      <th>2</th>\n",
       "      <td>Seriously...I'm Kidding</td>\n",
       "      <td>[' Better live ', ' couldn t get through it ',...</td>\n",
       "      <td>['1', '2', '3', '4', '1', '1', '2', '2', '1', ...</td>\n",
       "    </tr>\n",
       "    <tr>\n",
       "      <th>3</th>\n",
       "      <td>Someday Is Today</td>\n",
       "      <td>[' Super motivating ', ' Inspiring ']</td>\n",
       "      <td>['5', '5']</td>\n",
       "    </tr>\n",
       "    <tr>\n",
       "      <th>4</th>\n",
       "      <td>Good Omens</td>\n",
       "      <td>[' An adaption of one of my all time favorite ...</td>\n",
       "      <td>['4', '2', '5', '5', '5', '3', '5', '5', '4', ...</td>\n",
       "    </tr>\n",
       "  </tbody>\n",
       "</table>\n",
       "</div>"
      ],
      "text/plain": [
       "                     Title                                            Reviews  \\\n",
       "0              Storyworthy  [' not many tips on how to deliver a good stor...   \n",
       "1     The New Comedy Bible  [' PDF workbook ', ' Fantastic Book ', ' Horri...   \n",
       "2  Seriously...I'm Kidding  [' Better live ', ' couldn t get through it ',...   \n",
       "3         Someday Is Today              [' Super motivating ', ' Inspiring ']   \n",
       "4               Good Omens  [' An adaption of one of my all time favorite ...   \n",
       "\n",
       "                                              Rating  \n",
       "0  ['2', '5', '1', '5', '1', '1', '4', '5', '4', ...  \n",
       "1  ['5', '5', '1', '5', '3', '5', '5', '5', '4', ...  \n",
       "2  ['1', '2', '3', '4', '1', '1', '2', '2', '1', ...  \n",
       "3                                         ['5', '5']  \n",
       "4  ['4', '2', '5', '5', '5', '3', '5', '5', '4', ...  "
      ]
     },
     "execution_count": 4,
     "metadata": {},
     "output_type": "execute_result"
    }
   ],
   "source": [
    "dfnew=df.loc[:,['Title','Reviews','Rating']]\n",
    "dfnew.head()"
   ]
  },
  {
   "cell_type": "code",
   "execution_count": 5,
   "id": "IrnT-rmd-FJc",
   "metadata": {
    "executionInfo": {
     "elapsed": 7,
     "status": "ok",
     "timestamp": 1660910977010,
     "user": {
      "displayName": "Salma BELHADJ ALI",
      "userId": "15118588427645427858"
     },
     "user_tz": -60
    },
    "id": "IrnT-rmd-FJc"
   },
   "outputs": [],
   "source": [
    "dfnew['Rating']=dfnew['Rating'].str.split(',')\n",
    "dfnew['Reviews']=dfnew['Reviews'].str.split(',')"
   ]
  },
  {
   "cell_type": "code",
   "execution_count": 6,
   "id": "77Rf8bhw9nCJ",
   "metadata": {
    "colab": {
     "base_uri": "https://localhost:8080/",
     "height": 424
    },
    "executionInfo": {
     "elapsed": 1118,
     "status": "ok",
     "timestamp": 1660916032773,
     "user": {
      "displayName": "Salma BELHADJ ALI",
      "userId": "15118588427645427858"
     },
     "user_tz": -60
    },
    "id": "77Rf8bhw9nCJ",
    "outputId": "2b60261c-7a55-4663-ace6-29130c1db29b"
   },
   "outputs": [
    {
     "data": {
      "text/html": [
       "<div>\n",
       "<style scoped>\n",
       "    .dataframe tbody tr th:only-of-type {\n",
       "        vertical-align: middle;\n",
       "    }\n",
       "\n",
       "    .dataframe tbody tr th {\n",
       "        vertical-align: top;\n",
       "    }\n",
       "\n",
       "    .dataframe thead th {\n",
       "        text-align: right;\n",
       "    }\n",
       "</style>\n",
       "<table border=\"1\" class=\"dataframe\">\n",
       "  <thead>\n",
       "    <tr style=\"text-align: right;\">\n",
       "      <th></th>\n",
       "      <th>Title</th>\n",
       "      <th>Reviews</th>\n",
       "      <th>Rating</th>\n",
       "    </tr>\n",
       "  </thead>\n",
       "  <tbody>\n",
       "    <tr>\n",
       "      <th>0</th>\n",
       "      <td>Storyworthy</td>\n",
       "      <td>[' not many tips on how to deliver a good story '</td>\n",
       "      <td>['2'</td>\n",
       "    </tr>\n",
       "    <tr>\n",
       "      <th>1</th>\n",
       "      <td>Storyworthy</td>\n",
       "      <td>' This book leapt into my top 5 '</td>\n",
       "      <td>'5'</td>\n",
       "    </tr>\n",
       "    <tr>\n",
       "      <th>2</th>\n",
       "      <td>Storyworthy</td>\n",
       "      <td>' There are better books On Story then this '</td>\n",
       "      <td>'1'</td>\n",
       "    </tr>\n",
       "    <tr>\n",
       "      <th>3</th>\n",
       "      <td>Storyworthy</td>\n",
       "      <td>' Thought provoking '</td>\n",
       "      <td>'5'</td>\n",
       "    </tr>\n",
       "    <tr>\n",
       "      <th>4</th>\n",
       "      <td>Storyworthy</td>\n",
       "      <td>' his voice gave me a massive headache '</td>\n",
       "      <td>'1'</td>\n",
       "    </tr>\n",
       "    <tr>\n",
       "      <th>...</th>\n",
       "      <td>...</td>\n",
       "      <td>...</td>\n",
       "      <td>...</td>\n",
       "    </tr>\n",
       "    <tr>\n",
       "      <th>18573</th>\n",
       "      <td>David Attenborough: The Early Years Collection</td>\n",
       "      <td>' Genius Richard Attenborough is beyond belie...</td>\n",
       "      <td>'5'</td>\n",
       "    </tr>\n",
       "    <tr>\n",
       "      <th>18574</th>\n",
       "      <td>David Attenborough: The Early Years Collection</td>\n",
       "      <td>' Too good There is only one thing which disa...</td>\n",
       "      <td>'5'</td>\n",
       "    </tr>\n",
       "    <tr>\n",
       "      <th>18575</th>\n",
       "      <td>David Attenborough: The Early Years Collection</td>\n",
       "      <td>' Had me intrigued and laughing the whole way...</td>\n",
       "      <td>'5'</td>\n",
       "    </tr>\n",
       "    <tr>\n",
       "      <th>18576</th>\n",
       "      <td>David Attenborough: The Early Years Collection</td>\n",
       "      <td>' Spellbinding Loved this book So interesting...</td>\n",
       "      <td>'5'</td>\n",
       "    </tr>\n",
       "    <tr>\n",
       "      <th>18577</th>\n",
       "      <td>David Attenborough: The Early Years Collection</td>\n",
       "      <td>' Absolutely uplifting and thoroughly enjoyab...</td>\n",
       "      <td>'5']</td>\n",
       "    </tr>\n",
       "  </tbody>\n",
       "</table>\n",
       "<p>18578 rows × 3 columns</p>\n",
       "</div>"
      ],
      "text/plain": [
       "                                                Title  \\\n",
       "0                                         Storyworthy   \n",
       "1                                         Storyworthy   \n",
       "2                                         Storyworthy   \n",
       "3                                         Storyworthy   \n",
       "4                                         Storyworthy   \n",
       "...                                               ...   \n",
       "18573  David Attenborough: The Early Years Collection   \n",
       "18574  David Attenborough: The Early Years Collection   \n",
       "18575  David Attenborough: The Early Years Collection   \n",
       "18576  David Attenborough: The Early Years Collection   \n",
       "18577  David Attenborough: The Early Years Collection   \n",
       "\n",
       "                                                 Reviews Rating  \n",
       "0      [' not many tips on how to deliver a good story '   ['2'  \n",
       "1                      ' This book leapt into my top 5 '    '5'  \n",
       "2          ' There are better books On Story then this '    '1'  \n",
       "3                                  ' Thought provoking '    '5'  \n",
       "4               ' his voice gave me a massive headache '    '1'  \n",
       "...                                                  ...    ...  \n",
       "18573   ' Genius Richard Attenborough is beyond belie...    '5'  \n",
       "18574   ' Too good There is only one thing which disa...    '5'  \n",
       "18575   ' Had me intrigued and laughing the whole way...    '5'  \n",
       "18576   ' Spellbinding Loved this book So interesting...    '5'  \n",
       "18577   ' Absolutely uplifting and thoroughly enjoyab...   '5']  \n",
       "\n",
       "[18578 rows x 3 columns]"
      ]
     },
     "execution_count": 6,
     "metadata": {},
     "output_type": "execute_result"
    }
   ],
   "source": [
    "df2 = dfnew.set_index(['Title']).apply(pd.Series.explode).reset_index()\n",
    "df2"
   ]
  },
  {
   "cell_type": "code",
   "execution_count": 7,
   "id": "fdf78b6c-0f79-4f81-9f9c-29d8c5c3ef15",
   "metadata": {},
   "outputs": [
    {
     "data": {
      "text/html": [
       "<div>\n",
       "<style scoped>\n",
       "    .dataframe tbody tr th:only-of-type {\n",
       "        vertical-align: middle;\n",
       "    }\n",
       "\n",
       "    .dataframe tbody tr th {\n",
       "        vertical-align: top;\n",
       "    }\n",
       "\n",
       "    .dataframe thead th {\n",
       "        text-align: right;\n",
       "    }\n",
       "</style>\n",
       "<table border=\"1\" class=\"dataframe\">\n",
       "  <thead>\n",
       "    <tr style=\"text-align: right;\">\n",
       "      <th></th>\n",
       "      <th>Title</th>\n",
       "      <th>Reviews</th>\n",
       "      <th>Rating</th>\n",
       "    </tr>\n",
       "  </thead>\n",
       "  <tbody>\n",
       "    <tr>\n",
       "      <th>0</th>\n",
       "      <td>Storyworthy</td>\n",
       "      <td>[' not many tips on how to deliver a good story '</td>\n",
       "      <td>2</td>\n",
       "    </tr>\n",
       "    <tr>\n",
       "      <th>1</th>\n",
       "      <td>Storyworthy</td>\n",
       "      <td>' This book leapt into my top 5 '</td>\n",
       "      <td>5</td>\n",
       "    </tr>\n",
       "    <tr>\n",
       "      <th>2</th>\n",
       "      <td>Storyworthy</td>\n",
       "      <td>' There are better books On Story then this '</td>\n",
       "      <td>1</td>\n",
       "    </tr>\n",
       "    <tr>\n",
       "      <th>3</th>\n",
       "      <td>Storyworthy</td>\n",
       "      <td>' Thought provoking '</td>\n",
       "      <td>5</td>\n",
       "    </tr>\n",
       "    <tr>\n",
       "      <th>4</th>\n",
       "      <td>Storyworthy</td>\n",
       "      <td>' his voice gave me a massive headache '</td>\n",
       "      <td>1</td>\n",
       "    </tr>\n",
       "  </tbody>\n",
       "</table>\n",
       "</div>"
      ],
      "text/plain": [
       "         Title                                            Reviews Rating\n",
       "0  Storyworthy  [' not many tips on how to deliver a good story '     2 \n",
       "1  Storyworthy                  ' This book leapt into my top 5 '     5 \n",
       "2  Storyworthy      ' There are better books On Story then this '     1 \n",
       "3  Storyworthy                              ' Thought provoking '     5 \n",
       "4  Storyworthy           ' his voice gave me a massive headache '     1 "
      ]
     },
     "execution_count": 7,
     "metadata": {},
     "output_type": "execute_result"
    }
   ],
   "source": [
    "df2['Rating'] = df2['Rating'].apply(lambda x: re.sub('\\D+',' ', x))\n",
    "df2.head()"
   ]
  },
  {
   "cell_type": "code",
   "execution_count": 8,
   "id": "zWZBDdfZ10or",
   "metadata": {
    "colab": {
     "base_uri": "https://localhost:8080/",
     "height": 35
    },
    "executionInfo": {
     "elapsed": 11,
     "status": "ok",
     "timestamp": 1660916034252,
     "user": {
      "displayName": "Salma BELHADJ ALI",
      "userId": "15118588427645427858"
     },
     "user_tz": -60
    },
    "id": "zWZBDdfZ10or",
    "outputId": "cf345485-ebd0-4f69-9670-d7436b90dab8"
   },
   "outputs": [
    {
     "data": {
      "text/plain": [
       "\"[' not many tips on how to deliver a good story '\""
      ]
     },
     "execution_count": 8,
     "metadata": {},
     "output_type": "execute_result"
    }
   ],
   "source": [
    "df2['Reviews'].iloc[0]"
   ]
  },
  {
   "cell_type": "code",
   "execution_count": 9,
   "id": "ccJecDT8wKN1",
   "metadata": {
    "colab": {
     "base_uri": "https://localhost:8080/",
     "height": 206
    },
    "executionInfo": {
     "elapsed": 10,
     "status": "ok",
     "timestamp": 1660916034255,
     "user": {
      "displayName": "Salma BELHADJ ALI",
      "userId": "15118588427645427858"
     },
     "user_tz": -60
    },
    "id": "ccJecDT8wKN1",
    "outputId": "91125f5c-8dd0-413a-8fe7-beae95fc4cfb"
   },
   "outputs": [
    {
     "data": {
      "text/html": [
       "<div>\n",
       "<style scoped>\n",
       "    .dataframe tbody tr th:only-of-type {\n",
       "        vertical-align: middle;\n",
       "    }\n",
       "\n",
       "    .dataframe tbody tr th {\n",
       "        vertical-align: top;\n",
       "    }\n",
       "\n",
       "    .dataframe thead th {\n",
       "        text-align: right;\n",
       "    }\n",
       "</style>\n",
       "<table border=\"1\" class=\"dataframe\">\n",
       "  <thead>\n",
       "    <tr style=\"text-align: right;\">\n",
       "      <th></th>\n",
       "      <th>Title</th>\n",
       "      <th>Reviews</th>\n",
       "      <th>Rating</th>\n",
       "    </tr>\n",
       "  </thead>\n",
       "  <tbody>\n",
       "    <tr>\n",
       "      <th>0</th>\n",
       "      <td>Storyworthy</td>\n",
       "      <td>not many tips on how to deliver a good story</td>\n",
       "      <td>2</td>\n",
       "    </tr>\n",
       "    <tr>\n",
       "      <th>1</th>\n",
       "      <td>Storyworthy</td>\n",
       "      <td>This book leapt into my top 5</td>\n",
       "      <td>5</td>\n",
       "    </tr>\n",
       "    <tr>\n",
       "      <th>2</th>\n",
       "      <td>Storyworthy</td>\n",
       "      <td>There are better books On Story then this</td>\n",
       "      <td>1</td>\n",
       "    </tr>\n",
       "    <tr>\n",
       "      <th>3</th>\n",
       "      <td>Storyworthy</td>\n",
       "      <td>Thought provoking</td>\n",
       "      <td>5</td>\n",
       "    </tr>\n",
       "    <tr>\n",
       "      <th>4</th>\n",
       "      <td>Storyworthy</td>\n",
       "      <td>his voice gave me a massive headache</td>\n",
       "      <td>1</td>\n",
       "    </tr>\n",
       "  </tbody>\n",
       "</table>\n",
       "</div>"
      ],
      "text/plain": [
       "         Title                                         Reviews Rating\n",
       "0  Storyworthy   not many tips on how to deliver a good story      2 \n",
       "1  Storyworthy                  This book leapt into my top 5      5 \n",
       "2  Storyworthy      There are better books On Story then this      1 \n",
       "3  Storyworthy                              Thought provoking      5 \n",
       "4  Storyworthy           his voice gave me a massive headache      1 "
      ]
     },
     "execution_count": 9,
     "metadata": {},
     "output_type": "execute_result"
    }
   ],
   "source": [
    "#Remove punctuations and special characters\n",
    "df2['Reviews'] = df2['Reviews'].apply(lambda x: re.sub('\\W+',' ', x))\n",
    "df2.head()"
   ]
  },
  {
   "cell_type": "code",
   "execution_count": 10,
   "id": "JC_gHM5qgKex",
   "metadata": {
    "colab": {
     "base_uri": "https://localhost:8080/",
     "height": 206
    },
    "executionInfo": {
     "elapsed": 11,
     "status": "ok",
     "timestamp": 1660916034253,
     "user": {
      "displayName": "Salma BELHADJ ALI",
      "userId": "15118588427645427858"
     },
     "user_tz": -60
    },
    "id": "JC_gHM5qgKex",
    "outputId": "4a3f1344-447d-402e-ebc2-e12baa7f030f"
   },
   "outputs": [
    {
     "data": {
      "text/html": [
       "<div>\n",
       "<style scoped>\n",
       "    .dataframe tbody tr th:only-of-type {\n",
       "        vertical-align: middle;\n",
       "    }\n",
       "\n",
       "    .dataframe tbody tr th {\n",
       "        vertical-align: top;\n",
       "    }\n",
       "\n",
       "    .dataframe thead th {\n",
       "        text-align: right;\n",
       "    }\n",
       "</style>\n",
       "<table border=\"1\" class=\"dataframe\">\n",
       "  <thead>\n",
       "    <tr style=\"text-align: right;\">\n",
       "      <th></th>\n",
       "      <th>Title</th>\n",
       "      <th>Reviews</th>\n",
       "      <th>Rating</th>\n",
       "      <th>Reviews_preprocessing</th>\n",
       "    </tr>\n",
       "  </thead>\n",
       "  <tbody>\n",
       "    <tr>\n",
       "      <th>0</th>\n",
       "      <td>Storyworthy</td>\n",
       "      <td>not many tips on how to deliver a good story</td>\n",
       "      <td>2</td>\n",
       "      <td>not many tips on how to deliver a good story</td>\n",
       "    </tr>\n",
       "    <tr>\n",
       "      <th>1</th>\n",
       "      <td>Storyworthy</td>\n",
       "      <td>This book leapt into my top 5</td>\n",
       "      <td>5</td>\n",
       "      <td>this book leapt into my top 5</td>\n",
       "    </tr>\n",
       "    <tr>\n",
       "      <th>2</th>\n",
       "      <td>Storyworthy</td>\n",
       "      <td>There are better books On Story then this</td>\n",
       "      <td>1</td>\n",
       "      <td>there are better books on story then this</td>\n",
       "    </tr>\n",
       "    <tr>\n",
       "      <th>3</th>\n",
       "      <td>Storyworthy</td>\n",
       "      <td>Thought provoking</td>\n",
       "      <td>5</td>\n",
       "      <td>thought provoking</td>\n",
       "    </tr>\n",
       "    <tr>\n",
       "      <th>4</th>\n",
       "      <td>Storyworthy</td>\n",
       "      <td>his voice gave me a massive headache</td>\n",
       "      <td>1</td>\n",
       "      <td>his voice gave me a massive headache</td>\n",
       "    </tr>\n",
       "  </tbody>\n",
       "</table>\n",
       "</div>"
      ],
      "text/plain": [
       "         Title                                         Reviews Rating  \\\n",
       "0  Storyworthy   not many tips on how to deliver a good story      2    \n",
       "1  Storyworthy                  This book leapt into my top 5      5    \n",
       "2  Storyworthy      There are better books On Story then this      1    \n",
       "3  Storyworthy                              Thought provoking      5    \n",
       "4  Storyworthy           his voice gave me a massive headache      1    \n",
       "\n",
       "                            Reviews_preprocessing  \n",
       "0   not many tips on how to deliver a good story   \n",
       "1                  this book leapt into my top 5   \n",
       "2      there are better books on story then this   \n",
       "3                              thought provoking   \n",
       "4           his voice gave me a massive headache   "
      ]
     },
     "execution_count": 10,
     "metadata": {},
     "output_type": "execute_result"
    }
   ],
   "source": [
    "#Data transformation into lowercase letters\n",
    "df2['Reviews_preprocessing'] = df2['Reviews'].astype(str).str.lower()\n",
    "df2.head()"
   ]
  },
  {
   "cell_type": "code",
   "execution_count": 11,
   "id": "IO8cbjXa2fyM",
   "metadata": {
    "colab": {
     "base_uri": "https://localhost:8080/",
     "height": 52
    },
    "executionInfo": {
     "elapsed": 6,
     "status": "ok",
     "timestamp": 1660916035966,
     "user": {
      "displayName": "Salma BELHADJ ALI",
      "userId": "15118588427645427858"
     },
     "user_tz": -60
    },
    "id": "IO8cbjXa2fyM",
    "outputId": "bfaf74bd-51d5-4a7c-fc0b-ee0539a169d2"
   },
   "outputs": [
    {
     "data": {
      "text/plain": [
       "' not many tips on how to deliver a good story '"
      ]
     },
     "execution_count": 11,
     "metadata": {},
     "output_type": "execute_result"
    }
   ],
   "source": [
    "df2['Reviews_preprocessing'].iloc[0]"
   ]
  },
  {
   "cell_type": "code",
   "execution_count": 12,
   "id": "v3BqkJH13itV",
   "metadata": {
    "executionInfo": {
     "elapsed": 6,
     "status": "ok",
     "timestamp": 1660916035967,
     "user": {
      "displayName": "Salma BELHADJ ALI",
      "userId": "15118588427645427858"
     },
     "user_tz": -60
    },
    "id": "v3BqkJH13itV"
   },
   "outputs": [],
   "source": [
    "#Perform tokenization in combination with regular expressions\n",
    "regexp = RegexpTokenizer('\\w+')\n",
    "df2['Reviews_preprocessing']=df2['Reviews_preprocessing'].apply(regexp.tokenize)\n",
    "#Word Tokenization\n",
    "# df['Reviews']=df['Reviews'].apply(word_tokenize)\n",
    "# df['Reviews']= [word_tokenize(str(i)) for i in df['Reviews']]"
   ]
  },
  {
   "cell_type": "code",
   "execution_count": 13,
   "id": "JFnqIzt7z7Q1",
   "metadata": {
    "colab": {
     "base_uri": "https://localhost:8080/"
    },
    "executionInfo": {
     "elapsed": 6,
     "status": "ok",
     "timestamp": 1660916035967,
     "user": {
      "displayName": "Salma BELHADJ ALI",
      "userId": "15118588427645427858"
     },
     "user_tz": -60
    },
    "id": "JFnqIzt7z7Q1",
    "outputId": "228cd068-b7d8-4486-86b5-f9ee1f465e55"
   },
   "outputs": [
    {
     "data": {
      "text/plain": [
       "['not', 'many', 'tips', 'on', 'how', 'to', 'deliver', 'a', 'good', 'story']"
      ]
     },
     "execution_count": 13,
     "metadata": {},
     "output_type": "execute_result"
    }
   ],
   "source": [
    "df2['Reviews_preprocessing'].iloc[0]"
   ]
  },
  {
   "cell_type": "code",
   "execution_count": 14,
   "id": "CGE4Dd1H9_Bt",
   "metadata": {
    "executionInfo": {
     "elapsed": 4,
     "status": "ok",
     "timestamp": 1660916035968,
     "user": {
      "displayName": "Salma BELHADJ ALI",
      "userId": "15118588427645427858"
     },
     "user_tz": -60
    },
    "id": "CGE4Dd1H9_Bt"
   },
   "outputs": [],
   "source": [
    "#Removing punctuations from Reviews\n",
    "# All_punct = '''!()-[]{};:'\"\\,<>./?@#$%^&*_~'''\n",
    "# for elements in df2['Reviews']:\n",
    "#   if All_punct in elements:\n",
    "#     df2['Reviews'] = df2['Reviews'].replace(elements, \"\")\n",
    "# df2['Reviews'] = df2['Reviews'].str.replace('[^\\w\\s]','')\n",
    "# df2['Reviews'].iloc[1]"
   ]
  },
  {
   "cell_type": "code",
   "execution_count": 15,
   "id": "PsmWDFTA7L4G",
   "metadata": {
    "colab": {
     "base_uri": "https://localhost:8080/"
    },
    "executionInfo": {
     "elapsed": 3,
     "status": "ok",
     "timestamp": 1660916038928,
     "user": {
      "displayName": "Salma BELHADJ ALI",
      "userId": "15118588427645427858"
     },
     "user_tz": -60
    },
    "id": "PsmWDFTA7L4G",
    "outputId": "2be3e0d0-e590-4a5e-c1ad-9de82a6564f3"
   },
   "outputs": [
    {
     "name": "stderr",
     "output_type": "stream",
     "text": [
      "[nltk_data] Downloading package stopwords to\n",
      "[nltk_data]     C:\\Users\\Lenovo\\AppData\\Roaming\\nltk_data...\n",
      "[nltk_data]   Package stopwords is already up-to-date!\n"
     ]
    },
    {
     "data": {
      "text/plain": [
       "True"
      ]
     },
     "execution_count": 15,
     "metadata": {},
     "output_type": "execute_result"
    }
   ],
   "source": [
    "#Stopwordf2\n",
    "nltk.download('stopwords')"
   ]
  },
  {
   "cell_type": "code",
   "execution_count": 16,
   "id": "vj0ed_s37g5g",
   "metadata": {
    "executionInfo": {
     "elapsed": 2,
     "status": "ok",
     "timestamp": 1660916038928,
     "user": {
      "displayName": "Salma BELHADJ ALI",
      "userId": "15118588427645427858"
     },
     "user_tz": -60
    },
    "id": "vj0ed_s37g5g"
   },
   "outputs": [
    {
     "name": "stdout",
     "output_type": "stream",
     "text": [
      "['i', 'me', 'my', 'myself', 'we', 'our', 'ours', 'ourselves', 'you', \"you're\", \"you've\", \"you'll\", \"you'd\", 'your', 'yours', 'yourself', 'yourselves', 'he', 'him', 'his', 'himself', 'she', \"she's\", 'her', 'hers', 'herself', 'it', \"it's\", 'its', 'itself', 'they', 'them', 'their', 'theirs', 'themselves', 'what', 'which', 'who', 'whom', 'this', 'that', \"that'll\", 'these', 'those', 'am', 'is', 'are', 'was', 'were', 'be', 'been', 'being', 'have', 'has', 'had', 'having', 'do', 'does', 'did', 'doing', 'a', 'an', 'the', 'and', 'but', 'if', 'or', 'because', 'as', 'until', 'while', 'of', 'at', 'by', 'for', 'with', 'about', 'against', 'between', 'into', 'through', 'during', 'before', 'after', 'above', 'below', 'to', 'from', 'up', 'down', 'in', 'out', 'on', 'off', 'over', 'under', 'again', 'further', 'then', 'once', 'here', 'there', 'when', 'where', 'why', 'how', 'all', 'any', 'both', 'each', 'few', 'more', 'most', 'other', 'some', 'such', 'no', 'nor', 'not', 'only', 'own', 'same', 'so', 'than', 'too', 'very', 's', 't', 'can', 'will', 'just', 'don', \"don't\", 'should', \"should've\", 'now', 'd', 'll', 'm', 'o', 're', 've', 'y', 'ain', 'aren', \"aren't\", 'couldn', \"couldn't\", 'didn', \"didn't\", 'doesn', \"doesn't\", 'hadn', \"hadn't\", 'hasn', \"hasn't\", 'haven', \"haven't\", 'isn', \"isn't\", 'ma', 'mightn', \"mightn't\", 'mustn', \"mustn't\", 'needn', \"needn't\", 'shan', \"shan't\", 'shouldn', \"shouldn't\", 'wasn', \"wasn't\", 'weren', \"weren't\", 'won', \"won't\", 'wouldn', \"wouldn't\"]\n"
     ]
    }
   ],
   "source": [
    "#Make a list of french stopwordf2\n",
    "stopwords = nltk.corpus.stopwords.words(\"english\")\n",
    "print(stopwords)\n",
    "#Extend the list with your own custom stopwordf2\n",
    "my_stopwords = ['person','find','really','would','story','books','one']\n",
    "stopwords.extend(my_stopwords)"
   ]
  },
  {
   "cell_type": "code",
   "execution_count": 17,
   "id": "t0QF-T158Ca2",
   "metadata": {
    "colab": {
     "base_uri": "https://localhost:8080/"
    },
    "executionInfo": {
     "elapsed": 11,
     "status": "ok",
     "timestamp": 1660916040146,
     "user": {
      "displayName": "Salma BELHADJ ALI",
      "userId": "15118588427645427858"
     },
     "user_tz": -60
    },
    "id": "t0QF-T158Ca2",
    "outputId": "aae05b18-e95e-4a8b-de14-e9e32416d753"
   },
   "outputs": [
    {
     "data": {
      "text/plain": [
       "['not', 'many', 'tips', 'on', 'how', 'to', 'deliver', 'a', 'good', 'story']"
      ]
     },
     "execution_count": 17,
     "metadata": {},
     "output_type": "execute_result"
    }
   ],
   "source": [
    "df2.loc[0,'Reviews_preprocessing']"
   ]
  },
  {
   "cell_type": "code",
   "execution_count": 18,
   "id": "GOangRIJ8bqw",
   "metadata": {
    "colab": {
     "base_uri": "https://localhost:8080/"
    },
    "executionInfo": {
     "elapsed": 9,
     "status": "ok",
     "timestamp": 1660916040146,
     "user": {
      "displayName": "Salma BELHADJ ALI",
      "userId": "15118588427645427858"
     },
     "user_tz": -60
    },
    "id": "GOangRIJ8bqw",
    "outputId": "48441304-654a-4480-a016-f488c1b331de"
   },
   "outputs": [
    {
     "data": {
      "text/plain": [
       "['many', 'tips', 'deliver', 'good']"
      ]
     },
     "execution_count": 18,
     "metadata": {},
     "output_type": "execute_result"
    }
   ],
   "source": [
    "#Remove stopwordf2\n",
    "df2['Reviews_preprocessing'] = df2['Reviews_preprocessing'].apply(lambda x: [item for item in x if item not in stopwords])\n",
    "df2.loc[0,'Reviews_preprocessing']"
   ]
  },
  {
   "cell_type": "code",
   "execution_count": 19,
   "id": "_uSzYDlw8-rL",
   "metadata": {
    "colab": {
     "base_uri": "https://localhost:8080/"
    },
    "executionInfo": {
     "elapsed": 6,
     "status": "ok",
     "timestamp": 1660916040146,
     "user": {
      "displayName": "Salma BELHADJ ALI",
      "userId": "15118588427645427858"
     },
     "user_tz": -60
    },
    "id": "_uSzYDlw8-rL",
    "outputId": "521a1ea5-6dcd-4495-f0ef-8ee4b3d27ad9"
   },
   "outputs": [
    {
     "data": {
      "text/plain": [
       "['many', 'tips', 'deliver', 'good']"
      ]
     },
     "execution_count": 19,
     "metadata": {},
     "output_type": "execute_result"
    }
   ],
   "source": [
    "#Change the format of tokens to strings and keep only wordf2 which are longer than 2 letters\n",
    "df2['Reviews_preprocessing'] = df2['Reviews_preprocessing'].apply(lambda x: [item for item in x if len(item)>2])\n",
    "df2['Reviews_preprocessing'].iloc[0]"
   ]
  },
  {
   "cell_type": "code",
   "execution_count": 20,
   "id": "UUb5aFHr-yXz",
   "metadata": {
    "colab": {
     "base_uri": "https://localhost:8080/"
    },
    "executionInfo": {
     "elapsed": 4,
     "status": "ok",
     "timestamp": 1660916040146,
     "user": {
      "displayName": "Salma BELHADJ ALI",
      "userId": "15118588427645427858"
     },
     "user_tz": -60
    },
    "id": "UUb5aFHr-yXz",
    "outputId": "3281ed19-1559-4b7c-e350-9ace74c036be"
   },
   "outputs": [
    {
     "name": "stderr",
     "output_type": "stream",
     "text": [
      "[nltk_data] Downloading package punkt to\n",
      "[nltk_data]     C:\\Users\\Lenovo\\AppData\\Roaming\\nltk_data...\n",
      "[nltk_data]   Package punkt is already up-to-date!\n"
     ]
    },
    {
     "data": {
      "text/plain": [
       "True"
      ]
     },
     "execution_count": 20,
     "metadata": {},
     "output_type": "execute_result"
    }
   ],
   "source": [
    "#Infrequent wordf2\n",
    "nltk.download('punkt')"
   ]
  },
  {
   "cell_type": "code",
   "execution_count": 21,
   "id": "ZlQCpZOiJtW6",
   "metadata": {
    "colab": {
     "base_uri": "https://localhost:8080/"
    },
    "executionInfo": {
     "elapsed": 529,
     "status": "ok",
     "timestamp": 1660916270806,
     "user": {
      "displayName": "Salma BELHADJ ALI",
      "userId": "15118588427645427858"
     },
     "user_tz": -60
    },
    "id": "ZlQCpZOiJtW6",
    "outputId": "44f61339-453b-45a6-e8c6-875f569a8eed"
   },
   "outputs": [
    {
     "data": {
      "text/plain": [
       "0                              [many, tips, deliver, good]\n",
       "1                                       [book, leapt, top]\n",
       "2                                                 [better]\n",
       "3                                     [thought, provoking]\n",
       "4                         [voice, gave, massive, headache]\n",
       "                               ...                        \n",
       "18573    [genius, richard, attenborough, beyond, belief...\n",
       "18574    [good, thing, disappointed, book, ended, writt...\n",
       "18575    [intrigued, laughing, whole, way, always, fan,...\n",
       "18576    [spellbinding, loved, book, interesting, see, ...\n",
       "18577    [absolutely, uplifting, thoroughly, enjoyable,...\n",
       "Name: Reviews_preprocessing, Length: 18578, dtype: object"
      ]
     },
     "execution_count": 21,
     "metadata": {},
     "output_type": "execute_result"
    }
   ],
   "source": [
    "df2['Reviews_preprocessing']"
   ]
  },
  {
   "cell_type": "code",
   "execution_count": 22,
   "id": "1dcd90b0-ab9f-4d89-92d1-40e06782311d",
   "metadata": {},
   "outputs": [
    {
     "data": {
      "text/plain": [
       "'many tips deliver good'"
      ]
     },
     "execution_count": 22,
     "metadata": {},
     "output_type": "execute_result"
    }
   ],
   "source": [
    "df2['Reviews_preprocessing'] = df2['Reviews_preprocessing'].apply(lambda x: ' '.join([i for i in x if i not in string.punctuation]))\n",
    "df2.loc[0,'Reviews_preprocessing']"
   ]
  },
  {
   "cell_type": "code",
   "execution_count": 23,
   "id": "9529e336-6c00-45a1-a1c9-5342c331f56d",
   "metadata": {},
   "outputs": [
    {
     "data": {
      "text/plain": [
       "0                                   many tips deliver good\n",
       "1                                           book leapt top\n",
       "2                                                   better\n",
       "3                                        thought provoking\n",
       "4                              voice gave massive headache\n",
       "                               ...                        \n",
       "18573    genius richard attenborough beyond belief inte...\n",
       "18574    good thing disappointed book ended written spe...\n",
       "18575    intrigued laughing whole way always fan man pr...\n",
       "18576    spellbinding loved book interesting see evolut...\n",
       "18577    absolutely uplifting thoroughly enjoyable adve...\n",
       "Name: Reviews_preprocessing, Length: 18578, dtype: object"
      ]
     },
     "execution_count": 23,
     "metadata": {},
     "output_type": "execute_result"
    }
   ],
   "source": [
    "df2['Reviews_preprocessing']"
   ]
  },
  {
   "cell_type": "code",
   "execution_count": 24,
   "id": "100b86ae-42cc-4df6-803c-59be31192bbd",
   "metadata": {
    "colab": {
     "base_uri": "https://localhost:8080/"
    },
    "executionInfo": {
     "elapsed": 5,
     "status": "ok",
     "timestamp": 1660916047218,
     "user": {
      "displayName": "Salma BELHADJ ALI",
      "userId": "15118588427645427858"
     },
     "user_tz": -60
    },
    "id": "R0la5Qh5I-H4",
    "outputId": "24fd7f04-ab15-4049-d7b5-5b5d53bddc4a"
   },
   "outputs": [],
   "source": [
    "all_wordf2=[]\n",
    "for i in df2.index:\n",
    "    all_wordf2.append(''.join(df2['Reviews_preprocessing'][i]))\n"
   ]
  },
  {
   "cell_type": "code",
   "execution_count": 25,
   "id": "Rj8GKzQY9lJQ",
   "metadata": {
    "colab": {
     "base_uri": "https://localhost:8080/"
    },
    "executionInfo": {
     "elapsed": 23,
     "status": "ok",
     "timestamp": 1660916050591,
     "user": {
      "displayName": "Salma BELHADJ ALI",
      "userId": "15118588427645427858"
     },
     "user_tz": -60
    },
    "id": "Rj8GKzQY9lJQ",
    "outputId": "e8202946-3c0c-45c2-f4a6-f2c00f9b726b"
   },
   "outputs": [
    {
     "data": {
      "text/plain": [
       "FreqDist({'book': 18910, 'read': 5507, 'like': 3972, 'great': 3876, 'good': 3707, 'listen': 3417, 'life': 2845, 'well': 2789, 'much': 2612, 'time': 2601, ...})"
      ]
     },
     "execution_count": 25,
     "metadata": {},
     "output_type": "execute_result"
    }
   ],
   "source": [
    "#Create a list of all wordf2\n",
    "all_wordf2 = ''.join([word for word in all_wordf2])\n",
    "#Tokenize all_wordf2\n",
    "tokenized_wordf2 = nltk.tokenize.word_tokenize(str(all_wordf2))\n",
    "# #Create a frequency distribution which recordf2 the number of times each word has occurred :\n",
    "fdist = FreqDist(tokenized_wordf2)\n",
    "fdist"
   ]
  },
  {
   "cell_type": "code",
   "execution_count": 26,
   "id": "m80Zy__oIZTS",
   "metadata": {
    "colab": {
     "base_uri": "https://localhost:8080/"
    },
    "executionInfo": {
     "elapsed": 22,
     "status": "ok",
     "timestamp": 1660916050592,
     "user": {
      "displayName": "Salma BELHADJ ALI",
      "userId": "15118588427645427858"
     },
     "user_tz": -60
    },
    "id": "m80Zy__oIZTS",
    "outputId": "0ae2ec44-ce13-4f34-d2ca-1c65d970e7ad"
   },
   "outputs": [
    {
     "data": {
      "text/plain": [
       "[('book', 18910), ('read', 5507), ('like', 3972)]"
      ]
     },
     "execution_count": 26,
     "metadata": {},
     "output_type": "execute_result"
    }
   ],
   "source": [
    "#Top 3 common wordf2 in our reviews\n",
    "fdist.most_common(3)"
   ]
  },
  {
   "cell_type": "code",
   "execution_count": 27,
   "id": "kPSwIm0C1MOy",
   "metadata": {
    "colab": {
     "base_uri": "https://localhost:8080/",
     "height": 268
    },
    "executionInfo": {
     "elapsed": 17,
     "status": "ok",
     "timestamp": 1660916050592,
     "user": {
      "displayName": "Salma BELHADJ ALI",
      "userId": "15118588427645427858"
     },
     "user_tz": -60
    },
    "id": "kPSwIm0C1MOy",
    "outputId": "e13ecfbb-8fc0-4c53-c202-2865f5008c32"
   },
   "outputs": [
    {
     "data": {
      "image/png": "[encoded data removed]",
      "text/plain": [
       "<Figure size 432x288 with 1 Axes>"
      ]
     },
     "metadata": {},
     "output_type": "display_data"
    }
   ],
   "source": [
    "#Plot common wordf2\n",
    "#Obtain top 10 wordf2\n",
    "top_10 = fdist.most_common(10)\n",
    "#Create pandas series to make plotting easier\n",
    "fd = pd.Series(dict(top_10))\n",
    "sns.set_theme(style=\"ticks\")\n",
    "sns.barplot(y=fd.index, x=fd.values, color='blue');"
   ]
  },
  {
   "cell_type": "code",
   "execution_count": 28,
   "id": "8taOiF8B-2mJ",
   "metadata": {
    "id": "8taOiF8B-2mJ"
   },
   "outputs": [],
   "source": [
    "#Drop wordf2 which occur less than a certain amount of times\n",
    "# df2['Reviews'] = df2['Reviews'].apply(lambda x: ' '.join([item for item in x if fdist[item] >= 1 ]))\n",
    "# df2['Reviews']"
   ]
  },
  {
   "cell_type": "code",
   "execution_count": 29,
   "id": "Ye-9zLR5E0g9",
   "metadata": {
    "colab": {
     "base_uri": "https://localhost:8080/"
    },
    "executionInfo": {
     "elapsed": 6,
     "status": "ok",
     "timestamp": 1660916090427,
     "user": {
      "displayName": "Salma BELHADJ ALI",
      "userId": "15118588427645427858"
     },
     "user_tz": -60
    },
    "id": "Ye-9zLR5E0g9",
    "outputId": "cba93f3d-47ee-4d15-dd91-fce35a803e00"
   },
   "outputs": [
    {
     "name": "stderr",
     "output_type": "stream",
     "text": [
      "[nltk_data] Downloading package wordnet to\n",
      "[nltk_data]     C:\\Users\\Lenovo\\AppData\\Roaming\\nltk_data...\n",
      "[nltk_data]   Package wordnet is already up-to-date!\n",
      "[nltk_data] Downloading package omw-1.4 to\n",
      "[nltk_data]     C:\\Users\\Lenovo\\AppData\\Roaming\\nltk_data...\n",
      "[nltk_data]   Package omw-1.4 is already up-to-date!\n"
     ]
    },
    {
     "data": {
      "text/plain": [
       "True"
      ]
     },
     "execution_count": 29,
     "metadata": {},
     "output_type": "execute_result"
    }
   ],
   "source": [
    "#Lemmatization\n",
    "nltk.download('wordnet')\n",
    "nltk.download('omw-1.4')"
   ]
  },
  {
   "cell_type": "code",
   "execution_count": 30,
   "id": "mDRl3hq9FCPk",
   "metadata": {
    "colab": {
     "base_uri": "https://localhost:8080/",
     "height": 346
    },
    "executionInfo": {
     "elapsed": 462,
     "status": "error",
     "timestamp": 1660916356917,
     "user": {
      "displayName": "Salma BELHADJ ALI",
      "userId": "15118588427645427858"
     },
     "user_tz": -60
    },
    "id": "mDRl3hq9FCPk",
    "outputId": "7247deef-953d-4a7e-e771-ae35ce94e5b6"
   },
   "outputs": [],
   "source": [
    "#Apply lemmatization\n",
    "wordnet_lem = WordNetLemmatizer()\n",
    "df2['Reviews_preprocessing'] = df2['Reviews_preprocessing'].apply(wordnet_lem.lemmatize)"
   ]
  },
  {
   "cell_type": "code",
   "execution_count": 31,
   "id": "m3ZCLVaiGw8F",
   "metadata": {
    "colab": {
     "base_uri": "https://localhost:8080/"
    },
    "executionInfo": {
     "elapsed": 424,
     "status": "ok",
     "timestamp": 1660910782915,
     "user": {
      "displayName": "Salma BELHADJ ALI",
      "userId": "15118588427645427858"
     },
     "user_tz": -60
    },
    "id": "m3ZCLVaiGw8F",
    "outputId": "933d8521-beb4-4804-a464-b32e75e2fad0"
   },
   "outputs": [
    {
     "data": {
      "text/plain": [
       "0                                   many tips deliver good\n",
       "1                                           book leapt top\n",
       "2                                                   better\n",
       "3                                        thought provoking\n",
       "4                              voice gave massive headache\n",
       "                               ...                        \n",
       "18573    genius richard attenborough beyond belief inte...\n",
       "18574    good thing disappointed book ended written spe...\n",
       "18575    intrigued laughing whole way always fan man pr...\n",
       "18576    spellbinding loved book interesting see evolut...\n",
       "18577    absolutely uplifting thoroughly enjoyable adve...\n",
       "Name: Reviews_preprocessing, Length: 18578, dtype: object"
      ]
     },
     "execution_count": 31,
     "metadata": {},
     "output_type": "execute_result"
    }
   ],
   "source": [
    "#View results\n",
    "df2['Reviews_preprocessing']"
   ]
  },
  {
   "cell_type": "code",
   "execution_count": 32,
   "id": "SFkS53G7Hfbb",
   "metadata": {
    "colab": {
     "base_uri": "https://localhost:8080/"
    },
    "executionInfo": {
     "elapsed": 983,
     "status": "ok",
     "timestamp": 1660910789739,
     "user": {
      "displayName": "Salma BELHADJ ALI",
      "userId": "15118588427645427858"
     },
     "user_tz": -60
    },
    "id": "SFkS53G7Hfbb",
    "outputId": "5fc3ed8e-fcdd-44f9-be14-1bd394ab928b"
   },
   "outputs": [
    {
     "name": "stderr",
     "output_type": "stream",
     "text": [
      "[nltk_data] Downloading package vader_lexicon to\n",
      "[nltk_data]     C:\\Users\\Lenovo\\AppData\\Roaming\\nltk_data...\n",
      "[nltk_data]   Package vader_lexicon is already up-to-date!\n"
     ]
    },
    {
     "data": {
      "text/plain": [
       "True"
      ]
     },
     "execution_count": 32,
     "metadata": {},
     "output_type": "execute_result"
    }
   ],
   "source": [
    "#Sentiment Analysis\n",
    "nltk.download('vader_lexicon')"
   ]
  },
  {
   "cell_type": "code",
   "execution_count": 33,
   "id": "6Gb_3FRx7SUV",
   "metadata": {
    "id": "6Gb_3FRx7SUV"
   },
   "outputs": [],
   "source": [
    "#Word Cloud\n",
    "all_wordf2_lem = ' '.join([word for word in df2['Reviews_preprocessing']])"
   ]
  },
  {
   "cell_type": "code",
   "execution_count": 34,
   "id": "Ikm1SQgw0NCV",
   "metadata": {
    "colab": {
     "base_uri": "https://localhost:8080/",
     "height": 403
    },
    "id": "Ikm1SQgw0NCV",
    "outputId": "7f5eeb21-49ea-4bca-8893-5edbc09201a7"
   },
   "outputs": [
    {
     "data": {
      "image/png": "[encoded data removed]",
      "text/plain": [
       "<Figure size 720x504 with 1 Axes>"
      ]
     },
     "metadata": {},
     "output_type": "display_data"
    }
   ],
   "source": [
    "wordcloud = WordCloud(width=600, \n",
    "                     height=400, \n",
    "                     random_state=2, \n",
    "                     max_font_size=100).generate(all_wordf2_lem)\n",
    "\n",
    "plt.figure(figsize=(10, 7))\n",
    "plt.imshow(wordcloud, interpolation='bilinear')\n",
    "plt.axis('off')\n",
    "plt.show()"
   ]
  },
  {
   "cell_type": "code",
   "execution_count": 35,
   "id": "HlPC9q2n0zCe",
   "metadata": {
    "colab": {
     "base_uri": "https://localhost:8080/",
     "height": 248
    },
    "id": "HlPC9q2n0zCe",
    "outputId": "ec8ad048-1726-4a82-c08c-aa8e1481d32c"
   },
   "outputs": [
    {
     "data": {
      "image/png": "[encoded data removed]",
      "text/plain": [
       "<Figure size 432x288 with 1 Axes>"
      ]
     },
     "metadata": {},
     "output_type": "display_data"
    }
   ],
   "source": [
    "#Different style of word cloud to use\n",
    "x, y = np.ogrid[:300, :300]\n",
    "mask = (x - 150) ** 2 + (y - 150) ** 2 > 130 ** 2\n",
    "mask = 255 * mask.astype(int)\n",
    "\n",
    "wc = WordCloud(background_color=\"white\", repeat=True, mask=mask)\n",
    "wc.generate(all_wordf2_lem)\n",
    "\n",
    "plt.axis(\"off\")\n",
    "plt.imshow(wc, interpolation=\"bilinear\");"
   ]
  },
  {
   "cell_type": "code",
   "execution_count": 36,
   "id": "d206892e-130a-4d16-b8a0-f4145934225c",
   "metadata": {},
   "outputs": [
    {
     "data": {
      "text/plain": [
       "<AxesSubplot:>"
      ]
     },
     "execution_count": 36,
     "metadata": {},
     "output_type": "execute_result"
    },
    {
     "data": {
      "image/png": "[encoded data removed]",
      "text/plain": [
       "<Figure size 432x288 with 1 Axes>"
      ]
     },
     "metadata": {},
     "output_type": "display_data"
    }
   ],
   "source": [
    "df2['Rating'].value_counts().plot.bar(color='#b2d8d8')"
   ]
  },
  {
   "cell_type": "markdown",
   "id": "u7NV6Jmkopaa",
   "metadata": {
    "id": "u7NV6Jmkopaa"
   },
   "source": [
    "# Modeling"
   ]
  },
  {
   "cell_type": "markdown",
   "id": "56d1c449-9bb6-41f5-ad04-9c198099e72a",
   "metadata": {},
   "source": [
    "#### Textblob (Rule-based methods):\n",
    "\n",
    "    "
   ]
  },
  {
   "cell_type": "code",
   "execution_count": 37,
   "id": "69ef7cb9-7630-4a26-8ece-4123622939c0",
   "metadata": {},
   "outputs": [],
   "source": [
    "def textblob_score(sentence):\n",
    "    return TextBlob(sentence).polarity"
   ]
  },
  {
   "cell_type": "code",
   "execution_count": 38,
   "id": "6eb5bfce-e216-4361-b743-25d040729daa",
   "metadata": {},
   "outputs": [],
   "source": [
    "dfm1=df2.copy()"
   ]
  },
  {
   "cell_type": "code",
   "execution_count": 126,
   "id": "853eb0c0-6ecc-4199-adb3-9118d78cb452",
   "metadata": {},
   "outputs": [
    {
     "name": "stdout",
     "output_type": "stream",
     "text": [
      "Title                    object\n",
      "Reviews                  object\n",
      "Rating                   object\n",
      "Reviews_preprocessing    object\n",
      "dtype: object\n"
     ]
    }
   ],
   "source": [
    "print(dfm1.dtypes)"
   ]
  },
  {
   "cell_type": "code",
   "execution_count": 146,
   "id": "3bb2c57f-65a1-4e6f-96b5-fe22291ae590",
   "metadata": {},
   "outputs": [
    {
     "data": {
      "text/html": [
       "<div>\n",
       "<style scoped>\n",
       "    .dataframe tbody tr th:only-of-type {\n",
       "        vertical-align: middle;\n",
       "    }\n",
       "\n",
       "    .dataframe tbody tr th {\n",
       "        vertical-align: top;\n",
       "    }\n",
       "\n",
       "    .dataframe thead th {\n",
       "        text-align: right;\n",
       "    }\n",
       "</style>\n",
       "<table border=\"1\" class=\"dataframe\">\n",
       "  <thead>\n",
       "    <tr style=\"text-align: right;\">\n",
       "      <th></th>\n",
       "      <th>Title</th>\n",
       "      <th>Reviews</th>\n",
       "      <th>Rating</th>\n",
       "      <th>Reviews_preprocessing</th>\n",
       "      <th>Sentiment</th>\n",
       "      <th>Rating_pred_textblob</th>\n",
       "      <th>textblob_score</th>\n",
       "    </tr>\n",
       "  </thead>\n",
       "  <tbody>\n",
       "    <tr>\n",
       "      <th>0</th>\n",
       "      <td>Storyworthy</td>\n",
       "      <td>not many tips on how to deliver a good story</td>\n",
       "      <td>2</td>\n",
       "      <td>many tips deliver good</td>\n",
       "      <td>Positive</td>\n",
       "      <td>4</td>\n",
       "      <td>0.600000</td>\n",
       "    </tr>\n",
       "    <tr>\n",
       "      <th>1</th>\n",
       "      <td>Storyworthy</td>\n",
       "      <td>This book leapt into my top 5</td>\n",
       "      <td>5</td>\n",
       "      <td>book leapt top</td>\n",
       "      <td>Positive</td>\n",
       "      <td>4</td>\n",
       "      <td>0.500000</td>\n",
       "    </tr>\n",
       "    <tr>\n",
       "      <th>2</th>\n",
       "      <td>Storyworthy</td>\n",
       "      <td>There are better books On Story then this</td>\n",
       "      <td>1</td>\n",
       "      <td>better</td>\n",
       "      <td>Positive</td>\n",
       "      <td>4</td>\n",
       "      <td>0.500000</td>\n",
       "    </tr>\n",
       "    <tr>\n",
       "      <th>3</th>\n",
       "      <td>Storyworthy</td>\n",
       "      <td>Thought provoking</td>\n",
       "      <td>5</td>\n",
       "      <td>thought provoking</td>\n",
       "      <td>Neutral</td>\n",
       "      <td>3</td>\n",
       "      <td>0.000000</td>\n",
       "    </tr>\n",
       "    <tr>\n",
       "      <th>4</th>\n",
       "      <td>Storyworthy</td>\n",
       "      <td>his voice gave me a massive headache</td>\n",
       "      <td>1</td>\n",
       "      <td>voice gave massive headache</td>\n",
       "      <td>Neutral</td>\n",
       "      <td>3</td>\n",
       "      <td>0.000000</td>\n",
       "    </tr>\n",
       "    <tr>\n",
       "      <th>...</th>\n",
       "      <td>...</td>\n",
       "      <td>...</td>\n",
       "      <td>...</td>\n",
       "      <td>...</td>\n",
       "      <td>...</td>\n",
       "      <td>...</td>\n",
       "      <td>...</td>\n",
       "    </tr>\n",
       "    <tr>\n",
       "      <th>18573</th>\n",
       "      <td>David Attenborough: The Early Years Collection</td>\n",
       "      <td>Genius Richard Attenborough is beyond belief ...</td>\n",
       "      <td>5</td>\n",
       "      <td>genius richard attenborough beyond belief inte...</td>\n",
       "      <td>Positive</td>\n",
       "      <td>4</td>\n",
       "      <td>0.483333</td>\n",
       "    </tr>\n",
       "    <tr>\n",
       "      <th>18574</th>\n",
       "      <td>David Attenborough: The Early Years Collection</td>\n",
       "      <td>Too good There is only one thing which disapp...</td>\n",
       "      <td>5</td>\n",
       "      <td>good thing disappointed book ended written spe...</td>\n",
       "      <td>Positive</td>\n",
       "      <td>4</td>\n",
       "      <td>0.270000</td>\n",
       "    </tr>\n",
       "    <tr>\n",
       "      <th>18575</th>\n",
       "      <td>David Attenborough: The Early Years Collection</td>\n",
       "      <td>Had me intrigued and laughing the whole way I...</td>\n",
       "      <td>5</td>\n",
       "      <td>intrigued laughing whole way always fan man pr...</td>\n",
       "      <td>Positive</td>\n",
       "      <td>4</td>\n",
       "      <td>0.377273</td>\n",
       "    </tr>\n",
       "    <tr>\n",
       "      <th>18576</th>\n",
       "      <td>David Attenborough: The Early Years Collection</td>\n",
       "      <td>Spellbinding Loved this book So interesting t...</td>\n",
       "      <td>5</td>\n",
       "      <td>spellbinding loved book interesting see evolut...</td>\n",
       "      <td>Positive</td>\n",
       "      <td>4</td>\n",
       "      <td>0.600000</td>\n",
       "    </tr>\n",
       "    <tr>\n",
       "      <th>18577</th>\n",
       "      <td>David Attenborough: The Early Years Collection</td>\n",
       "      <td>Absolutely uplifting and thoroughly enjoyable...</td>\n",
       "      <td>5</td>\n",
       "      <td>absolutely uplifting thoroughly enjoyable adve...</td>\n",
       "      <td>Positive</td>\n",
       "      <td>4</td>\n",
       "      <td>0.350000</td>\n",
       "    </tr>\n",
       "  </tbody>\n",
       "</table>\n",
       "<p>18578 rows × 7 columns</p>\n",
       "</div>"
      ],
      "text/plain": [
       "                                                Title  \\\n",
       "0                                         Storyworthy   \n",
       "1                                         Storyworthy   \n",
       "2                                         Storyworthy   \n",
       "3                                         Storyworthy   \n",
       "4                                         Storyworthy   \n",
       "...                                               ...   \n",
       "18573  David Attenborough: The Early Years Collection   \n",
       "18574  David Attenborough: The Early Years Collection   \n",
       "18575  David Attenborough: The Early Years Collection   \n",
       "18576  David Attenborough: The Early Years Collection   \n",
       "18577  David Attenborough: The Early Years Collection   \n",
       "\n",
       "                                                 Reviews Rating  \\\n",
       "0          not many tips on how to deliver a good story      2    \n",
       "1                         This book leapt into my top 5      5    \n",
       "2             There are better books On Story then this      1    \n",
       "3                                     Thought provoking      5    \n",
       "4                  his voice gave me a massive headache      1    \n",
       "...                                                  ...    ...   \n",
       "18573   Genius Richard Attenborough is beyond belief ...     5    \n",
       "18574   Too good There is only one thing which disapp...     5    \n",
       "18575   Had me intrigued and laughing the whole way I...     5    \n",
       "18576   Spellbinding Loved this book So interesting t...     5    \n",
       "18577   Absolutely uplifting and thoroughly enjoyable...     5    \n",
       "\n",
       "                                   Reviews_preprocessing Sentiment  \\\n",
       "0                                 many tips deliver good  Positive   \n",
       "1                                         book leapt top  Positive   \n",
       "2                                                 better  Positive   \n",
       "3                                      thought provoking   Neutral   \n",
       "4                            voice gave massive headache   Neutral   \n",
       "...                                                  ...       ...   \n",
       "18573  genius richard attenborough beyond belief inte...  Positive   \n",
       "18574  good thing disappointed book ended written spe...  Positive   \n",
       "18575  intrigued laughing whole way always fan man pr...  Positive   \n",
       "18576  spellbinding loved book interesting see evolut...  Positive   \n",
       "18577  absolutely uplifting thoroughly enjoyable adve...  Positive   \n",
       "\n",
       "      Rating_pred_textblob  textblob_score  \n",
       "0                        4        0.600000  \n",
       "1                        4        0.500000  \n",
       "2                        4        0.500000  \n",
       "3                        3        0.000000  \n",
       "4                        3        0.000000  \n",
       "...                    ...             ...  \n",
       "18573                    4        0.483333  \n",
       "18574                    4        0.270000  \n",
       "18575                    4        0.377273  \n",
       "18576                    4        0.600000  \n",
       "18577                    4        0.350000  \n",
       "\n",
       "[18578 rows x 7 columns]"
      ]
     },
     "execution_count": 146,
     "metadata": {},
     "output_type": "execute_result"
    }
   ],
   "source": [
    "# Convert textblob sentiment score\n",
    "dfm1['textblob_score'] = dfm1['Reviews_preprocessing'].apply(textblob_score)\n",
    "dfm1"
   ]
  },
  {
   "cell_type": "code",
   "execution_count": 147,
   "id": "65671302-168b-4f3e-a91d-a322abf2e8d9",
   "metadata": {},
   "outputs": [],
   "source": [
    "dfm1['Sentiment'] = dfm1['textblob_score'].apply(lambda x: 'Positive' if x >0 else 'Neutral' if x==0 else 'Negative')"
   ]
  },
  {
   "cell_type": "code",
   "execution_count": 148,
   "id": "d6ed9cbf-748e-4d0f-abea-7fe0642b0056",
   "metadata": {},
   "outputs": [
    {
     "data": {
      "text/html": [
       "<div>\n",
       "<style scoped>\n",
       "    .dataframe tbody tr th:only-of-type {\n",
       "        vertical-align: middle;\n",
       "    }\n",
       "\n",
       "    .dataframe tbody tr th {\n",
       "        vertical-align: top;\n",
       "    }\n",
       "\n",
       "    .dataframe thead th {\n",
       "        text-align: right;\n",
       "    }\n",
       "</style>\n",
       "<table border=\"1\" class=\"dataframe\">\n",
       "  <thead>\n",
       "    <tr style=\"text-align: right;\">\n",
       "      <th></th>\n",
       "      <th>Title</th>\n",
       "      <th>Reviews</th>\n",
       "      <th>Rating</th>\n",
       "      <th>Reviews_preprocessing</th>\n",
       "      <th>Sentiment</th>\n",
       "      <th>Rating_pred_textblob</th>\n",
       "    </tr>\n",
       "  </thead>\n",
       "  <tbody>\n",
       "    <tr>\n",
       "      <th>0</th>\n",
       "      <td>Storyworthy</td>\n",
       "      <td>not many tips on how to deliver a good story</td>\n",
       "      <td>2</td>\n",
       "      <td>many tips deliver good</td>\n",
       "      <td>Positive</td>\n",
       "      <td>4</td>\n",
       "    </tr>\n",
       "    <tr>\n",
       "      <th>1</th>\n",
       "      <td>Storyworthy</td>\n",
       "      <td>This book leapt into my top 5</td>\n",
       "      <td>5</td>\n",
       "      <td>book leapt top</td>\n",
       "      <td>Positive</td>\n",
       "      <td>4</td>\n",
       "    </tr>\n",
       "    <tr>\n",
       "      <th>2</th>\n",
       "      <td>Storyworthy</td>\n",
       "      <td>There are better books On Story then this</td>\n",
       "      <td>1</td>\n",
       "      <td>better</td>\n",
       "      <td>Positive</td>\n",
       "      <td>4</td>\n",
       "    </tr>\n",
       "    <tr>\n",
       "      <th>3</th>\n",
       "      <td>Storyworthy</td>\n",
       "      <td>Thought provoking</td>\n",
       "      <td>5</td>\n",
       "      <td>thought provoking</td>\n",
       "      <td>Neutral</td>\n",
       "      <td>3</td>\n",
       "    </tr>\n",
       "    <tr>\n",
       "      <th>4</th>\n",
       "      <td>Storyworthy</td>\n",
       "      <td>his voice gave me a massive headache</td>\n",
       "      <td>1</td>\n",
       "      <td>voice gave massive headache</td>\n",
       "      <td>Neutral</td>\n",
       "      <td>3</td>\n",
       "    </tr>\n",
       "    <tr>\n",
       "      <th>...</th>\n",
       "      <td>...</td>\n",
       "      <td>...</td>\n",
       "      <td>...</td>\n",
       "      <td>...</td>\n",
       "      <td>...</td>\n",
       "      <td>...</td>\n",
       "    </tr>\n",
       "    <tr>\n",
       "      <th>18573</th>\n",
       "      <td>David Attenborough: The Early Years Collection</td>\n",
       "      <td>Genius Richard Attenborough is beyond belief ...</td>\n",
       "      <td>5</td>\n",
       "      <td>genius richard attenborough beyond belief inte...</td>\n",
       "      <td>Positive</td>\n",
       "      <td>4</td>\n",
       "    </tr>\n",
       "    <tr>\n",
       "      <th>18574</th>\n",
       "      <td>David Attenborough: The Early Years Collection</td>\n",
       "      <td>Too good There is only one thing which disapp...</td>\n",
       "      <td>5</td>\n",
       "      <td>good thing disappointed book ended written spe...</td>\n",
       "      <td>Positive</td>\n",
       "      <td>4</td>\n",
       "    </tr>\n",
       "    <tr>\n",
       "      <th>18575</th>\n",
       "      <td>David Attenborough: The Early Years Collection</td>\n",
       "      <td>Had me intrigued and laughing the whole way I...</td>\n",
       "      <td>5</td>\n",
       "      <td>intrigued laughing whole way always fan man pr...</td>\n",
       "      <td>Positive</td>\n",
       "      <td>4</td>\n",
       "    </tr>\n",
       "    <tr>\n",
       "      <th>18576</th>\n",
       "      <td>David Attenborough: The Early Years Collection</td>\n",
       "      <td>Spellbinding Loved this book So interesting t...</td>\n",
       "      <td>5</td>\n",
       "      <td>spellbinding loved book interesting see evolut...</td>\n",
       "      <td>Positive</td>\n",
       "      <td>4</td>\n",
       "    </tr>\n",
       "    <tr>\n",
       "      <th>18577</th>\n",
       "      <td>David Attenborough: The Early Years Collection</td>\n",
       "      <td>Absolutely uplifting and thoroughly enjoyable...</td>\n",
       "      <td>5</td>\n",
       "      <td>absolutely uplifting thoroughly enjoyable adve...</td>\n",
       "      <td>Positive</td>\n",
       "      <td>4</td>\n",
       "    </tr>\n",
       "  </tbody>\n",
       "</table>\n",
       "<p>18578 rows × 6 columns</p>\n",
       "</div>"
      ],
      "text/plain": [
       "                                                Title  \\\n",
       "0                                         Storyworthy   \n",
       "1                                         Storyworthy   \n",
       "2                                         Storyworthy   \n",
       "3                                         Storyworthy   \n",
       "4                                         Storyworthy   \n",
       "...                                               ...   \n",
       "18573  David Attenborough: The Early Years Collection   \n",
       "18574  David Attenborough: The Early Years Collection   \n",
       "18575  David Attenborough: The Early Years Collection   \n",
       "18576  David Attenborough: The Early Years Collection   \n",
       "18577  David Attenborough: The Early Years Collection   \n",
       "\n",
       "                                                 Reviews Rating  \\\n",
       "0          not many tips on how to deliver a good story      2    \n",
       "1                         This book leapt into my top 5      5    \n",
       "2             There are better books On Story then this      1    \n",
       "3                                     Thought provoking      5    \n",
       "4                  his voice gave me a massive headache      1    \n",
       "...                                                  ...    ...   \n",
       "18573   Genius Richard Attenborough is beyond belief ...     5    \n",
       "18574   Too good There is only one thing which disapp...     5    \n",
       "18575   Had me intrigued and laughing the whole way I...     5    \n",
       "18576   Spellbinding Loved this book So interesting t...     5    \n",
       "18577   Absolutely uplifting and thoroughly enjoyable...     5    \n",
       "\n",
       "                                   Reviews_preprocessing Sentiment  \\\n",
       "0                                 many tips deliver good  Positive   \n",
       "1                                         book leapt top  Positive   \n",
       "2                                                 better  Positive   \n",
       "3                                      thought provoking   Neutral   \n",
       "4                            voice gave massive headache   Neutral   \n",
       "...                                                  ...       ...   \n",
       "18573  genius richard attenborough beyond belief inte...  Positive   \n",
       "18574  good thing disappointed book ended written spe...  Positive   \n",
       "18575  intrigued laughing whole way always fan man pr...  Positive   \n",
       "18576  spellbinding loved book interesting see evolut...  Positive   \n",
       "18577  absolutely uplifting thoroughly enjoyable adve...  Positive   \n",
       "\n",
       "      Rating_pred_textblob  \n",
       "0                        4  \n",
       "1                        4  \n",
       "2                        4  \n",
       "3                        3  \n",
       "4                        3  \n",
       "...                    ...  \n",
       "18573                    4  \n",
       "18574                    4  \n",
       "18575                    4  \n",
       "18576                    4  \n",
       "18577                    4  \n",
       "\n",
       "[18578 rows x 6 columns]"
      ]
     },
     "execution_count": 148,
     "metadata": {},
     "output_type": "execute_result"
    }
   ],
   "source": [
    "# Convert float score to category based on binning\n",
    "dfm1['Rating_pred_textblob'] = pd.cut(dfm1['textblob_score'], bins=5, labels=[1, 2, 3, 4, 5])\n",
    "dfm1 = dfm1.drop('textblob_score', axis=1)\n",
    "dfm1"
   ]
  },
  {
   "cell_type": "code",
   "execution_count": 68,
   "id": "36776fbc-1795-4a85-a3fa-3896d8a1824e",
   "metadata": {},
   "outputs": [
    {
     "data": {
      "image/png": "[encoded data removed]",
      "text/plain": [
       "<Figure size 432x288 with 1 Axes>"
      ]
     },
     "metadata": {},
     "output_type": "display_data"
    }
   ],
   "source": [
    "#Visualize data\n",
    "#Number of reviews based on sentiment\n",
    "sns.countplot(y='Sentiment', \n",
    "             data=dfm1, \n",
    "             palette=['#b2d8d8',\"#008080\", '#db3d13']\n",
    "             );"
   ]
  },
  {
   "cell_type": "code",
   "execution_count": 69,
   "id": "cdbb04bb-8aa8-46d9-8e2f-e17a160e6e68",
   "metadata": {},
   "outputs": [
    {
     "data": {
      "text/plain": [
       "<AxesSubplot:>"
      ]
     },
     "execution_count": 69,
     "metadata": {},
     "output_type": "execute_result"
    },
    {
     "data": {
      "image/png": "[encoded data removed]",
      "text/plain": [
       "<Figure size 432x288 with 1 Axes>"
      ]
     },
     "metadata": {},
     "output_type": "display_data"
    }
   ],
   "source": [
    "dfm1['Rating_pred_textblob'].value_counts().plot.bar(color='skyblue')"
   ]
  },
  {
   "cell_type": "markdown",
   "id": "d3a448ed-27e3-415d-8c45-3ed9ffbf36c3",
   "metadata": {},
   "source": [
    "#### Vader (Rule-based methods):"
   ]
  },
  {
   "cell_type": "code",
   "execution_count": 185,
   "id": "71a00140-dfb6-4c3e-8c1b-f23dee6bd868",
   "metadata": {},
   "outputs": [],
   "source": [
    "dfm2=df2.copy()"
   ]
  },
  {
   "cell_type": "code",
   "execution_count": 186,
   "id": "a6a00894-c761-4a11-9faf-8ee319a48221",
   "metadata": {},
   "outputs": [],
   "source": [
    "vader = SentimentIntensityAnalyzer()"
   ]
  },
  {
   "cell_type": "code",
   "execution_count": 187,
   "id": "e586aa92-3c84-47de-9f74-886bbfcffd86",
   "metadata": {},
   "outputs": [
    {
     "data": {
      "text/html": [
       "<div>\n",
       "<style scoped>\n",
       "    .dataframe tbody tr th:only-of-type {\n",
       "        vertical-align: middle;\n",
       "    }\n",
       "\n",
       "    .dataframe tbody tr th {\n",
       "        vertical-align: top;\n",
       "    }\n",
       "\n",
       "    .dataframe thead th {\n",
       "        text-align: right;\n",
       "    }\n",
       "</style>\n",
       "<table border=\"1\" class=\"dataframe\">\n",
       "  <thead>\n",
       "    <tr style=\"text-align: right;\">\n",
       "      <th></th>\n",
       "      <th>Title</th>\n",
       "      <th>Reviews</th>\n",
       "      <th>Rating</th>\n",
       "      <th>Reviews_preprocessing</th>\n",
       "      <th>Polarity</th>\n",
       "    </tr>\n",
       "  </thead>\n",
       "  <tbody>\n",
       "    <tr>\n",
       "      <th>0</th>\n",
       "      <td>Storyworthy</td>\n",
       "      <td>not many tips on how to deliver a good story</td>\n",
       "      <td>2</td>\n",
       "      <td>many tips deliver good</td>\n",
       "      <td>{'neg': 0.0, 'neu': 0.508, 'pos': 0.492, 'comp...</td>\n",
       "    </tr>\n",
       "    <tr>\n",
       "      <th>1</th>\n",
       "      <td>Storyworthy</td>\n",
       "      <td>This book leapt into my top 5</td>\n",
       "      <td>5</td>\n",
       "      <td>book leapt top</td>\n",
       "      <td>{'neg': 0.0, 'neu': 0.526, 'pos': 0.474, 'comp...</td>\n",
       "    </tr>\n",
       "    <tr>\n",
       "      <th>2</th>\n",
       "      <td>Storyworthy</td>\n",
       "      <td>There are better books On Story then this</td>\n",
       "      <td>1</td>\n",
       "      <td>better</td>\n",
       "      <td>{'neg': 0.0, 'neu': 0.0, 'pos': 1.0, 'compound...</td>\n",
       "    </tr>\n",
       "    <tr>\n",
       "      <th>3</th>\n",
       "      <td>Storyworthy</td>\n",
       "      <td>Thought provoking</td>\n",
       "      <td>5</td>\n",
       "      <td>thought provoking</td>\n",
       "      <td>{'neg': 0.643, 'neu': 0.357, 'pos': 0.0, 'comp...</td>\n",
       "    </tr>\n",
       "    <tr>\n",
       "      <th>4</th>\n",
       "      <td>Storyworthy</td>\n",
       "      <td>his voice gave me a massive headache</td>\n",
       "      <td>1</td>\n",
       "      <td>voice gave massive headache</td>\n",
       "      <td>{'neg': 0.0, 'neu': 1.0, 'pos': 0.0, 'compound...</td>\n",
       "    </tr>\n",
       "  </tbody>\n",
       "</table>\n",
       "</div>"
      ],
      "text/plain": [
       "         Title                                         Reviews Rating  \\\n",
       "0  Storyworthy   not many tips on how to deliver a good story      2    \n",
       "1  Storyworthy                  This book leapt into my top 5      5    \n",
       "2  Storyworthy      There are better books On Story then this      1    \n",
       "3  Storyworthy                              Thought provoking      5    \n",
       "4  Storyworthy           his voice gave me a massive headache      1    \n",
       "\n",
       "         Reviews_preprocessing  \\\n",
       "0       many tips deliver good   \n",
       "1               book leapt top   \n",
       "2                       better   \n",
       "3            thought provoking   \n",
       "4  voice gave massive headache   \n",
       "\n",
       "                                            Polarity  \n",
       "0  {'neg': 0.0, 'neu': 0.508, 'pos': 0.492, 'comp...  \n",
       "1  {'neg': 0.0, 'neu': 0.526, 'pos': 0.474, 'comp...  \n",
       "2  {'neg': 0.0, 'neu': 0.0, 'pos': 1.0, 'compound...  \n",
       "3  {'neg': 0.643, 'neu': 0.357, 'pos': 0.0, 'comp...  \n",
       "4  {'neg': 0.0, 'neu': 1.0, 'pos': 0.0, 'compound...  "
      ]
     },
     "execution_count": 187,
     "metadata": {},
     "output_type": "execute_result"
    }
   ],
   "source": [
    "dfm2['Polarity']=dfm2['Reviews_preprocessing'].apply(lambda x: vader.polarity_scores(x))\n",
    "# df_m4['Sentiment'] = df_m4['vader_score'].apply(lambda x: 'Positive' if x >0 else 'Neutral' if x==0 else 'Negative')\n",
    "dfm2.head()"
   ]
  },
  {
   "cell_type": "code",
   "execution_count": 188,
   "id": "184c38fb-96b2-48ee-a6c5-104462a1495b",
   "metadata": {},
   "outputs": [
    {
     "data": {
      "text/html": [
       "<div>\n",
       "<style scoped>\n",
       "    .dataframe tbody tr th:only-of-type {\n",
       "        vertical-align: middle;\n",
       "    }\n",
       "\n",
       "    .dataframe tbody tr th {\n",
       "        vertical-align: top;\n",
       "    }\n",
       "\n",
       "    .dataframe thead th {\n",
       "        text-align: right;\n",
       "    }\n",
       "</style>\n",
       "<table border=\"1\" class=\"dataframe\">\n",
       "  <thead>\n",
       "    <tr style=\"text-align: right;\">\n",
       "      <th></th>\n",
       "      <th>Title</th>\n",
       "      <th>Reviews</th>\n",
       "      <th>Rating</th>\n",
       "      <th>Reviews_preprocessing</th>\n",
       "      <th>neg</th>\n",
       "      <th>neu</th>\n",
       "      <th>pos</th>\n",
       "      <th>compound</th>\n",
       "    </tr>\n",
       "  </thead>\n",
       "  <tbody>\n",
       "    <tr>\n",
       "      <th>18573</th>\n",
       "      <td>David Attenborough: The Early Years Collection</td>\n",
       "      <td>Genius Richard Attenborough is beyond belief ...</td>\n",
       "      <td>5</td>\n",
       "      <td>genius richard attenborough beyond belief inte...</td>\n",
       "      <td>0.000</td>\n",
       "      <td>0.450</td>\n",
       "      <td>0.550</td>\n",
       "      <td>0.9543</td>\n",
       "    </tr>\n",
       "    <tr>\n",
       "      <th>18574</th>\n",
       "      <td>David Attenborough: The Early Years Collection</td>\n",
       "      <td>Too good There is only one thing which disapp...</td>\n",
       "      <td>5</td>\n",
       "      <td>good thing disappointed book ended written spe...</td>\n",
       "      <td>0.093</td>\n",
       "      <td>0.450</td>\n",
       "      <td>0.456</td>\n",
       "      <td>0.9022</td>\n",
       "    </tr>\n",
       "    <tr>\n",
       "      <th>18575</th>\n",
       "      <td>David Attenborough: The Early Years Collection</td>\n",
       "      <td>Had me intrigued and laughing the whole way I...</td>\n",
       "      <td>5</td>\n",
       "      <td>intrigued laughing whole way always fan man pr...</td>\n",
       "      <td>0.036</td>\n",
       "      <td>0.496</td>\n",
       "      <td>0.468</td>\n",
       "      <td>0.9824</td>\n",
       "    </tr>\n",
       "    <tr>\n",
       "      <th>18576</th>\n",
       "      <td>David Attenborough: The Early Years Collection</td>\n",
       "      <td>Spellbinding Loved this book So interesting t...</td>\n",
       "      <td>5</td>\n",
       "      <td>spellbinding loved book interesting see evolut...</td>\n",
       "      <td>0.000</td>\n",
       "      <td>0.476</td>\n",
       "      <td>0.524</td>\n",
       "      <td>0.7650</td>\n",
       "    </tr>\n",
       "    <tr>\n",
       "      <th>18577</th>\n",
       "      <td>David Attenborough: The Early Years Collection</td>\n",
       "      <td>Absolutely uplifting and thoroughly enjoyable...</td>\n",
       "      <td>5</td>\n",
       "      <td>absolutely uplifting thoroughly enjoyable adve...</td>\n",
       "      <td>0.150</td>\n",
       "      <td>0.502</td>\n",
       "      <td>0.347</td>\n",
       "      <td>0.9147</td>\n",
       "    </tr>\n",
       "  </tbody>\n",
       "</table>\n",
       "</div>"
      ],
      "text/plain": [
       "                                                Title  \\\n",
       "18573  David Attenborough: The Early Years Collection   \n",
       "18574  David Attenborough: The Early Years Collection   \n",
       "18575  David Attenborough: The Early Years Collection   \n",
       "18576  David Attenborough: The Early Years Collection   \n",
       "18577  David Attenborough: The Early Years Collection   \n",
       "\n",
       "                                                 Reviews Rating  \\\n",
       "18573   Genius Richard Attenborough is beyond belief ...     5    \n",
       "18574   Too good There is only one thing which disapp...     5    \n",
       "18575   Had me intrigued and laughing the whole way I...     5    \n",
       "18576   Spellbinding Loved this book So interesting t...     5    \n",
       "18577   Absolutely uplifting and thoroughly enjoyable...     5    \n",
       "\n",
       "                                   Reviews_preprocessing    neg    neu    pos  \\\n",
       "18573  genius richard attenborough beyond belief inte...  0.000  0.450  0.550   \n",
       "18574  good thing disappointed book ended written spe...  0.093  0.450  0.456   \n",
       "18575  intrigued laughing whole way always fan man pr...  0.036  0.496  0.468   \n",
       "18576  spellbinding loved book interesting see evolut...  0.000  0.476  0.524   \n",
       "18577  absolutely uplifting thoroughly enjoyable adve...  0.150  0.502  0.347   \n",
       "\n",
       "       compound  \n",
       "18573    0.9543  \n",
       "18574    0.9022  \n",
       "18575    0.9824  \n",
       "18576    0.7650  \n",
       "18577    0.9147  "
      ]
     },
     "execution_count": 188,
     "metadata": {},
     "output_type": "execute_result"
    }
   ],
   "source": [
    "dfm2 = pd.concat(\n",
    "    [dfm2.drop(['Polarity'], axis=1), \n",
    "     dfm2['Polarity'].apply(pd.Series)], axis=1)\n",
    "dfm2.tail()"
   ]
  },
  {
   "cell_type": "code",
   "execution_count": 191,
   "id": "a37b2cbb-2cb7-4875-80cc-4d379f0e6051",
   "metadata": {},
   "outputs": [
    {
     "data": {
      "text/html": [
       "<div>\n",
       "<style scoped>\n",
       "    .dataframe tbody tr th:only-of-type {\n",
       "        vertical-align: middle;\n",
       "    }\n",
       "\n",
       "    .dataframe tbody tr th {\n",
       "        vertical-align: top;\n",
       "    }\n",
       "\n",
       "    .dataframe thead th {\n",
       "        text-align: right;\n",
       "    }\n",
       "</style>\n",
       "<table border=\"1\" class=\"dataframe\">\n",
       "  <thead>\n",
       "    <tr style=\"text-align: right;\">\n",
       "      <th></th>\n",
       "      <th>Title</th>\n",
       "      <th>Reviews</th>\n",
       "      <th>Rating</th>\n",
       "      <th>Reviews_preprocessing</th>\n",
       "      <th>neg</th>\n",
       "      <th>neu</th>\n",
       "      <th>pos</th>\n",
       "      <th>compound</th>\n",
       "      <th>Rating_pred_vader</th>\n",
       "      <th>Sentiment</th>\n",
       "    </tr>\n",
       "  </thead>\n",
       "  <tbody>\n",
       "    <tr>\n",
       "      <th>18573</th>\n",
       "      <td>David Attenborough: The Early Years Collection</td>\n",
       "      <td>Genius Richard Attenborough is beyond belief ...</td>\n",
       "      <td>5</td>\n",
       "      <td>genius richard attenborough beyond belief inte...</td>\n",
       "      <td>0.000</td>\n",
       "      <td>0.450</td>\n",
       "      <td>0.550</td>\n",
       "      <td>0.9543</td>\n",
       "      <td>5</td>\n",
       "      <td>Positive</td>\n",
       "    </tr>\n",
       "    <tr>\n",
       "      <th>18574</th>\n",
       "      <td>David Attenborough: The Early Years Collection</td>\n",
       "      <td>Too good There is only one thing which disapp...</td>\n",
       "      <td>5</td>\n",
       "      <td>good thing disappointed book ended written spe...</td>\n",
       "      <td>0.093</td>\n",
       "      <td>0.450</td>\n",
       "      <td>0.456</td>\n",
       "      <td>0.9022</td>\n",
       "      <td>5</td>\n",
       "      <td>Positive</td>\n",
       "    </tr>\n",
       "    <tr>\n",
       "      <th>18575</th>\n",
       "      <td>David Attenborough: The Early Years Collection</td>\n",
       "      <td>Had me intrigued and laughing the whole way I...</td>\n",
       "      <td>5</td>\n",
       "      <td>intrigued laughing whole way always fan man pr...</td>\n",
       "      <td>0.036</td>\n",
       "      <td>0.496</td>\n",
       "      <td>0.468</td>\n",
       "      <td>0.9824</td>\n",
       "      <td>5</td>\n",
       "      <td>Positive</td>\n",
       "    </tr>\n",
       "    <tr>\n",
       "      <th>18576</th>\n",
       "      <td>David Attenborough: The Early Years Collection</td>\n",
       "      <td>Spellbinding Loved this book So interesting t...</td>\n",
       "      <td>5</td>\n",
       "      <td>spellbinding loved book interesting see evolut...</td>\n",
       "      <td>0.000</td>\n",
       "      <td>0.476</td>\n",
       "      <td>0.524</td>\n",
       "      <td>0.7650</td>\n",
       "      <td>5</td>\n",
       "      <td>Positive</td>\n",
       "    </tr>\n",
       "    <tr>\n",
       "      <th>18577</th>\n",
       "      <td>David Attenborough: The Early Years Collection</td>\n",
       "      <td>Absolutely uplifting and thoroughly enjoyable...</td>\n",
       "      <td>5</td>\n",
       "      <td>absolutely uplifting thoroughly enjoyable adve...</td>\n",
       "      <td>0.150</td>\n",
       "      <td>0.502</td>\n",
       "      <td>0.347</td>\n",
       "      <td>0.9147</td>\n",
       "      <td>5</td>\n",
       "      <td>Positive</td>\n",
       "    </tr>\n",
       "  </tbody>\n",
       "</table>\n",
       "</div>"
      ],
      "text/plain": [
       "                                                Title  \\\n",
       "18573  David Attenborough: The Early Years Collection   \n",
       "18574  David Attenborough: The Early Years Collection   \n",
       "18575  David Attenborough: The Early Years Collection   \n",
       "18576  David Attenborough: The Early Years Collection   \n",
       "18577  David Attenborough: The Early Years Collection   \n",
       "\n",
       "                                                 Reviews Rating  \\\n",
       "18573   Genius Richard Attenborough is beyond belief ...     5    \n",
       "18574   Too good There is only one thing which disapp...     5    \n",
       "18575   Had me intrigued and laughing the whole way I...     5    \n",
       "18576   Spellbinding Loved this book So interesting t...     5    \n",
       "18577   Absolutely uplifting and thoroughly enjoyable...     5    \n",
       "\n",
       "                                   Reviews_preprocessing    neg    neu    pos  \\\n",
       "18573  genius richard attenborough beyond belief inte...  0.000  0.450  0.550   \n",
       "18574  good thing disappointed book ended written spe...  0.093  0.450  0.456   \n",
       "18575  intrigued laughing whole way always fan man pr...  0.036  0.496  0.468   \n",
       "18576  spellbinding loved book interesting see evolut...  0.000  0.476  0.524   \n",
       "18577  absolutely uplifting thoroughly enjoyable adve...  0.150  0.502  0.347   \n",
       "\n",
       "       compound Rating_pred_vader Sentiment  \n",
       "18573    0.9543                 5  Positive  \n",
       "18574    0.9022                 5  Positive  \n",
       "18575    0.9824                 5  Positive  \n",
       "18576    0.7650                 5  Positive  \n",
       "18577    0.9147                 5  Positive  "
      ]
     },
     "execution_count": 191,
     "metadata": {},
     "output_type": "execute_result"
    }
   ],
   "source": [
    "# Convert float score to category based on binning\n",
    "dfm2['Rating_pred_vader'] = pd.cut(dfm2['compound'], bins=5, labels=[1, 2, 3, 4, 5])\n",
    "# df_m4 = df_m4.drop('compound', axis=1)\n",
    "dfm2['Sentiment'] = dfm2['compound'].apply(lambda x: 'Positive' if x>0 else 'Neutral' if x==0 else 'Negative')\n",
    "dfm2.tail()"
   ]
  },
  {
   "cell_type": "code",
   "execution_count": 176,
   "id": "60ddf262-174b-48ed-91f5-3e87ff89ebfc",
   "metadata": {},
   "outputs": [
    {
     "data": {
      "image/png": "[encoded data removed]",
      "text/plain": [
       "<Figure size 432x288 with 1 Axes>"
      ]
     },
     "metadata": {
      "needs_background": "light"
     },
     "output_type": "display_data"
    }
   ],
   "source": [
    "ax = sns.barplot(data=dfm2, x='Rating_pred_vader', y='compound')\n",
    "ax.set_title('Compund Score')\n",
    "plt.show()"
   ]
  },
  {
   "cell_type": "code",
   "execution_count": 193,
   "id": "99ebc8c0-c638-4922-8c86-ce392040a7d2",
   "metadata": {},
   "outputs": [
    {
     "data": {
      "text/html": [
       "<div>\n",
       "<style scoped>\n",
       "    .dataframe tbody tr th:only-of-type {\n",
       "        vertical-align: middle;\n",
       "    }\n",
       "\n",
       "    .dataframe tbody tr th {\n",
       "        vertical-align: top;\n",
       "    }\n",
       "\n",
       "    .dataframe thead th {\n",
       "        text-align: right;\n",
       "    }\n",
       "</style>\n",
       "<table border=\"1\" class=\"dataframe\">\n",
       "  <thead>\n",
       "    <tr style=\"text-align: right;\">\n",
       "      <th></th>\n",
       "      <th>Title</th>\n",
       "      <th>Reviews</th>\n",
       "      <th>Rating</th>\n",
       "      <th>Reviews_preprocessing</th>\n",
       "      <th>neg</th>\n",
       "      <th>neu</th>\n",
       "      <th>pos</th>\n",
       "      <th>compound</th>\n",
       "      <th>Rating_pred_vader</th>\n",
       "      <th>Sentiment</th>\n",
       "    </tr>\n",
       "  </thead>\n",
       "  <tbody>\n",
       "    <tr>\n",
       "      <th>2</th>\n",
       "      <td>Storyworthy</td>\n",
       "      <td>There are better books On Story then this</td>\n",
       "      <td>1</td>\n",
       "      <td>better</td>\n",
       "      <td>0.000</td>\n",
       "      <td>0.000</td>\n",
       "      <td>1.000</td>\n",
       "      <td>0.4404</td>\n",
       "      <td>4</td>\n",
       "      <td>Positive</td>\n",
       "    </tr>\n",
       "    <tr>\n",
       "      <th>3</th>\n",
       "      <td>Storyworthy</td>\n",
       "      <td>Thought provoking</td>\n",
       "      <td>5</td>\n",
       "      <td>thought provoking</td>\n",
       "      <td>0.643</td>\n",
       "      <td>0.357</td>\n",
       "      <td>0.000</td>\n",
       "      <td>-0.2023</td>\n",
       "      <td>2</td>\n",
       "      <td>Negative</td>\n",
       "    </tr>\n",
       "    <tr>\n",
       "      <th>4</th>\n",
       "      <td>Storyworthy</td>\n",
       "      <td>his voice gave me a massive headache</td>\n",
       "      <td>1</td>\n",
       "      <td>voice gave massive headache</td>\n",
       "      <td>0.000</td>\n",
       "      <td>1.000</td>\n",
       "      <td>0.000</td>\n",
       "      <td>0.0000</td>\n",
       "      <td>3</td>\n",
       "      <td>Neutral</td>\n",
       "    </tr>\n",
       "    <tr>\n",
       "      <th>5</th>\n",
       "      <td>Storyworthy</td>\n",
       "      <td>Really don t waste your hard earned money on ...</td>\n",
       "      <td>1</td>\n",
       "      <td>waste hard earned money</td>\n",
       "      <td>0.677</td>\n",
       "      <td>0.323</td>\n",
       "      <td>0.000</td>\n",
       "      <td>-0.4939</td>\n",
       "      <td>2</td>\n",
       "      <td>Negative</td>\n",
       "    </tr>\n",
       "    <tr>\n",
       "      <th>6</th>\n",
       "      <td>Storyworthy</td>\n",
       "      <td>Okay that was good gotcha</td>\n",
       "      <td>4</td>\n",
       "      <td>okay good gotcha</td>\n",
       "      <td>0.000</td>\n",
       "      <td>0.172</td>\n",
       "      <td>0.828</td>\n",
       "      <td>0.5859</td>\n",
       "      <td>4</td>\n",
       "      <td>Positive</td>\n",
       "    </tr>\n",
       "    <tr>\n",
       "      <th>...</th>\n",
       "      <td>...</td>\n",
       "      <td>...</td>\n",
       "      <td>...</td>\n",
       "      <td>...</td>\n",
       "      <td>...</td>\n",
       "      <td>...</td>\n",
       "      <td>...</td>\n",
       "      <td>...</td>\n",
       "      <td>...</td>\n",
       "      <td>...</td>\n",
       "    </tr>\n",
       "    <tr>\n",
       "      <th>18573</th>\n",
       "      <td>David Attenborough: The Early Years Collection</td>\n",
       "      <td>Genius Richard Attenborough is beyond belief ...</td>\n",
       "      <td>5</td>\n",
       "      <td>genius richard attenborough beyond belief inte...</td>\n",
       "      <td>0.000</td>\n",
       "      <td>0.450</td>\n",
       "      <td>0.550</td>\n",
       "      <td>0.9543</td>\n",
       "      <td>5</td>\n",
       "      <td>Positive</td>\n",
       "    </tr>\n",
       "    <tr>\n",
       "      <th>18574</th>\n",
       "      <td>David Attenborough: The Early Years Collection</td>\n",
       "      <td>Too good There is only one thing which disapp...</td>\n",
       "      <td>5</td>\n",
       "      <td>good thing disappointed book ended written spe...</td>\n",
       "      <td>0.093</td>\n",
       "      <td>0.450</td>\n",
       "      <td>0.456</td>\n",
       "      <td>0.9022</td>\n",
       "      <td>5</td>\n",
       "      <td>Positive</td>\n",
       "    </tr>\n",
       "    <tr>\n",
       "      <th>18575</th>\n",
       "      <td>David Attenborough: The Early Years Collection</td>\n",
       "      <td>Had me intrigued and laughing the whole way I...</td>\n",
       "      <td>5</td>\n",
       "      <td>intrigued laughing whole way always fan man pr...</td>\n",
       "      <td>0.036</td>\n",
       "      <td>0.496</td>\n",
       "      <td>0.468</td>\n",
       "      <td>0.9824</td>\n",
       "      <td>5</td>\n",
       "      <td>Positive</td>\n",
       "    </tr>\n",
       "    <tr>\n",
       "      <th>18576</th>\n",
       "      <td>David Attenborough: The Early Years Collection</td>\n",
       "      <td>Spellbinding Loved this book So interesting t...</td>\n",
       "      <td>5</td>\n",
       "      <td>spellbinding loved book interesting see evolut...</td>\n",
       "      <td>0.000</td>\n",
       "      <td>0.476</td>\n",
       "      <td>0.524</td>\n",
       "      <td>0.7650</td>\n",
       "      <td>5</td>\n",
       "      <td>Positive</td>\n",
       "    </tr>\n",
       "    <tr>\n",
       "      <th>18577</th>\n",
       "      <td>David Attenborough: The Early Years Collection</td>\n",
       "      <td>Absolutely uplifting and thoroughly enjoyable...</td>\n",
       "      <td>5</td>\n",
       "      <td>absolutely uplifting thoroughly enjoyable adve...</td>\n",
       "      <td>0.150</td>\n",
       "      <td>0.502</td>\n",
       "      <td>0.347</td>\n",
       "      <td>0.9147</td>\n",
       "      <td>5</td>\n",
       "      <td>Positive</td>\n",
       "    </tr>\n",
       "  </tbody>\n",
       "</table>\n",
       "<p>18576 rows × 10 columns</p>\n",
       "</div>"
      ],
      "text/plain": [
       "                                                Title  \\\n",
       "2                                         Storyworthy   \n",
       "3                                         Storyworthy   \n",
       "4                                         Storyworthy   \n",
       "5                                         Storyworthy   \n",
       "6                                         Storyworthy   \n",
       "...                                               ...   \n",
       "18573  David Attenborough: The Early Years Collection   \n",
       "18574  David Attenborough: The Early Years Collection   \n",
       "18575  David Attenborough: The Early Years Collection   \n",
       "18576  David Attenborough: The Early Years Collection   \n",
       "18577  David Attenborough: The Early Years Collection   \n",
       "\n",
       "                                                 Reviews Rating  \\\n",
       "2             There are better books On Story then this      1    \n",
       "3                                     Thought provoking      5    \n",
       "4                  his voice gave me a massive headache      1    \n",
       "5       Really don t waste your hard earned money on ...     1    \n",
       "6                             Okay that was good gotcha      4    \n",
       "...                                                  ...    ...   \n",
       "18573   Genius Richard Attenborough is beyond belief ...     5    \n",
       "18574   Too good There is only one thing which disapp...     5    \n",
       "18575   Had me intrigued and laughing the whole way I...     5    \n",
       "18576   Spellbinding Loved this book So interesting t...     5    \n",
       "18577   Absolutely uplifting and thoroughly enjoyable...     5    \n",
       "\n",
       "                                   Reviews_preprocessing    neg    neu    pos  \\\n",
       "2                                                 better  0.000  0.000  1.000   \n",
       "3                                      thought provoking  0.643  0.357  0.000   \n",
       "4                            voice gave massive headache  0.000  1.000  0.000   \n",
       "5                                waste hard earned money  0.677  0.323  0.000   \n",
       "6                                       okay good gotcha  0.000  0.172  0.828   \n",
       "...                                                  ...    ...    ...    ...   \n",
       "18573  genius richard attenborough beyond belief inte...  0.000  0.450  0.550   \n",
       "18574  good thing disappointed book ended written spe...  0.093  0.450  0.456   \n",
       "18575  intrigued laughing whole way always fan man pr...  0.036  0.496  0.468   \n",
       "18576  spellbinding loved book interesting see evolut...  0.000  0.476  0.524   \n",
       "18577  absolutely uplifting thoroughly enjoyable adve...  0.150  0.502  0.347   \n",
       "\n",
       "       compound Rating_pred_vader Sentiment  \n",
       "2        0.4404                 4  Positive  \n",
       "3       -0.2023                 2  Negative  \n",
       "4        0.0000                 3   Neutral  \n",
       "5       -0.4939                 2  Negative  \n",
       "6        0.5859                 4  Positive  \n",
       "...         ...               ...       ...  \n",
       "18573    0.9543                 5  Positive  \n",
       "18574    0.9022                 5  Positive  \n",
       "18575    0.9824                 5  Positive  \n",
       "18576    0.7650                 5  Positive  \n",
       "18577    0.9147                 5  Positive  \n",
       "\n",
       "[18576 rows x 10 columns]"
      ]
     },
     "execution_count": 193,
     "metadata": {},
     "output_type": "execute_result"
    }
   ],
   "source": [
    "dfm2.iloc[2:,:]"
   ]
  },
  {
   "cell_type": "code",
   "execution_count": 177,
   "id": "d9b0009c-8c69-46bb-bff4-4d1bedd47a7c",
   "metadata": {},
   "outputs": [
    {
     "data": {
      "image/png": "[encoded data removed]",
      "text/plain": [
       "<Figure size 432x288 with 1 Axes>"
      ]
     },
     "metadata": {
      "needs_background": "light"
     },
     "output_type": "display_data"
    }
   ],
   "source": [
    "#Visualize data\n",
    "#Number of reviews based on sentiment\n",
    "sns.countplot(y='Sentiment', \n",
    "             data=dfm2, \n",
    "             palette=['#b2d8d8',\"#008080\", '#db3d13']\n",
    "             );\n"
   ]
  },
  {
   "cell_type": "code",
   "execution_count": 178,
   "id": "7d9cb3cc-72fc-42ae-9bfd-85a73bf6567e",
   "metadata": {},
   "outputs": [
    {
     "data": {
      "text/plain": [
       "<AxesSubplot:>"
      ]
     },
     "execution_count": 178,
     "metadata": {},
     "output_type": "execute_result"
    },
    {
     "data": {
      "image/png": "[encoded data removed]",
      "text/plain": [
       "<Figure size 432x288 with 1 Axes>"
      ]
     },
     "metadata": {
      "needs_background": "light"
     },
     "output_type": "display_data"
    }
   ],
   "source": [
    "dfm2['Rating_pred_vader'].value_counts().plot.bar(color='#b2d8d8')"
   ]
  },
  {
   "cell_type": "code",
   "execution_count": 179,
   "id": "8311e9aa-d385-4e86-9c5e-7527c4f2f6e7",
   "metadata": {},
   "outputs": [
    {
     "data": {
      "image/png": "[encoded data removed]",
      "text/plain": [
       "<Figure size 864x216 with 3 Axes>"
      ]
     },
     "metadata": {
      "needs_background": "light"
     },
     "output_type": "display_data"
    }
   ],
   "source": [
    "fig, axs = plt.subplots(1, 3, figsize=(12, 3))\n",
    "sns.barplot(data=dfm2, x='Rating_pred_vader', y='pos', ax=axs[0])\n",
    "sns.barplot(data=dfm2, x='Rating_pred_vader', y='neu', ax=axs[1])\n",
    "sns.barplot(data=dfm2, x='Rating_pred_vader', y='neg', ax=axs[2])\n",
    "axs[0].set_title('Positive')\n",
    "axs[1].set_title('Neutral')\n",
    "axs[2].set_title('Negative')\n",
    "plt.tight_layout()\n",
    "plt.show()"
   ]
  },
  {
   "cell_type": "markdown",
   "id": "8c0f234f-d1b3-4d77-934a-c7956c9628a2",
   "metadata": {},
   "source": [
    "## Feature-based methods:"
   ]
  },
  {
   "cell_type": "markdown",
   "id": "3bee1809-1477-4e04-98c2-afaee4c045dd",
   "metadata": {},
   "source": [
    "### TFIDF and Linear SVC"
   ]
  },
  {
   "cell_type": "code",
   "execution_count": 108,
   "id": "e03d107f-ba72-4742-b6fa-971ac350fe7d",
   "metadata": {},
   "outputs": [],
   "source": [
    "dfm3=df2.copy()"
   ]
  },
  {
   "cell_type": "code",
   "execution_count": 109,
   "id": "95711d30-7f02-4d65-98dc-a45616e23be9",
   "metadata": {},
   "outputs": [],
   "source": [
    "from sklearn.feature_extraction.text import TfidfVectorizer\n",
    "from sklearn.model_selection import train_test_split\n",
    "from sklearn.svm import LinearSVC"
   ]
  },
  {
   "cell_type": "code",
   "execution_count": 110,
   "id": "ac42b5e9-b017-4426-b8e1-f26c045fe9bf",
   "metadata": {},
   "outputs": [],
   "source": [
    "tfidf = TfidfVectorizer()\n",
    "X= tfidf.fit_transform(dfm3['Reviews_preprocessing'])\n",
    "y= dfm3['Rating']"
   ]
  },
  {
   "cell_type": "code",
   "execution_count": 111,
   "id": "55509f17-2c08-46b5-8446-7d62b4c563a7",
   "metadata": {},
   "outputs": [],
   "source": [
    "X_train, X_test, y_train, y_test = train_test_split(X, y, test_size=0.2, random_state=42)"
   ]
  },
  {
   "cell_type": "code",
   "execution_count": 112,
   "id": "214351a0-f69b-4e20-b9b5-304d6353fa9a",
   "metadata": {},
   "outputs": [
    {
     "name": "stdout",
     "output_type": "stream",
     "text": [
      "(14862, 29908)\n",
      "(3716, 29908)\n"
     ]
    }
   ],
   "source": [
    "print(X_train.shape)\n",
    "print(X_test.shape)"
   ]
  },
  {
   "cell_type": "code",
   "execution_count": 113,
   "id": "b07fab88-c0ed-45b7-a7ea-8313cc0c91a5",
   "metadata": {},
   "outputs": [],
   "source": [
    "clf= LinearSVC()"
   ]
  },
  {
   "cell_type": "code",
   "execution_count": 114,
   "id": "750e8b10-6327-4d98-96d9-50859f56a085",
   "metadata": {},
   "outputs": [
    {
     "data": {
      "text/plain": [
       "LinearSVC()"
      ]
     },
     "execution_count": 114,
     "metadata": {},
     "output_type": "execute_result"
    }
   ],
   "source": [
    "# clf=LinearSVC()\n",
    "clf.fit(X_train,y_train)"
   ]
  },
  {
   "cell_type": "code",
   "execution_count": 115,
   "id": "6ac99c65-dd53-4717-b0ed-04813f5e3b3d",
   "metadata": {},
   "outputs": [],
   "source": [
    "y_pred =clf.predict(X_test)"
   ]
  },
  {
   "cell_type": "code",
   "execution_count": 116,
   "id": "0558e3ff-d1f2-47c6-9fbc-883c9a6ae9be",
   "metadata": {},
   "outputs": [
    {
     "name": "stdout",
     "output_type": "stream",
     "text": [
      "              precision    recall  f1-score   support\n",
      "\n",
      "                   0.00      0.00      0.00         1\n",
      "          1        0.54      0.42      0.47       260\n",
      "          2        0.31      0.19      0.23       221\n",
      "          3        0.37      0.26      0.31       358\n",
      "          4        0.30      0.20      0.24       481\n",
      "          5        0.80      0.94      0.87      2395\n",
      "\n",
      "    accuracy                           0.70      3716\n",
      "   macro avg       0.39      0.33      0.35      3716\n",
      "weighted avg       0.65      0.70      0.67      3716\n",
      "\n"
     ]
    },
    {
     "name": "stderr",
     "output_type": "stream",
     "text": [
      "D:\\Users\\zayneb\\anaconda3\\lib\\site-packages\\sklearn\\metrics\\_classification.py:1318: UndefinedMetricWarning: Precision and F-score are ill-defined and being set to 0.0 in labels with no predicted samples. Use `zero_division` parameter to control this behavior.\n",
      "  _warn_prf(average, modifier, msg_start, len(result))\n",
      "D:\\Users\\zayneb\\anaconda3\\lib\\site-packages\\sklearn\\metrics\\_classification.py:1318: UndefinedMetricWarning: Precision and F-score are ill-defined and being set to 0.0 in labels with no predicted samples. Use `zero_division` parameter to control this behavior.\n",
      "  _warn_prf(average, modifier, msg_start, len(result))\n",
      "D:\\Users\\zayneb\\anaconda3\\lib\\site-packages\\sklearn\\metrics\\_classification.py:1318: UndefinedMetricWarning: Precision and F-score are ill-defined and being set to 0.0 in labels with no predicted samples. Use `zero_division` parameter to control this behavior.\n",
      "  _warn_prf(average, modifier, msg_start, len(result))\n"
     ]
    }
   ],
   "source": [
    "print(classification_report(y_test, y_pred))"
   ]
  },
  {
   "cell_type": "code",
   "execution_count": 105,
   "id": "f7ca00b5-ea22-4c35-a670-4f32045524cf",
   "metadata": {},
   "outputs": [],
   "source": [
    "def print_accuracy(y_test,y_predNB):\n",
    "    \"Print f1 score and accuracy after making predictions\"\n",
    "    f1_macro = f1_score(y_test, y_predNB, average='macro')\n",
    "    acc = accuracy_score(y_test, y_predNB)\n",
    "    return f1_macro, acc"
   ]
  },
  {
   "cell_type": "code",
   "execution_count": 153,
   "id": "387ead60-b68d-4446-9360-803735f2044d",
   "metadata": {},
   "outputs": [
    {
     "name": "stdout",
     "output_type": "stream",
     "text": [
      "Macro F1-score: 0.5329166425727069\n",
      "Accuracy: 0.6988697524219591\n"
     ]
    }
   ],
   "source": [
    "# Get model accuracy and f1 score\n",
    "acc = print_accuracy(y_test,y_pred)\n",
    "print(\"Macro F1-score: {}\\nAccuracy: {}\".format(acc[0], acc[1]))"
   ]
  },
  {
   "cell_type": "markdown",
   "id": "cebe7ad2-01d9-4c17-a804-482eecc5e1f3",
   "metadata": {},
   "source": [
    "### multinomial naive bayes classifier "
   ]
  },
  {
   "cell_type": "code",
   "execution_count": 81,
   "id": "b1c0467c-dacc-4ce2-b16d-6a164a578211",
   "metadata": {},
   "outputs": [],
   "source": [
    "dfNB=df2.copy()"
   ]
  },
  {
   "cell_type": "code",
   "execution_count": 82,
   "id": "5a682937-731a-4d15-9e33-e8e5b9e37735",
   "metadata": {},
   "outputs": [],
   "source": [
    "from sklearn.naive_bayes import MultinomialNB"
   ]
  },
  {
   "cell_type": "code",
   "execution_count": 83,
   "id": "6813556b-2c14-4b51-8089-092aebe3c6c4",
   "metadata": {},
   "outputs": [],
   "source": [
    "tfidf = TfidfVectorizer()\n",
    "X= tfidf.fit_transform(dfNB['Reviews_preprocessing'])\n",
    "y= dfNB['Rating']"
   ]
  },
  {
   "cell_type": "code",
   "execution_count": 84,
   "id": "6beba749-50d6-4a57-97c2-f04263ac1fc5",
   "metadata": {},
   "outputs": [],
   "source": [
    "X_train, X_test, y_train, y_test = train_test_split(X, y, test_size=0.2, random_state=42)"
   ]
  },
  {
   "cell_type": "code",
   "execution_count": 85,
   "id": "5c75de68-82b4-404d-bf10-87ac752ae097",
   "metadata": {},
   "outputs": [
    {
     "name": "stdout",
     "output_type": "stream",
     "text": [
      "CPU times: total: 62.5 ms\n",
      "Wall time: 71.8 ms\n"
     ]
    },
    {
     "data": {
      "text/plain": [
       "MultinomialNB()"
      ]
     },
     "execution_count": 85,
     "metadata": {},
     "output_type": "execute_result"
    }
   ],
   "source": [
    "%%time\n",
    "# Create and train a multinomial naive bayes classifier (MultinomialNB)\n",
    "Bayes = MultinomialNB()\n",
    "Bayes.fit(X_train,y_train)"
   ]
  },
  {
   "cell_type": "code",
   "execution_count": 86,
   "id": "f0af503b-c9e4-439d-b3cf-01819a77cbfa",
   "metadata": {},
   "outputs": [],
   "source": [
    "y_predNB=Bayes.predict(X_test)"
   ]
  },
  {
   "cell_type": "markdown",
   "id": "86efee91-af8f-4a65-8a0b-babecff075d2",
   "metadata": {},
   "source": [
    "print(classification_report(y_test, y_predNB))"
   ]
  },
  {
   "cell_type": "code",
   "execution_count": 155,
   "id": "474b511e-6e88-44f9-b061-286617553666",
   "metadata": {},
   "outputs": [
    {
     "name": "stdout",
     "output_type": "stream",
     "text": [
      "Macro F1-score: 53.4127350147396\n",
      "Accuracy: 0.6134337997847147\n"
     ]
    }
   ],
   "source": [
    "# Get model accuracy and f1 score\n",
    "acc = print_accuracy(y_test,y_predNB)\n",
    "print(\"Macro F1-score: {}\\nAccuracy: {}\".format(acc[0], acc[1]))"
   ]
  },
  {
   "cell_type": "code",
   "execution_count": null,
   "id": "2121c299-55e4-4f32-a546-bc91b5611c79",
   "metadata": {},
   "outputs": [],
   "source": []
  },
  {
   "cell_type": "markdown",
   "id": "6b635020-1a4b-4a19-95d2-e0e7d3961f39",
   "metadata": {},
   "source": [
    "### Bert (prerained model)"
   ]
  },
  {
   "cell_type": "code",
   "execution_count": 158,
   "id": "aUVep_iJ3xlA",
   "metadata": {
    "colab": {
     "base_uri": "https://localhost:8080/",
     "height": 177,
     "referenced_widgets": [
      "945c97a54ab74d11914884af3781e4d0",
      "77ea08a2373a4382917c889df28923da",
      "59f6db7fd8454407a973a3bf4c0f7bad",
      "a4dea758df8c42998566b86b00551d79",
      "b4b73de4ae044ddb8a9c9298ba4b5164",
      "beb34664c677424999a289aac3419378",
      "c3b5788ebc8048a3a864f4174d9b1397",
      "8025d52a828e4756989e4ef9200d7d03",
      "db0236be2a3a41c4a6302f028390c0df",
      "c534000279f74effbd5060e22f23f748",
      "7774621069624d949d6240ae36e92758",
      "6815be2ce6c84bb88b22f29b3ee87713",
      "9a9ddf8e534a4213aa7d3c59fc941ace",
      "a6e8532e15b944ccb10cf10d61435cf2",
      "72c5f0ea86ba475bb6b6827822d7f028",
      "1baa58b4a8134699aa979611f2409fd7",
      "17309bd5815143458ba052478dedbdf0",
      "53a809571b2842d9abd619ffc520fa6a",
      "3073833450414f1b98be92efd10491bd",
      "a16acd4479b84c8f8e67464d2829d4cf",
      "259894b738d14130a5cda46b64180840",
      "26f9537872ea41eebc4fa2387550fb43",
      "8f30622342e1439d9756a81860a1968d",
      "77eede187ca64571a3175ab11df89fda",
      "ba2cd2ad58714c6683b04439b5f488ad",
      "08f642845ebc4aa09e90bba5f97c6f8a",
      "a6c546da627142ccac99144a6d1a8ccc",
      "cc14b971ea6f4ca5aaefc513caf7375d",
      "77c7d8fc0dc94ac1ad7a34b38d16e4c6",
      "31412e9ab15547dfbd2a5e0bc79d02bd",
      "9ff9acdd003e4033a9238da8a129536c",
      "0d26aac0e8a74769a5c2724e74bb8cba",
      "75d30707e13d4ba18c54e830416b781a",
      "8d50729d55124ee2a790ac7cd9412f18",
      "2cf1e7ecd2db443faf67106bddbdfcd0",
      "5e8f8ea65ba44e1ca81464964abacfd7",
      "3add2375e1e04454a86c83e40600c38e",
      "fa7f5c7d25264465bd698af00ac52ef8",
      "cbc24bb04c3842c383262dd6163254df",
      "e29c3a4badb14a7aa1138706dd25a585",
      "1c670c89024248cbbbb73506728a9ab9",
      "c6effe9e0f214656887d39788bf9a237",
      "d215f903f15c4dde8029b46b240ca745",
      "e4d5ebef5c8743ef8e1d58b04f111c12",
      "c7b20d8f1c4d4902ac95f05237b1c8c2",
      "fd64c1381b7949e58525b98b737a65ce",
      "0e6256c9b0d24449b9838ae618f2bcba",
      "b2218cb480094ee7ab754739272964c3",
      "a639476eba404541be03d090433e94ff",
      "7807410141b6486ea48a3c936ebab134",
      "3a1ab884a9f9443c88e399b7becbee79",
      "7629206078224a00ba404ea646c743f2",
      "92f6383124d14876910398353f9ee21c",
      "4d5e703e4fcb466cb680116605e77c3d",
      "c0f174276d5646279023946b175d045f"
     ]
    },
    "id": "aUVep_iJ3xlA",
    "outputId": "70ffb519-2ee2-4c50-d32d-9bf5b1a2e9cc"
   },
   "outputs": [],
   "source": [
    "#Instantiate Model\n",
    "tokenizer = AutoTokenizer.from_pretrained('nlptown/bert-base-multilingual-uncased-sentiment')\n",
    "\n",
    "model = AutoModelForSequenceClassification.from_pretrained('nlptown/bert-base-multilingual-uncased-sentiment')"
   ]
  },
  {
   "cell_type": "code",
   "execution_count": 159,
   "id": "gXWrTC5n4Otc",
   "metadata": {
    "id": "gXWrTC5n4Otc"
   },
   "outputs": [],
   "source": [
    "def sentiment_score(review):\n",
    "    tokens = tokenizer.encode(review, return_tensors='pt')\n",
    "    result = model(tokens)\n",
    "    return int(torch.argmax(result.logits))+1"
   ]
  },
  {
   "cell_type": "code",
   "execution_count": 160,
   "id": "a294fc1b-0a2d-49f1-9a5f-c533e58c8ead",
   "metadata": {},
   "outputs": [],
   "source": [
    "dfm4=df2.copy()"
   ]
  },
  {
   "cell_type": "code",
   "execution_count": 164,
   "id": "3876a6f5-3aa7-4f5b-a2f2-9f1cb1a9ddf6",
   "metadata": {},
   "outputs": [
    {
     "data": {
      "text/html": [
       "<div>\n",
       "<style scoped>\n",
       "    .dataframe tbody tr th:only-of-type {\n",
       "        vertical-align: middle;\n",
       "    }\n",
       "\n",
       "    .dataframe tbody tr th {\n",
       "        vertical-align: top;\n",
       "    }\n",
       "\n",
       "    .dataframe thead th {\n",
       "        text-align: right;\n",
       "    }\n",
       "</style>\n",
       "<table border=\"1\" class=\"dataframe\">\n",
       "  <thead>\n",
       "    <tr style=\"text-align: right;\">\n",
       "      <th></th>\n",
       "      <th>Title</th>\n",
       "      <th>Reviews</th>\n",
       "      <th>Rating</th>\n",
       "    </tr>\n",
       "  </thead>\n",
       "  <tbody>\n",
       "    <tr>\n",
       "      <th>0</th>\n",
       "      <td>Storyworthy</td>\n",
       "      <td>not many tips on how to deliver a good story</td>\n",
       "      <td>2</td>\n",
       "    </tr>\n",
       "    <tr>\n",
       "      <th>1</th>\n",
       "      <td>Storyworthy</td>\n",
       "      <td>This book leapt into my top 5</td>\n",
       "      <td>5</td>\n",
       "    </tr>\n",
       "    <tr>\n",
       "      <th>2</th>\n",
       "      <td>Storyworthy</td>\n",
       "      <td>There are better books On Story then this</td>\n",
       "      <td>1</td>\n",
       "    </tr>\n",
       "    <tr>\n",
       "      <th>3</th>\n",
       "      <td>Storyworthy</td>\n",
       "      <td>Thought provoking</td>\n",
       "      <td>5</td>\n",
       "    </tr>\n",
       "    <tr>\n",
       "      <th>4</th>\n",
       "      <td>Storyworthy</td>\n",
       "      <td>his voice gave me a massive headache</td>\n",
       "      <td>1</td>\n",
       "    </tr>\n",
       "    <tr>\n",
       "      <th>...</th>\n",
       "      <td>...</td>\n",
       "      <td>...</td>\n",
       "      <td>...</td>\n",
       "    </tr>\n",
       "    <tr>\n",
       "      <th>18573</th>\n",
       "      <td>David Attenborough: The Early Years Collection</td>\n",
       "      <td>Genius Richard Attenborough is beyond belief ...</td>\n",
       "      <td>5</td>\n",
       "    </tr>\n",
       "    <tr>\n",
       "      <th>18574</th>\n",
       "      <td>David Attenborough: The Early Years Collection</td>\n",
       "      <td>Too good There is only one thing which disapp...</td>\n",
       "      <td>5</td>\n",
       "    </tr>\n",
       "    <tr>\n",
       "      <th>18575</th>\n",
       "      <td>David Attenborough: The Early Years Collection</td>\n",
       "      <td>Had me intrigued and laughing the whole way I...</td>\n",
       "      <td>5</td>\n",
       "    </tr>\n",
       "    <tr>\n",
       "      <th>18576</th>\n",
       "      <td>David Attenborough: The Early Years Collection</td>\n",
       "      <td>Spellbinding Loved this book So interesting t...</td>\n",
       "      <td>5</td>\n",
       "    </tr>\n",
       "    <tr>\n",
       "      <th>18577</th>\n",
       "      <td>David Attenborough: The Early Years Collection</td>\n",
       "      <td>Absolutely uplifting and thoroughly enjoyable...</td>\n",
       "      <td>5</td>\n",
       "    </tr>\n",
       "  </tbody>\n",
       "</table>\n",
       "<p>18578 rows × 3 columns</p>\n",
       "</div>"
      ],
      "text/plain": [
       "                                                Title  \\\n",
       "0                                         Storyworthy   \n",
       "1                                         Storyworthy   \n",
       "2                                         Storyworthy   \n",
       "3                                         Storyworthy   \n",
       "4                                         Storyworthy   \n",
       "...                                               ...   \n",
       "18573  David Attenborough: The Early Years Collection   \n",
       "18574  David Attenborough: The Early Years Collection   \n",
       "18575  David Attenborough: The Early Years Collection   \n",
       "18576  David Attenborough: The Early Years Collection   \n",
       "18577  David Attenborough: The Early Years Collection   \n",
       "\n",
       "                                                 Reviews Rating  \n",
       "0          not many tips on how to deliver a good story      2   \n",
       "1                         This book leapt into my top 5      5   \n",
       "2             There are better books On Story then this      1   \n",
       "3                                     Thought provoking      5   \n",
       "4                  his voice gave me a massive headache      1   \n",
       "...                                                  ...    ...  \n",
       "18573   Genius Richard Attenborough is beyond belief ...     5   \n",
       "18574   Too good There is only one thing which disapp...     5   \n",
       "18575   Had me intrigued and laughing the whole way I...     5   \n",
       "18576   Spellbinding Loved this book So interesting t...     5   \n",
       "18577   Absolutely uplifting and thoroughly enjoyable...     5   \n",
       "\n",
       "[18578 rows x 3 columns]"
      ]
     },
     "execution_count": 164,
     "metadata": {},
     "output_type": "execute_result"
    }
   ],
   "source": [
    "dfm4=dfm4.drop('Reviews_preprocessing', axis=1)\n",
    "dfm4\n"
   ]
  },
  {
   "cell_type": "code",
   "execution_count": 165,
   "id": "XyJ3lD7l4O19",
   "metadata": {
    "colab": {
     "base_uri": "https://localhost:8080/",
     "height": 424
    },
    "id": "XyJ3lD7l4O19",
    "outputId": "69333e92-07ce-4a33-831d-f53d745418d1"
   },
   "outputs": [
    {
     "data": {
      "text/html": [
       "<div>\n",
       "<style scoped>\n",
       "    .dataframe tbody tr th:only-of-type {\n",
       "        vertical-align: middle;\n",
       "    }\n",
       "\n",
       "    .dataframe tbody tr th {\n",
       "        vertical-align: top;\n",
       "    }\n",
       "\n",
       "    .dataframe thead th {\n",
       "        text-align: right;\n",
       "    }\n",
       "</style>\n",
       "<table border=\"1\" class=\"dataframe\">\n",
       "  <thead>\n",
       "    <tr style=\"text-align: right;\">\n",
       "      <th></th>\n",
       "      <th>Title</th>\n",
       "      <th>Reviews</th>\n",
       "      <th>Rating</th>\n",
       "      <th>Rating_pred_Bert</th>\n",
       "    </tr>\n",
       "  </thead>\n",
       "  <tbody>\n",
       "    <tr>\n",
       "      <th>0</th>\n",
       "      <td>Storyworthy</td>\n",
       "      <td>not many tips on how to deliver a good story</td>\n",
       "      <td>2</td>\n",
       "      <td>3</td>\n",
       "    </tr>\n",
       "    <tr>\n",
       "      <th>1</th>\n",
       "      <td>Storyworthy</td>\n",
       "      <td>This book leapt into my top 5</td>\n",
       "      <td>5</td>\n",
       "      <td>5</td>\n",
       "    </tr>\n",
       "    <tr>\n",
       "      <th>2</th>\n",
       "      <td>Storyworthy</td>\n",
       "      <td>There are better books On Story then this</td>\n",
       "      <td>1</td>\n",
       "      <td>3</td>\n",
       "    </tr>\n",
       "    <tr>\n",
       "      <th>3</th>\n",
       "      <td>Storyworthy</td>\n",
       "      <td>Thought provoking</td>\n",
       "      <td>5</td>\n",
       "      <td>2</td>\n",
       "    </tr>\n",
       "    <tr>\n",
       "      <th>4</th>\n",
       "      <td>Storyworthy</td>\n",
       "      <td>his voice gave me a massive headache</td>\n",
       "      <td>1</td>\n",
       "      <td>1</td>\n",
       "    </tr>\n",
       "    <tr>\n",
       "      <th>...</th>\n",
       "      <td>...</td>\n",
       "      <td>...</td>\n",
       "      <td>...</td>\n",
       "      <td>...</td>\n",
       "    </tr>\n",
       "    <tr>\n",
       "      <th>18573</th>\n",
       "      <td>David Attenborough: The Early Years Collection</td>\n",
       "      <td>Genius Richard Attenborough is beyond belief ...</td>\n",
       "      <td>5</td>\n",
       "      <td>5</td>\n",
       "    </tr>\n",
       "    <tr>\n",
       "      <th>18574</th>\n",
       "      <td>David Attenborough: The Early Years Collection</td>\n",
       "      <td>Too good There is only one thing which disapp...</td>\n",
       "      <td>5</td>\n",
       "      <td>2</td>\n",
       "    </tr>\n",
       "    <tr>\n",
       "      <th>18575</th>\n",
       "      <td>David Attenborough: The Early Years Collection</td>\n",
       "      <td>Had me intrigued and laughing the whole way I...</td>\n",
       "      <td>5</td>\n",
       "      <td>4</td>\n",
       "    </tr>\n",
       "    <tr>\n",
       "      <th>18576</th>\n",
       "      <td>David Attenborough: The Early Years Collection</td>\n",
       "      <td>Spellbinding Loved this book So interesting t...</td>\n",
       "      <td>5</td>\n",
       "      <td>5</td>\n",
       "    </tr>\n",
       "    <tr>\n",
       "      <th>18577</th>\n",
       "      <td>David Attenborough: The Early Years Collection</td>\n",
       "      <td>Absolutely uplifting and thoroughly enjoyable...</td>\n",
       "      <td>5</td>\n",
       "      <td>5</td>\n",
       "    </tr>\n",
       "  </tbody>\n",
       "</table>\n",
       "<p>18578 rows × 4 columns</p>\n",
       "</div>"
      ],
      "text/plain": [
       "                                                Title  \\\n",
       "0                                         Storyworthy   \n",
       "1                                         Storyworthy   \n",
       "2                                         Storyworthy   \n",
       "3                                         Storyworthy   \n",
       "4                                         Storyworthy   \n",
       "...                                               ...   \n",
       "18573  David Attenborough: The Early Years Collection   \n",
       "18574  David Attenborough: The Early Years Collection   \n",
       "18575  David Attenborough: The Early Years Collection   \n",
       "18576  David Attenborough: The Early Years Collection   \n",
       "18577  David Attenborough: The Early Years Collection   \n",
       "\n",
       "                                                 Reviews Rating  \\\n",
       "0          not many tips on how to deliver a good story      2    \n",
       "1                         This book leapt into my top 5      5    \n",
       "2             There are better books On Story then this      1    \n",
       "3                                     Thought provoking      5    \n",
       "4                  his voice gave me a massive headache      1    \n",
       "...                                                  ...    ...   \n",
       "18573   Genius Richard Attenborough is beyond belief ...     5    \n",
       "18574   Too good There is only one thing which disapp...     5    \n",
       "18575   Had me intrigued and laughing the whole way I...     5    \n",
       "18576   Spellbinding Loved this book So interesting t...     5    \n",
       "18577   Absolutely uplifting and thoroughly enjoyable...     5    \n",
       "\n",
       "       Rating_pred_Bert  \n",
       "0                     3  \n",
       "1                     5  \n",
       "2                     3  \n",
       "3                     2  \n",
       "4                     1  \n",
       "...                 ...  \n",
       "18573                 5  \n",
       "18574                 2  \n",
       "18575                 4  \n",
       "18576                 5  \n",
       "18577                 5  \n",
       "\n",
       "[18578 rows x 4 columns]"
      ]
     },
     "execution_count": 165,
     "metadata": {},
     "output_type": "execute_result"
    }
   ],
   "source": [
    "dfm4['Rating_pred_Bert'] = dfm4['Reviews'].apply(lambda x: sentiment_score(x[0:512]))\n",
    "dfm4"
   ]
  },
  {
   "cell_type": "code",
   "execution_count": 166,
   "id": "e6b62dce-32f9-4b47-8985-259fbf7dcfc4",
   "metadata": {},
   "outputs": [],
   "source": [
    "dfm4['Sentiment'] = dfm4['Rating_pred_Bert'].apply(lambda x: 'Positive' if x >3 else 'Neutral' if x==3 else 'Negative')\n"
   ]
  },
  {
   "cell_type": "code",
   "execution_count": 169,
   "id": "8cec4023-0310-4350-b0d3-46fb8ca4533f",
   "metadata": {},
   "outputs": [
    {
     "data": {
      "text/html": [
       "<div>\n",
       "<style scoped>\n",
       "    .dataframe tbody tr th:only-of-type {\n",
       "        vertical-align: middle;\n",
       "    }\n",
       "\n",
       "    .dataframe tbody tr th {\n",
       "        vertical-align: top;\n",
       "    }\n",
       "\n",
       "    .dataframe thead th {\n",
       "        text-align: right;\n",
       "    }\n",
       "</style>\n",
       "<table border=\"1\" class=\"dataframe\">\n",
       "  <thead>\n",
       "    <tr style=\"text-align: right;\">\n",
       "      <th></th>\n",
       "      <th>Title</th>\n",
       "      <th>Reviews</th>\n",
       "      <th>Rating_pred_Bert</th>\n",
       "      <th>Sentiment</th>\n",
       "      <th>Rating</th>\n",
       "    </tr>\n",
       "  </thead>\n",
       "  <tbody>\n",
       "    <tr>\n",
       "      <th>0</th>\n",
       "      <td>Storyworthy</td>\n",
       "      <td>not many tips on how to deliver a good story</td>\n",
       "      <td>3</td>\n",
       "      <td>Neutral</td>\n",
       "      <td>2</td>\n",
       "    </tr>\n",
       "    <tr>\n",
       "      <th>1</th>\n",
       "      <td>Storyworthy</td>\n",
       "      <td>This book leapt into my top 5</td>\n",
       "      <td>5</td>\n",
       "      <td>Positive</td>\n",
       "      <td>5</td>\n",
       "    </tr>\n",
       "    <tr>\n",
       "      <th>2</th>\n",
       "      <td>Storyworthy</td>\n",
       "      <td>There are better books On Story then this</td>\n",
       "      <td>3</td>\n",
       "      <td>Neutral</td>\n",
       "      <td>1</td>\n",
       "    </tr>\n",
       "    <tr>\n",
       "      <th>3</th>\n",
       "      <td>Storyworthy</td>\n",
       "      <td>Thought provoking</td>\n",
       "      <td>2</td>\n",
       "      <td>Negative</td>\n",
       "      <td>5</td>\n",
       "    </tr>\n",
       "    <tr>\n",
       "      <th>4</th>\n",
       "      <td>Storyworthy</td>\n",
       "      <td>his voice gave me a massive headache</td>\n",
       "      <td>1</td>\n",
       "      <td>Negative</td>\n",
       "      <td>1</td>\n",
       "    </tr>\n",
       "  </tbody>\n",
       "</table>\n",
       "</div>"
      ],
      "text/plain": [
       "         Title                                         Reviews  \\\n",
       "0  Storyworthy   not many tips on how to deliver a good story    \n",
       "1  Storyworthy                  This book leapt into my top 5    \n",
       "2  Storyworthy      There are better books On Story then this    \n",
       "3  Storyworthy                              Thought provoking    \n",
       "4  Storyworthy           his voice gave me a massive headache    \n",
       "\n",
       "   Rating_pred_Bert Sentiment Rating  \n",
       "0                 3   Neutral     2   \n",
       "1                 5  Positive     5   \n",
       "2                 3   Neutral     1   \n",
       "3                 2  Negative     5   \n",
       "4                 1  Negative     1   "
      ]
     },
     "execution_count": 169,
     "metadata": {},
     "output_type": "execute_result"
    }
   ],
   "source": [
    "columnsTitles=['Title','Reviews','Rating_pred_Bert','Sentiment','Rating']\n",
    "dfm4=dfm4.reindex(columns=columnsTitles)\n",
    "dfm4.head()"
   ]
  },
  {
   "cell_type": "code",
   "execution_count": 104,
   "id": "58c86f28-366d-45b0-8d91-38cb10eaf5cd",
   "metadata": {},
   "outputs": [],
   "source": [
    "df_sentiment= dfm4.copy()"
   ]
  },
  {
   "cell_type": "code",
   "execution_count": 105,
   "id": "99d1c970-4014-4431-a663-a168ba4ad566",
   "metadata": {},
   "outputs": [],
   "source": [
    "df_sentiment=df_sentiment.drop('Reviews_preprocessing', axis=1)\n"
   ]
  },
  {
   "cell_type": "code",
   "execution_count": 106,
   "id": "9c6ffd85-0c5a-47e7-8b84-a33781ebf47e",
   "metadata": {},
   "outputs": [
    {
     "data": {
      "text/html": [
       "<div>\n",
       "<style scoped>\n",
       "    .dataframe tbody tr th:only-of-type {\n",
       "        vertical-align: middle;\n",
       "    }\n",
       "\n",
       "    .dataframe tbody tr th {\n",
       "        vertical-align: top;\n",
       "    }\n",
       "\n",
       "    .dataframe thead th {\n",
       "        text-align: right;\n",
       "    }\n",
       "</style>\n",
       "<table border=\"1\" class=\"dataframe\">\n",
       "  <thead>\n",
       "    <tr style=\"text-align: right;\">\n",
       "      <th></th>\n",
       "      <th>Title</th>\n",
       "      <th>Reviews</th>\n",
       "      <th>Rating_pred_Bert</th>\n",
       "      <th>Sentiment</th>\n",
       "    </tr>\n",
       "  </thead>\n",
       "  <tbody>\n",
       "    <tr>\n",
       "      <th>0</th>\n",
       "      <td>Storyworthy</td>\n",
       "      <td>not many tips on how to deliver a good story</td>\n",
       "      <td>3</td>\n",
       "      <td>Neutral</td>\n",
       "    </tr>\n",
       "    <tr>\n",
       "      <th>1</th>\n",
       "      <td>Storyworthy</td>\n",
       "      <td>This book leapt into my top 5</td>\n",
       "      <td>5</td>\n",
       "      <td>Positive</td>\n",
       "    </tr>\n",
       "    <tr>\n",
       "      <th>2</th>\n",
       "      <td>Storyworthy</td>\n",
       "      <td>There are better books On Story then this</td>\n",
       "      <td>3</td>\n",
       "      <td>Neutral</td>\n",
       "    </tr>\n",
       "    <tr>\n",
       "      <th>3</th>\n",
       "      <td>Storyworthy</td>\n",
       "      <td>Thought provoking</td>\n",
       "      <td>2</td>\n",
       "      <td>Negative</td>\n",
       "    </tr>\n",
       "    <tr>\n",
       "      <th>4</th>\n",
       "      <td>Storyworthy</td>\n",
       "      <td>his voice gave me a massive headache</td>\n",
       "      <td>1</td>\n",
       "      <td>Negative</td>\n",
       "    </tr>\n",
       "  </tbody>\n",
       "</table>\n",
       "</div>"
      ],
      "text/plain": [
       "         Title                                         Reviews  \\\n",
       "0  Storyworthy   not many tips on how to deliver a good story    \n",
       "1  Storyworthy                  This book leapt into my top 5    \n",
       "2  Storyworthy      There are better books On Story then this    \n",
       "3  Storyworthy                              Thought provoking    \n",
       "4  Storyworthy           his voice gave me a massive headache    \n",
       "\n",
       "   Rating_pred_Bert Sentiment  \n",
       "0                 3   Neutral  \n",
       "1                 5  Positive  \n",
       "2                 3   Neutral  \n",
       "3                 2  Negative  \n",
       "4                 1  Negative  "
      ]
     },
     "execution_count": 106,
     "metadata": {},
     "output_type": "execute_result"
    }
   ],
   "source": [
    "df_sentiment=df_sentiment.drop('Rating', axis=1)\n",
    "df_sentiment.head()"
   ]
  },
  {
   "cell_type": "code",
   "execution_count": 107,
   "id": "59af3450-4baa-4aa0-b113-78a071bbc296",
   "metadata": {},
   "outputs": [],
   "source": [
    "df_sentiment.to_csv(\"reviews_sentiments.csv\")"
   ]
  },
  {
   "cell_type": "code",
   "execution_count": null,
   "id": "336bb8c4-f1c0-4450-aaa0-fc75bafad7ed",
   "metadata": {},
   "outputs": [],
   "source": []
  },
  {
   "cell_type": "code",
   "execution_count": 108,
   "id": "8335c870-b4f5-4aad-ae97-c230036dc04d",
   "metadata": {},
   "outputs": [
    {
     "data": {
      "image/png": "[encoded data removed]",
      "text/plain": [
       "<Figure size 432x288 with 1 Axes>"
      ]
     },
     "metadata": {},
     "output_type": "display_data"
    }
   ],
   "source": [
    "#Visualize data\n",
    "#Number of reviews based on sentiment\n",
    "sns.countplot(y='Sentiment', \n",
    "             data=dfm4, \n",
    "             palette=['#b2d8d8',\"#008080\", '#db3d13']\n",
    "             );"
   ]
  },
  {
   "cell_type": "code",
   "execution_count": 109,
   "id": "efe47043-6837-46b2-bd0c-282339005777",
   "metadata": {},
   "outputs": [
    {
     "data": {
      "text/plain": [
       "<AxesSubplot:>"
      ]
     },
     "execution_count": 109,
     "metadata": {},
     "output_type": "execute_result"
    },
    {
     "data": {
      "image/png": "[encoded data removed]",
      "text/plain": [
       "<Figure size 432x288 with 1 Axes>"
      ]
     },
     "metadata": {},
     "output_type": "display_data"
    }
   ],
   "source": [
    "dfm4['Rating_pred_Bert'].value_counts().plot.bar(color='#b2d8d8')"
   ]
  },
  {
   "cell_type": "code",
   "execution_count": 110,
   "id": "jyn9tGVX4Oln",
   "metadata": {
    "id": "jyn9tGVX4Oln"
   },
   "outputs": [],
   "source": [
    "#Encode and Calculate Sentiment\n",
    "tokens = tokenizer.encode('There are better books On Story then this', return_tensors='pt')"
   ]
  },
  {
   "cell_type": "code",
   "execution_count": 111,
   "id": "8pbe4HfZ4OnP",
   "metadata": {
    "id": "8pbe4HfZ4OnP"
   },
   "outputs": [],
   "source": [
    "result = model(tokens)"
   ]
  },
  {
   "cell_type": "code",
   "execution_count": 112,
   "id": "ieaF8nMt4Opf",
   "metadata": {
    "colab": {
     "base_uri": "https://localhost:8080/"
    },
    "id": "ieaF8nMt4Opf",
    "outputId": "28630109-47a3-4af7-bf3c-b957af77e37f"
   },
   "outputs": [
    {
     "data": {
      "text/plain": [
       "tensor([[ 0.0513,  1.1678,  1.2772, -0.5514, -1.6940]],\n",
       "       grad_fn=<AddmmBackward0>)"
      ]
     },
     "execution_count": 112,
     "metadata": {},
     "output_type": "execute_result"
    }
   ],
   "source": [
    "result.logits"
   ]
  },
  {
   "cell_type": "code",
   "execution_count": 113,
   "id": "f4fvly3u4OrT",
   "metadata": {
    "colab": {
     "base_uri": "https://localhost:8080/"
    },
    "id": "f4fvly3u4OrT",
    "outputId": "a224accb-295f-4f9f-98d0-7597a5dff637"
   },
   "outputs": [
    {
     "data": {
      "text/plain": [
       "3"
      ]
     },
     "execution_count": 113,
     "metadata": {},
     "output_type": "execute_result"
    }
   ],
   "source": [
    "int(torch.argmax(result.logits))+1"
   ]
  },
  {
   "cell_type": "code",
   "execution_count": 114,
   "id": "64894cf4-3c76-4382-addf-e2f32fca1015",
   "metadata": {},
   "outputs": [
    {
     "data": {
      "text/html": [
       "<div>\n",
       "<style scoped>\n",
       "    .dataframe tbody tr th:only-of-type {\n",
       "        vertical-align: middle;\n",
       "    }\n",
       "\n",
       "    .dataframe tbody tr th {\n",
       "        vertical-align: top;\n",
       "    }\n",
       "\n",
       "    .dataframe thead th {\n",
       "        text-align: right;\n",
       "    }\n",
       "</style>\n",
       "<table border=\"1\" class=\"dataframe\">\n",
       "  <thead>\n",
       "    <tr style=\"text-align: right;\">\n",
       "      <th></th>\n",
       "      <th>Title</th>\n",
       "      <th>Book_Rating_Pred_Bert</th>\n",
       "    </tr>\n",
       "  </thead>\n",
       "  <tbody>\n",
       "    <tr>\n",
       "      <th>0</th>\n",
       "      <td>101 Essays That Will Change the Way You Think</td>\n",
       "      <td>3.4</td>\n",
       "    </tr>\n",
       "    <tr>\n",
       "      <th>1</th>\n",
       "      <td>15 Secrets Successful People Know About Time M...</td>\n",
       "      <td>4.4</td>\n",
       "    </tr>\n",
       "    <tr>\n",
       "      <th>2</th>\n",
       "      <td>1962: The War That Wasn't</td>\n",
       "      <td>4.2</td>\n",
       "    </tr>\n",
       "    <tr>\n",
       "      <th>3</th>\n",
       "      <td>1984</td>\n",
       "      <td>4.1</td>\n",
       "    </tr>\n",
       "    <tr>\n",
       "      <th>4</th>\n",
       "      <td>1991</td>\n",
       "      <td>4.2</td>\n",
       "    </tr>\n",
       "    <tr>\n",
       "      <th>...</th>\n",
       "      <td>...</td>\n",
       "      <td>...</td>\n",
       "    </tr>\n",
       "    <tr>\n",
       "      <th>779</th>\n",
       "      <td>YouTube Secrets</td>\n",
       "      <td>3.8</td>\n",
       "    </tr>\n",
       "    <tr>\n",
       "      <th>780</th>\n",
       "      <td>Youngblood</td>\n",
       "      <td>3.3</td>\n",
       "    </tr>\n",
       "    <tr>\n",
       "      <th>781</th>\n",
       "      <td>Your Money or Your Life</td>\n",
       "      <td>3.2</td>\n",
       "    </tr>\n",
       "    <tr>\n",
       "      <th>782</th>\n",
       "      <td>Your Soul's Plan</td>\n",
       "      <td>4.4</td>\n",
       "    </tr>\n",
       "    <tr>\n",
       "      <th>783</th>\n",
       "      <td>You’re Not Listening</td>\n",
       "      <td>3.7</td>\n",
       "    </tr>\n",
       "  </tbody>\n",
       "</table>\n",
       "<p>784 rows × 2 columns</p>\n",
       "</div>"
      ],
      "text/plain": [
       "                                                 Title  Book_Rating_Pred_Bert\n",
       "0        101 Essays That Will Change the Way You Think                    3.4\n",
       "1    15 Secrets Successful People Know About Time M...                    4.4\n",
       "2                            1962: The War That Wasn't                    4.2\n",
       "3                                                 1984                    4.1\n",
       "4                                                 1991                    4.2\n",
       "..                                                 ...                    ...\n",
       "779                                    YouTube Secrets                    3.8\n",
       "780                                         Youngblood                    3.3\n",
       "781                            Your Money or Your Life                    3.2\n",
       "782                                   Your Soul's Plan                    4.4\n",
       "783                               You’re Not Listening                    3.7\n",
       "\n",
       "[784 rows x 2 columns]"
      ]
     },
     "execution_count": 114,
     "metadata": {},
     "output_type": "execute_result"
    }
   ],
   "source": [
    "dfresult=round(dfm4.groupby(['Title']).mean(),1)\n",
    "dfresult.rename(columns = {'Rating_pred_Bert':'Book_Rating_Pred_Bert'}, inplace = True)\n",
    "dfresult = dfresult.rename_axis('Title').reset_index()\n",
    "dfresult"
   ]
  },
  {
   "cell_type": "code",
   "execution_count": 116,
   "id": "00fda552-a3ac-4079-8efa-3bcb539680b0",
   "metadata": {},
   "outputs": [
    {
     "data": {
      "text/plain": [
       "False    784\n",
       "dtype: int64"
      ]
     },
     "execution_count": 116,
     "metadata": {},
     "output_type": "execute_result"
    }
   ],
   "source": [
    "dfresult.duplicated().value_counts()"
   ]
  },
  {
   "cell_type": "code",
   "execution_count": 117,
   "id": "53f05242-33d6-4d68-b583-ffcba0aa544d",
   "metadata": {},
   "outputs": [
    {
     "data": {
      "text/html": [
       "<div>\n",
       "<style scoped>\n",
       "    .dataframe tbody tr th:only-of-type {\n",
       "        vertical-align: middle;\n",
       "    }\n",
       "\n",
       "    .dataframe tbody tr th {\n",
       "        vertical-align: top;\n",
       "    }\n",
       "\n",
       "    .dataframe thead th {\n",
       "        text-align: right;\n",
       "    }\n",
       "</style>\n",
       "<table border=\"1\" class=\"dataframe\">\n",
       "  <thead>\n",
       "    <tr style=\"text-align: right;\">\n",
       "      <th></th>\n",
       "      <th>Title</th>\n",
       "      <th>Author</th>\n",
       "      <th>Image_URL</th>\n",
       "      <th>Book_URL</th>\n",
       "      <th>Type</th>\n",
       "      <th>Description</th>\n",
       "      <th>Reviews</th>\n",
       "      <th>Rating</th>\n",
       "      <th>Book_Rating_Pred_Bert</th>\n",
       "    </tr>\n",
       "  </thead>\n",
       "  <tbody>\n",
       "    <tr>\n",
       "      <th>0</th>\n",
       "      <td>Storyworthy</td>\n",
       "      <td>Matthew Dicks</td>\n",
       "      <td>https://m.media-amazon.com/images/I/51foPoGk58...</td>\n",
       "      <td>https://www.audible.in/pd/Storyworthy-Audioboo...</td>\n",
       "      <td>['Business &amp; Careers']</td>\n",
       "      <td>A five-time Moth GrandSLAM winner and bestsell...</td>\n",
       "      <td>[' not many tips on how to deliver a good stor...</td>\n",
       "      <td>['2', '5', '1', '5', '1', '1', '4', '5', '4', ...</td>\n",
       "      <td>2.9</td>\n",
       "    </tr>\n",
       "    <tr>\n",
       "      <th>1</th>\n",
       "      <td>The New Comedy Bible</td>\n",
       "      <td>Judy Carter</td>\n",
       "      <td>https://m.media-amazon.com/images/I/51UIsSCRlQ...</td>\n",
       "      <td>https://www.audible.in/pd/The-New-Comedy-Bible...</td>\n",
       "      <td>['Arts &amp; Entertainment']</td>\n",
       "      <td>The New Comedy Bible is a step-by-step, no exc...</td>\n",
       "      <td>[' PDF workbook ', ' Fantastic Book ', ' Horri...</td>\n",
       "      <td>['5', '5', '1', '5', '3', '5', '5', '5', '4', ...</td>\n",
       "      <td>4.0</td>\n",
       "    </tr>\n",
       "    <tr>\n",
       "      <th>2</th>\n",
       "      <td>Seriously...I'm Kidding</td>\n",
       "      <td>Ellen DeGeneres</td>\n",
       "      <td>https://m.media-amazon.com/images/I/51ubd-qU8J...</td>\n",
       "      <td>https://www.audible.in/pd/SeriouslyIm-Kidding-...</td>\n",
       "      <td>['Biographies &amp; Memoirs']</td>\n",
       "      <td>With the winning, upbeat candor that has made ...</td>\n",
       "      <td>[' Better live ', ' couldn t get through it ',...</td>\n",
       "      <td>['1', '2', '3', '4', '1', '1', '2', '2', '1', ...</td>\n",
       "      <td>3.2</td>\n",
       "    </tr>\n",
       "    <tr>\n",
       "      <th>3</th>\n",
       "      <td>Seriously...I'm Kidding</td>\n",
       "      <td>Ellen DeGeneres</td>\n",
       "      <td>https://m.media-amazon.com/images/I/51ubd-qU8J...</td>\n",
       "      <td>https://www.audible.in/pd/SeriouslyIm-Kidding-...</td>\n",
       "      <td>['Biographies &amp; Memoirs']</td>\n",
       "      <td>With the winning, upbeat candor that has made ...</td>\n",
       "      <td>[' I just love it I love Ellen good for your e...</td>\n",
       "      <td>['5', '5', '5', '5', '4', '5', '4', '4', '4', ...</td>\n",
       "      <td>3.2</td>\n",
       "    </tr>\n",
       "    <tr>\n",
       "      <th>4</th>\n",
       "      <td>Someday Is Today</td>\n",
       "      <td>Matthew Dicks</td>\n",
       "      <td>https://m.media-amazon.com/images/I/41l1gHqfvp...</td>\n",
       "      <td>https://www.audible.in/pd/Someday-Is-Today-Aud...</td>\n",
       "      <td>['Arts &amp; Entertainment']</td>\n",
       "      <td>REALIZE YOUR CREATIVE DREAMS—STARTING TODAY Ar...</td>\n",
       "      <td>[' Super motivating ', ' Inspiring ']</td>\n",
       "      <td>['5', '5']</td>\n",
       "      <td>5.0</td>\n",
       "    </tr>\n",
       "  </tbody>\n",
       "</table>\n",
       "</div>"
      ],
      "text/plain": [
       "                     Title           Author  \\\n",
       "0              Storyworthy    Matthew Dicks   \n",
       "1     The New Comedy Bible      Judy Carter   \n",
       "2  Seriously...I'm Kidding  Ellen DeGeneres   \n",
       "3  Seriously...I'm Kidding  Ellen DeGeneres   \n",
       "4         Someday Is Today    Matthew Dicks   \n",
       "\n",
       "                                           Image_URL  \\\n",
       "0  https://m.media-amazon.com/images/I/51foPoGk58...   \n",
       "1  https://m.media-amazon.com/images/I/51UIsSCRlQ...   \n",
       "2  https://m.media-amazon.com/images/I/51ubd-qU8J...   \n",
       "3  https://m.media-amazon.com/images/I/51ubd-qU8J...   \n",
       "4  https://m.media-amazon.com/images/I/41l1gHqfvp...   \n",
       "\n",
       "                                            Book_URL  \\\n",
       "0  https://www.audible.in/pd/Storyworthy-Audioboo...   \n",
       "1  https://www.audible.in/pd/The-New-Comedy-Bible...   \n",
       "2  https://www.audible.in/pd/SeriouslyIm-Kidding-...   \n",
       "3  https://www.audible.in/pd/SeriouslyIm-Kidding-...   \n",
       "4  https://www.audible.in/pd/Someday-Is-Today-Aud...   \n",
       "\n",
       "                        Type  \\\n",
       "0     ['Business & Careers']   \n",
       "1   ['Arts & Entertainment']   \n",
       "2  ['Biographies & Memoirs']   \n",
       "3  ['Biographies & Memoirs']   \n",
       "4   ['Arts & Entertainment']   \n",
       "\n",
       "                                         Description  \\\n",
       "0  A five-time Moth GrandSLAM winner and bestsell...   \n",
       "1  The New Comedy Bible is a step-by-step, no exc...   \n",
       "2  With the winning, upbeat candor that has made ...   \n",
       "3  With the winning, upbeat candor that has made ...   \n",
       "4  REALIZE YOUR CREATIVE DREAMS—STARTING TODAY Ar...   \n",
       "\n",
       "                                             Reviews  \\\n",
       "0  [' not many tips on how to deliver a good stor...   \n",
       "1  [' PDF workbook ', ' Fantastic Book ', ' Horri...   \n",
       "2  [' Better live ', ' couldn t get through it ',...   \n",
       "3  [' I just love it I love Ellen good for your e...   \n",
       "4              [' Super motivating ', ' Inspiring ']   \n",
       "\n",
       "                                              Rating  Book_Rating_Pred_Bert  \n",
       "0  ['2', '5', '1', '5', '1', '1', '4', '5', '4', ...                    2.9  \n",
       "1  ['5', '5', '1', '5', '3', '5', '5', '5', '4', ...                    4.0  \n",
       "2  ['1', '2', '3', '4', '1', '1', '2', '2', '1', ...                    3.2  \n",
       "3  ['5', '5', '5', '5', '4', '5', '4', '4', '4', ...                    3.2  \n",
       "4                                         ['5', '5']                    5.0  "
      ]
     },
     "execution_count": 117,
     "metadata": {},
     "output_type": "execute_result"
    }
   ],
   "source": [
    "df_final=df.merge(dfresult,on='Title')\n",
    "df_final.head()"
   ]
  },
  {
   "cell_type": "code",
   "execution_count": 127,
   "id": "6ab877bd-ecae-48b9-9447-6107391130be",
   "metadata": {},
   "outputs": [
    {
     "data": {
      "text/plain": [
       "0                                         Storyworthy\n",
       "1                                The New Comedy Bible\n",
       "2                             Seriously...I'm Kidding\n",
       "4                                    Someday Is Today\n",
       "5                                          Good Omens\n",
       "                            ...                      \n",
       "793                Socialist Dreams and Beauty Queens\n",
       "794                                      World Travel\n",
       "795                                 Canada Is Awesome\n",
       "796                            To a Mountain in Tibet\n",
       "797    David Attenborough: The Early Years Collection\n",
       "Name: Title, Length: 784, dtype: object"
      ]
     },
     "execution_count": 127,
     "metadata": {},
     "output_type": "execute_result"
    }
   ],
   "source": [
    "df_test=df_final.copy()\n",
    "df_test[\"Title\"].drop_duplicates()"
   ]
  },
  {
   "cell_type": "code",
   "execution_count": 128,
   "id": "fa404114-b710-4e4b-a7c9-e361aa0a37a1",
   "metadata": {},
   "outputs": [
    {
     "data": {
      "text/html": [
       "<div>\n",
       "<style scoped>\n",
       "    .dataframe tbody tr th:only-of-type {\n",
       "        vertical-align: middle;\n",
       "    }\n",
       "\n",
       "    .dataframe tbody tr th {\n",
       "        vertical-align: top;\n",
       "    }\n",
       "\n",
       "    .dataframe thead th {\n",
       "        text-align: right;\n",
       "    }\n",
       "</style>\n",
       "<table border=\"1\" class=\"dataframe\">\n",
       "  <thead>\n",
       "    <tr style=\"text-align: right;\">\n",
       "      <th></th>\n",
       "      <th>Title</th>\n",
       "      <th>Author</th>\n",
       "      <th>Image_URL</th>\n",
       "      <th>Book_URL</th>\n",
       "      <th>Type</th>\n",
       "      <th>Description</th>\n",
       "      <th>Reviews</th>\n",
       "      <th>Rating</th>\n",
       "      <th>Book_Rating_Pred_Bert</th>\n",
       "    </tr>\n",
       "  </thead>\n",
       "  <tbody>\n",
       "    <tr>\n",
       "      <th>0</th>\n",
       "      <td>Storyworthy</td>\n",
       "      <td>Matthew Dicks</td>\n",
       "      <td>https://m.media-amazon.com/images/I/51foPoGk58...</td>\n",
       "      <td>https://www.audible.in/pd/Storyworthy-Audioboo...</td>\n",
       "      <td>['Business &amp; Careers']</td>\n",
       "      <td>A five-time Moth GrandSLAM winner and bestsell...</td>\n",
       "      <td>[' not many tips on how to deliver a good stor...</td>\n",
       "      <td>['2', '5', '1', '5', '1', '1', '4', '5', '4', ...</td>\n",
       "      <td>2.9</td>\n",
       "    </tr>\n",
       "    <tr>\n",
       "      <th>1</th>\n",
       "      <td>The New Comedy Bible</td>\n",
       "      <td>Judy Carter</td>\n",
       "      <td>https://m.media-amazon.com/images/I/51UIsSCRlQ...</td>\n",
       "      <td>https://www.audible.in/pd/The-New-Comedy-Bible...</td>\n",
       "      <td>['Arts &amp; Entertainment']</td>\n",
       "      <td>The New Comedy Bible is a step-by-step, no exc...</td>\n",
       "      <td>[' PDF workbook ', ' Fantastic Book ', ' Horri...</td>\n",
       "      <td>['5', '5', '1', '5', '3', '5', '5', '5', '4', ...</td>\n",
       "      <td>4.0</td>\n",
       "    </tr>\n",
       "    <tr>\n",
       "      <th>2</th>\n",
       "      <td>Seriously...I'm Kidding</td>\n",
       "      <td>Ellen DeGeneres</td>\n",
       "      <td>https://m.media-amazon.com/images/I/51ubd-qU8J...</td>\n",
       "      <td>https://www.audible.in/pd/SeriouslyIm-Kidding-...</td>\n",
       "      <td>['Biographies &amp; Memoirs']</td>\n",
       "      <td>With the winning, upbeat candor that has made ...</td>\n",
       "      <td>[' Better live ', ' couldn t get through it ',...</td>\n",
       "      <td>['1', '2', '3', '4', '1', '1', '2', '2', '1', ...</td>\n",
       "      <td>3.2</td>\n",
       "    </tr>\n",
       "    <tr>\n",
       "      <th>3</th>\n",
       "      <td>Seriously...I'm Kidding</td>\n",
       "      <td>Ellen DeGeneres</td>\n",
       "      <td>https://m.media-amazon.com/images/I/51ubd-qU8J...</td>\n",
       "      <td>https://www.audible.in/pd/SeriouslyIm-Kidding-...</td>\n",
       "      <td>['Biographies &amp; Memoirs']</td>\n",
       "      <td>With the winning, upbeat candor that has made ...</td>\n",
       "      <td>[' I just love it I love Ellen good for your e...</td>\n",
       "      <td>['5', '5', '5', '5', '4', '5', '4', '4', '4', ...</td>\n",
       "      <td>3.2</td>\n",
       "    </tr>\n",
       "    <tr>\n",
       "      <th>4</th>\n",
       "      <td>Someday Is Today</td>\n",
       "      <td>Matthew Dicks</td>\n",
       "      <td>https://m.media-amazon.com/images/I/41l1gHqfvp...</td>\n",
       "      <td>https://www.audible.in/pd/Someday-Is-Today-Aud...</td>\n",
       "      <td>['Arts &amp; Entertainment']</td>\n",
       "      <td>REALIZE YOUR CREATIVE DREAMS—STARTING TODAY Ar...</td>\n",
       "      <td>[' Super motivating ', ' Inspiring ']</td>\n",
       "      <td>['5', '5']</td>\n",
       "      <td>5.0</td>\n",
       "    </tr>\n",
       "  </tbody>\n",
       "</table>\n",
       "</div>"
      ],
      "text/plain": [
       "                     Title           Author  \\\n",
       "0              Storyworthy    Matthew Dicks   \n",
       "1     The New Comedy Bible      Judy Carter   \n",
       "2  Seriously...I'm Kidding  Ellen DeGeneres   \n",
       "3  Seriously...I'm Kidding  Ellen DeGeneres   \n",
       "4         Someday Is Today    Matthew Dicks   \n",
       "\n",
       "                                           Image_URL  \\\n",
       "0  https://m.media-amazon.com/images/I/51foPoGk58...   \n",
       "1  https://m.media-amazon.com/images/I/51UIsSCRlQ...   \n",
       "2  https://m.media-amazon.com/images/I/51ubd-qU8J...   \n",
       "3  https://m.media-amazon.com/images/I/51ubd-qU8J...   \n",
       "4  https://m.media-amazon.com/images/I/41l1gHqfvp...   \n",
       "\n",
       "                                            Book_URL  \\\n",
       "0  https://www.audible.in/pd/Storyworthy-Audioboo...   \n",
       "1  https://www.audible.in/pd/The-New-Comedy-Bible...   \n",
       "2  https://www.audible.in/pd/SeriouslyIm-Kidding-...   \n",
       "3  https://www.audible.in/pd/SeriouslyIm-Kidding-...   \n",
       "4  https://www.audible.in/pd/Someday-Is-Today-Aud...   \n",
       "\n",
       "                        Type  \\\n",
       "0     ['Business & Careers']   \n",
       "1   ['Arts & Entertainment']   \n",
       "2  ['Biographies & Memoirs']   \n",
       "3  ['Biographies & Memoirs']   \n",
       "4   ['Arts & Entertainment']   \n",
       "\n",
       "                                         Description  \\\n",
       "0  A five-time Moth GrandSLAM winner and bestsell...   \n",
       "1  The New Comedy Bible is a step-by-step, no exc...   \n",
       "2  With the winning, upbeat candor that has made ...   \n",
       "3  With the winning, upbeat candor that has made ...   \n",
       "4  REALIZE YOUR CREATIVE DREAMS—STARTING TODAY Ar...   \n",
       "\n",
       "                                             Reviews  \\\n",
       "0  [' not many tips on how to deliver a good stor...   \n",
       "1  [' PDF workbook ', ' Fantastic Book ', ' Horri...   \n",
       "2  [' Better live ', ' couldn t get through it ',...   \n",
       "3  [' I just love it I love Ellen good for your e...   \n",
       "4              [' Super motivating ', ' Inspiring ']   \n",
       "\n",
       "                                              Rating  Book_Rating_Pred_Bert  \n",
       "0  ['2', '5', '1', '5', '1', '1', '4', '5', '4', ...                    2.9  \n",
       "1  ['5', '5', '1', '5', '3', '5', '5', '5', '4', ...                    4.0  \n",
       "2  ['1', '2', '3', '4', '1', '1', '2', '2', '1', ...                    3.2  \n",
       "3  ['5', '5', '5', '5', '4', '5', '4', '4', '4', ...                    3.2  \n",
       "4                                         ['5', '5']                    5.0  "
      ]
     },
     "execution_count": 128,
     "metadata": {},
     "output_type": "execute_result"
    }
   ],
   "source": [
    "df_test.head()"
   ]
  },
  {
   "cell_type": "code",
   "execution_count": 130,
   "id": "0f520c8b-6eec-4814-af86-61a893ec384f",
   "metadata": {},
   "outputs": [],
   "source": [
    "df_test.to_csv('English_DB.csv')"
   ]
  },
  {
   "cell_type": "code",
   "execution_count": 207,
   "id": "20ef1175-9965-48a6-9ff0-c788c1dadaee",
   "metadata": {},
   "outputs": [],
   "source": [
    "dfm5=df2.copy()\n"
   ]
  },
  {
   "cell_type": "code",
   "execution_count": 208,
   "id": "d747e591-5e0f-4e12-afa6-0db6f2c317a6",
   "metadata": {},
   "outputs": [
    {
     "name": "stdout",
     "output_type": "stream",
     "text": [
      "Requirement already satisfied: nrclex in d:\\users\\zayneb\\anaconda3\\lib\\site-packages (3.0.0)\n",
      "Requirement already satisfied: textblob in d:\\users\\zayneb\\anaconda3\\lib\\site-packages (from nrclex) (0.17.1)\n",
      "Requirement already satisfied: nltk>=3.1 in d:\\users\\zayneb\\anaconda3\\lib\\site-packages (from textblob->nrclex) (3.7)\n",
      "Requirement already satisfied: regex>=2021.8.3 in d:\\users\\zayneb\\anaconda3\\lib\\site-packages (from nltk>=3.1->textblob->nrclex) (2022.3.15)\n",
      "Requirement already satisfied: click in d:\\users\\zayneb\\anaconda3\\lib\\site-packages (from nltk>=3.1->textblob->nrclex) (8.0.4)\n",
      "Requirement already satisfied: joblib in d:\\users\\zayneb\\anaconda3\\lib\\site-packages (from nltk>=3.1->textblob->nrclex) (1.1.0)\n",
      "Requirement already satisfied: tqdm in d:\\users\\zayneb\\anaconda3\\lib\\site-packages (from nltk>=3.1->textblob->nrclex) (4.64.0)\n",
      "Requirement already satisfied: colorama in d:\\users\\zayneb\\anaconda3\\lib\\site-packages (from click->nltk>=3.1->textblob->nrclex) (0.4.4)\n"
     ]
    }
   ],
   "source": [
    "!pip install nrclex"
   ]
  },
  {
   "cell_type": "code",
   "execution_count": 209,
   "id": "e8f37f90-aa9f-4558-bc74-9659df350bdb",
   "metadata": {},
   "outputs": [],
   "source": [
    "from nrclex import NRCLex"
   ]
  },
  {
   "cell_type": "code",
   "execution_count": 210,
   "id": "63e28bff-85be-4ed1-b2f9-31b554326396",
   "metadata": {},
   "outputs": [],
   "source": [
    "\n",
    "emotion = []\n",
    "for i in range(len(dfm5)):\n",
    "    emotions = NRCLex(dfm5['Reviews'][i])\n",
    "    emotion.append(emotions.top_emotions[0][0])\n",
    "dfm5['emotion'] = emotion"
   ]
  },
  {
   "cell_type": "code",
   "execution_count": 211,
   "id": "e09c9083-9681-4967-895c-b9ac012f4ae2",
   "metadata": {},
   "outputs": [
    {
     "data": {
      "text/plain": [
       "positive        11235\n",
       "trust            3483\n",
       "fear             1407\n",
       "negative         1263\n",
       "anticipation      643\n",
       "anger             334\n",
       "surprise          171\n",
       "sadness            31\n",
       "joy                 6\n",
       "disgust             5\n",
       "Name: emotion, dtype: int64"
      ]
     },
     "execution_count": 211,
     "metadata": {},
     "output_type": "execute_result"
    }
   ],
   "source": [
    "dfm5['emotion'].value_counts()"
   ]
  },
  {
   "cell_type": "code",
   "execution_count": 212,
   "id": "1c434f2e-8319-4400-8770-594046c706e5",
   "metadata": {},
   "outputs": [
    {
     "data": {
      "text/html": [
       "<div>\n",
       "<style scoped>\n",
       "    .dataframe tbody tr th:only-of-type {\n",
       "        vertical-align: middle;\n",
       "    }\n",
       "\n",
       "    .dataframe tbody tr th {\n",
       "        vertical-align: top;\n",
       "    }\n",
       "\n",
       "    .dataframe thead th {\n",
       "        text-align: right;\n",
       "    }\n",
       "</style>\n",
       "<table border=\"1\" class=\"dataframe\">\n",
       "  <thead>\n",
       "    <tr style=\"text-align: right;\">\n",
       "      <th></th>\n",
       "      <th>Title</th>\n",
       "      <th>Reviews</th>\n",
       "      <th>Rating</th>\n",
       "      <th>emotion</th>\n",
       "    </tr>\n",
       "  </thead>\n",
       "  <tbody>\n",
       "    <tr>\n",
       "      <th>0</th>\n",
       "      <td>Storyworthy</td>\n",
       "      <td>many tips deliver good</td>\n",
       "      <td>2</td>\n",
       "      <td>trust</td>\n",
       "    </tr>\n",
       "    <tr>\n",
       "      <th>1</th>\n",
       "      <td>Storyworthy</td>\n",
       "      <td>book leapt top</td>\n",
       "      <td>5</td>\n",
       "      <td>trust</td>\n",
       "    </tr>\n",
       "    <tr>\n",
       "      <th>2</th>\n",
       "      <td>Storyworthy</td>\n",
       "      <td>better</td>\n",
       "      <td>1</td>\n",
       "      <td>fear</td>\n",
       "    </tr>\n",
       "    <tr>\n",
       "      <th>3</th>\n",
       "      <td>Storyworthy</td>\n",
       "      <td>thought provoking</td>\n",
       "      <td>5</td>\n",
       "      <td>anger</td>\n",
       "    </tr>\n",
       "    <tr>\n",
       "      <th>4</th>\n",
       "      <td>Storyworthy</td>\n",
       "      <td>voice gave massive headache</td>\n",
       "      <td>1</td>\n",
       "      <td>negative</td>\n",
       "    </tr>\n",
       "    <tr>\n",
       "      <th>...</th>\n",
       "      <td>...</td>\n",
       "      <td>...</td>\n",
       "      <td>...</td>\n",
       "      <td>...</td>\n",
       "    </tr>\n",
       "    <tr>\n",
       "      <th>18573</th>\n",
       "      <td>David Attenborough: The Early Years Collection</td>\n",
       "      <td>genius richard attenborough beyond belief inte...</td>\n",
       "      <td>5</td>\n",
       "      <td>positive</td>\n",
       "    </tr>\n",
       "    <tr>\n",
       "      <th>18574</th>\n",
       "      <td>David Attenborough: The Early Years Collection</td>\n",
       "      <td>good thing disappointed book ended written spe...</td>\n",
       "      <td>5</td>\n",
       "      <td>positive</td>\n",
       "    </tr>\n",
       "    <tr>\n",
       "      <th>18575</th>\n",
       "      <td>David Attenborough: The Early Years Collection</td>\n",
       "      <td>intrigued laughing whole way always fan man pr...</td>\n",
       "      <td>5</td>\n",
       "      <td>trust</td>\n",
       "    </tr>\n",
       "    <tr>\n",
       "      <th>18576</th>\n",
       "      <td>David Attenborough: The Early Years Collection</td>\n",
       "      <td>spellbinding loved book interesting see evolut...</td>\n",
       "      <td>5</td>\n",
       "      <td>positive</td>\n",
       "    </tr>\n",
       "    <tr>\n",
       "      <th>18577</th>\n",
       "      <td>David Attenborough: The Early Years Collection</td>\n",
       "      <td>absolutely uplifting thoroughly enjoyable adve...</td>\n",
       "      <td>5</td>\n",
       "      <td>trust</td>\n",
       "    </tr>\n",
       "  </tbody>\n",
       "</table>\n",
       "<p>18578 rows × 4 columns</p>\n",
       "</div>"
      ],
      "text/plain": [
       "                                                Title  \\\n",
       "0                                         Storyworthy   \n",
       "1                                         Storyworthy   \n",
       "2                                         Storyworthy   \n",
       "3                                         Storyworthy   \n",
       "4                                         Storyworthy   \n",
       "...                                               ...   \n",
       "18573  David Attenborough: The Early Years Collection   \n",
       "18574  David Attenborough: The Early Years Collection   \n",
       "18575  David Attenborough: The Early Years Collection   \n",
       "18576  David Attenborough: The Early Years Collection   \n",
       "18577  David Attenborough: The Early Years Collection   \n",
       "\n",
       "                                                 Reviews Rating   emotion  \n",
       "0                                 many tips deliver good     2      trust  \n",
       "1                                         book leapt top     5      trust  \n",
       "2                                                 better     1       fear  \n",
       "3                                      thought provoking     5      anger  \n",
       "4                            voice gave massive headache     1   negative  \n",
       "...                                                  ...    ...       ...  \n",
       "18573  genius richard attenborough beyond belief inte...     5   positive  \n",
       "18574  good thing disappointed book ended written spe...     5   positive  \n",
       "18575  intrigued laughing whole way always fan man pr...     5      trust  \n",
       "18576  spellbinding loved book interesting see evolut...     5   positive  \n",
       "18577  absolutely uplifting thoroughly enjoyable adve...     5      trust  \n",
       "\n",
       "[18578 rows x 4 columns]"
      ]
     },
     "execution_count": 212,
     "metadata": {},
     "output_type": "execute_result"
    }
   ],
   "source": [
    "dfm5"
   ]
  },
  {
   "cell_type": "code",
   "execution_count": 214,
   "id": "38523809-ef1b-4d1c-8e48-066fa924382b",
   "metadata": {},
   "outputs": [],
   "source": [
    "dfm5.to_csv('sentiment.csv')"
   ]
  },
  {
   "cell_type": "code",
   "execution_count": 215,
   "id": "9a0f1c06-616a-40f9-bcf3-2b8ada5d0ff0",
   "metadata": {},
   "outputs": [
    {
     "data": {
      "text/plain": [
       "[\"[' not many tips on how to deliver a good story ', ' This book leapt into my top 5 ', ' There are better books On Story then this ', ' Thought provoking ', ' his voice gave me a massive headache ', ' Really don t waste your hard earned money on this ', ' Okay that was good gotcha ', ' Matthew Dicks is a superhero ', ' Quite insightful but doesn t get into the why ', ' Headline required ']\"]"
      ]
     },
     "execution_count": 215,
     "metadata": {},
     "output_type": "execute_result"
    }
   ],
   "source": [
    "df.loc[df[\"Title\"] == \"Storyworthy\" , \"Reviews\"].tolist()"
   ]
  },
  {
   "cell_type": "code",
   "execution_count": null,
   "id": "3139aba8-6db2-4ce9-8c24-2c2ef1486f17",
   "metadata": {},
   "outputs": [],
   "source": []
  }
 ],
 "metadata": {
  "colab": {
   "collapsed_sections": [],
   "name": "French DP_Audible.ipynb",
   "provenance": [
    {
     "file_id": "15PbmXltkBTlRVHqEfrzDqAh7z5Xq_Wpk",
     "timestamp": 1660906739959
    }
   ]
  },
  "kernelspec": {
   "display_name": "Python 3 (ipykernel)",
   "language": "python",
   "name": "python3"
  },
  "language_info": {
   "codemirror_mode": {
    "name": "ipython",
    "version": 3
   },
   "file_extension": ".py",
   "mimetype": "text/x-python",
   "name": "python",
   "nbconvert_exporter": "python",
   "pygments_lexer": "ipython3",
   "version": "3.9.12"
  },
  "widgets": {
   "application/vnd.jupyter.widget-state+json": {
    "08f642845ebc4aa09e90bba5f97c6f8a": {
     "model_module": "@jupyter-widgets/controls",
     "model_module_version": "1.5.0",
     "model_name": "HTMLModel",
     "state": {
      "_dom_classes": [],
      "_model_module": "@jupyter-widgets/controls",
      "_model_module_version": "1.5.0",
      "_model_name": "HTMLModel",
      "_view_count": null,
      "_view_module": "@jupyter-widgets/controls",
      "_view_module_version": "1.5.0",
      "_view_name": "HTMLView",
      "description": "",
      "description_tooltip": null,
      "layout": "IPY_MODEL_0d26aac0e8a74769a5c2724e74bb8cba",
      "placeholder": "​",
      "style": "IPY_MODEL_75d30707e13d4ba18c54e830416b781a",
      "value": " 851k/851k [00:00&lt;00:00, 5.55MB/s]"
     }
    },
    "0d26aac0e8a74769a5c2724e74bb8cba": {
     "model_module": "@jupyter-widgets/base",
     "model_module_version": "1.2.0",
     "model_name": "LayoutModel",
     "state": {
      "_model_module": "@jupyter-widgets/base",
      "_model_module_version": "1.2.0",
      "_model_name": "LayoutModel",
      "_view_count": null,
      "_view_module": "@jupyter-widgets/base",
      "_view_module_version": "1.2.0",
      "_view_name": "LayoutView",
      "align_content": null,
      "align_items": null,
      "align_self": null,
      "border": null,
      "bottom": null,
      "display": null,
      "flex": null,
      "flex_flow": null,
      "grid_area": null,
      "grid_auto_columns": null,
      "grid_auto_flow": null,
      "grid_auto_rows": null,
      "grid_column": null,
      "grid_gap": null,
      "grid_row": null,
      "grid_template_areas": null,
      "grid_template_columns": null,
      "grid_template_rows": null,
      "height": null,
      "justify_content": null,
      "justify_items": null,
      "left": null,
      "margin": null,
      "max_height": null,
      "max_width": null,
      "min_height": null,
      "min_width": null,
      "object_fit": null,
      "object_position": null,
      "order": null,
      "overflow": null,
      "overflow_x": null,
      "overflow_y": null,
      "padding": null,
      "right": null,
      "top": null,
      "visibility": null,
      "width": null
     }
    },
    "0e6256c9b0d24449b9838ae618f2bcba": {
     "model_module": "@jupyter-widgets/controls",
     "model_module_version": "1.5.0",
     "model_name": "FloatProgressModel",
     "state": {
      "_dom_classes": [],
      "_model_module": "@jupyter-widgets/controls",
      "_model_module_version": "1.5.0",
      "_model_name": "FloatProgressModel",
      "_view_count": null,
      "_view_module": "@jupyter-widgets/controls",
      "_view_module_version": "1.5.0",
      "_view_name": "ProgressView",
      "bar_style": "success",
      "description": "",
      "description_tooltip": null,
      "layout": "IPY_MODEL_7629206078224a00ba404ea646c743f2",
      "max": 669491321,
      "min": 0,
      "orientation": "horizontal",
      "style": "IPY_MODEL_92f6383124d14876910398353f9ee21c",
      "value": 669491321
     }
    },
    "17309bd5815143458ba052478dedbdf0": {
     "model_module": "@jupyter-widgets/base",
     "model_module_version": "1.2.0",
     "model_name": "LayoutModel",
     "state": {
      "_model_module": "@jupyter-widgets/base",
      "_model_module_version": "1.2.0",
      "_model_name": "LayoutModel",
      "_view_count": null,
      "_view_module": "@jupyter-widgets/base",
      "_view_module_version": "1.2.0",
      "_view_name": "LayoutView",
      "align_content": null,
      "align_items": null,
      "align_self": null,
      "border": null,
      "bottom": null,
      "display": null,
      "flex": null,
      "flex_flow": null,
      "grid_area": null,
      "grid_auto_columns": null,
      "grid_auto_flow": null,
      "grid_auto_rows": null,
      "grid_column": null,
      "grid_gap": null,
      "grid_row": null,
      "grid_template_areas": null,
      "grid_template_columns": null,
      "grid_template_rows": null,
      "height": null,
      "justify_content": null,
      "justify_items": null,
      "left": null,
      "margin": null,
      "max_height": null,
      "max_width": null,
      "min_height": null,
      "min_width": null,
      "object_fit": null,
      "object_position": null,
      "order": null,
      "overflow": null,
      "overflow_x": null,
      "overflow_y": null,
      "padding": null,
      "right": null,
      "top": null,
      "visibility": null,
      "width": null
     }
    },
    "1baa58b4a8134699aa979611f2409fd7": {
     "model_module": "@jupyter-widgets/base",
     "model_module_version": "1.2.0",
     "model_name": "LayoutModel",
     "state": {
      "_model_module": "@jupyter-widgets/base",
      "_model_module_version": "1.2.0",
      "_model_name": "LayoutModel",
      "_view_count": null,
      "_view_module": "@jupyter-widgets/base",
      "_view_module_version": "1.2.0",
      "_view_name": "LayoutView",
      "align_content": null,
      "align_items": null,
      "align_self": null,
      "border": null,
      "bottom": null,
      "display": null,
      "flex": null,
      "flex_flow": null,
      "grid_area": null,
      "grid_auto_columns": null,
      "grid_auto_flow": null,
      "grid_auto_rows": null,
      "grid_column": null,
      "grid_gap": null,
      "grid_row": null,
      "grid_template_areas": null,
      "grid_template_columns": null,
      "grid_template_rows": null,
      "height": null,
      "justify_content": null,
      "justify_items": null,
      "left": null,
      "margin": null,
      "max_height": null,
      "max_width": null,
      "min_height": null,
      "min_width": null,
      "object_fit": null,
      "object_position": null,
      "order": null,
      "overflow": null,
      "overflow_x": null,
      "overflow_y": null,
      "padding": null,
      "right": null,
      "top": null,
      "visibility": null,
      "width": null
     }
    },
    "1c670c89024248cbbbb73506728a9ab9": {
     "model_module": "@jupyter-widgets/base",
     "model_module_version": "1.2.0",
     "model_name": "LayoutModel",
     "state": {
      "_model_module": "@jupyter-widgets/base",
      "_model_module_version": "1.2.0",
      "_model_name": "LayoutModel",
      "_view_count": null,
      "_view_module": "@jupyter-widgets/base",
      "_view_module_version": "1.2.0",
      "_view_name": "LayoutView",
      "align_content": null,
      "align_items": null,
      "align_self": null,
      "border": null,
      "bottom": null,
      "display": null,
      "flex": null,
      "flex_flow": null,
      "grid_area": null,
      "grid_auto_columns": null,
      "grid_auto_flow": null,
      "grid_auto_rows": null,
      "grid_column": null,
      "grid_gap": null,
      "grid_row": null,
      "grid_template_areas": null,
      "grid_template_columns": null,
      "grid_template_rows": null,
      "height": null,
      "justify_content": null,
      "justify_items": null,
      "left": null,
      "margin": null,
      "max_height": null,
      "max_width": null,
      "min_height": null,
      "min_width": null,
      "object_fit": null,
      "object_position": null,
      "order": null,
      "overflow": null,
      "overflow_x": null,
      "overflow_y": null,
      "padding": null,
      "right": null,
      "top": null,
      "visibility": null,
      "width": null
     }
    },
    "259894b738d14130a5cda46b64180840": {
     "model_module": "@jupyter-widgets/base",
     "model_module_version": "1.2.0",
     "model_name": "LayoutModel",
     "state": {
      "_model_module": "@jupyter-widgets/base",
      "_model_module_version": "1.2.0",
      "_model_name": "LayoutModel",
      "_view_count": null,
      "_view_module": "@jupyter-widgets/base",
      "_view_module_version": "1.2.0",
      "_view_name": "LayoutView",
      "align_content": null,
      "align_items": null,
      "align_self": null,
      "border": null,
      "bottom": null,
      "display": null,
      "flex": null,
      "flex_flow": null,
      "grid_area": null,
      "grid_auto_columns": null,
      "grid_auto_flow": null,
      "grid_auto_rows": null,
      "grid_column": null,
      "grid_gap": null,
      "grid_row": null,
      "grid_template_areas": null,
      "grid_template_columns": null,
      "grid_template_rows": null,
      "height": null,
      "justify_content": null,
      "justify_items": null,
      "left": null,
      "margin": null,
      "max_height": null,
      "max_width": null,
      "min_height": null,
      "min_width": null,
      "object_fit": null,
      "object_position": null,
      "order": null,
      "overflow": null,
      "overflow_x": null,
      "overflow_y": null,
      "padding": null,
      "right": null,
      "top": null,
      "visibility": null,
      "width": null
     }
    },
    "26f9537872ea41eebc4fa2387550fb43": {
     "model_module": "@jupyter-widgets/controls",
     "model_module_version": "1.5.0",
     "model_name": "DescriptionStyleModel",
     "state": {
      "_model_module": "@jupyter-widgets/controls",
      "_model_module_version": "1.5.0",
      "_model_name": "DescriptionStyleModel",
      "_view_count": null,
      "_view_module": "@jupyter-widgets/base",
      "_view_module_version": "1.2.0",
      "_view_name": "StyleView",
      "description_width": ""
     }
    },
    "2cf1e7ecd2db443faf67106bddbdfcd0": {
     "model_module": "@jupyter-widgets/controls",
     "model_module_version": "1.5.0",
     "model_name": "HTMLModel",
     "state": {
      "_dom_classes": [],
      "_model_module": "@jupyter-widgets/controls",
      "_model_module_version": "1.5.0",
      "_model_name": "HTMLModel",
      "_view_count": null,
      "_view_module": "@jupyter-widgets/controls",
      "_view_module_version": "1.5.0",
      "_view_name": "HTMLView",
      "description": "",
      "description_tooltip": null,
      "layout": "IPY_MODEL_cbc24bb04c3842c383262dd6163254df",
      "placeholder": "​",
      "style": "IPY_MODEL_e29c3a4badb14a7aa1138706dd25a585",
      "value": "Downloading special_tokens_map.json: 100%"
     }
    },
    "3073833450414f1b98be92efd10491bd": {
     "model_module": "@jupyter-widgets/base",
     "model_module_version": "1.2.0",
     "model_name": "LayoutModel",
     "state": {
      "_model_module": "@jupyter-widgets/base",
      "_model_module_version": "1.2.0",
      "_model_name": "LayoutModel",
      "_view_count": null,
      "_view_module": "@jupyter-widgets/base",
      "_view_module_version": "1.2.0",
      "_view_name": "LayoutView",
      "align_content": null,
      "align_items": null,
      "align_self": null,
      "border": null,
      "bottom": null,
      "display": null,
      "flex": null,
      "flex_flow": null,
      "grid_area": null,
      "grid_auto_columns": null,
      "grid_auto_flow": null,
      "grid_auto_rows": null,
      "grid_column": null,
      "grid_gap": null,
      "grid_row": null,
      "grid_template_areas": null,
      "grid_template_columns": null,
      "grid_template_rows": null,
      "height": null,
      "justify_content": null,
      "justify_items": null,
      "left": null,
      "margin": null,
      "max_height": null,
      "max_width": null,
      "min_height": null,
      "min_width": null,
      "object_fit": null,
      "object_position": null,
      "order": null,
      "overflow": null,
      "overflow_x": null,
      "overflow_y": null,
      "padding": null,
      "right": null,
      "top": null,
      "visibility": null,
      "width": null
     }
    },
    "31412e9ab15547dfbd2a5e0bc79d02bd": {
     "model_module": "@jupyter-widgets/base",
     "model_module_version": "1.2.0",
     "model_name": "LayoutModel",
     "state": {
      "_model_module": "@jupyter-widgets/base",
      "_model_module_version": "1.2.0",
      "_model_name": "LayoutModel",
      "_view_count": null,
      "_view_module": "@jupyter-widgets/base",
      "_view_module_version": "1.2.0",
      "_view_name": "LayoutView",
      "align_content": null,
      "align_items": null,
      "align_self": null,
      "border": null,
      "bottom": null,
      "display": null,
      "flex": null,
      "flex_flow": null,
      "grid_area": null,
      "grid_auto_columns": null,
      "grid_auto_flow": null,
      "grid_auto_rows": null,
      "grid_column": null,
      "grid_gap": null,
      "grid_row": null,
      "grid_template_areas": null,
      "grid_template_columns": null,
      "grid_template_rows": null,
      "height": null,
      "justify_content": null,
      "justify_items": null,
      "left": null,
      "margin": null,
      "max_height": null,
      "max_width": null,
      "min_height": null,
      "min_width": null,
      "object_fit": null,
      "object_position": null,
      "order": null,
      "overflow": null,
      "overflow_x": null,
      "overflow_y": null,
      "padding": null,
      "right": null,
      "top": null,
      "visibility": null,
      "width": null
     }
    },
    "3a1ab884a9f9443c88e399b7becbee79": {
     "model_module": "@jupyter-widgets/controls",
     "model_module_version": "1.5.0",
     "model_name": "DescriptionStyleModel",
     "state": {
      "_model_module": "@jupyter-widgets/controls",
      "_model_module_version": "1.5.0",
      "_model_name": "DescriptionStyleModel",
      "_view_count": null,
      "_view_module": "@jupyter-widgets/base",
      "_view_module_version": "1.2.0",
      "_view_name": "StyleView",
      "description_width": ""
     }
    },
    "3add2375e1e04454a86c83e40600c38e": {
     "model_module": "@jupyter-widgets/controls",
     "model_module_version": "1.5.0",
     "model_name": "HTMLModel",
     "state": {
      "_dom_classes": [],
      "_model_module": "@jupyter-widgets/controls",
      "_model_module_version": "1.5.0",
      "_model_name": "HTMLModel",
      "_view_count": null,
      "_view_module": "@jupyter-widgets/controls",
      "_view_module_version": "1.5.0",
      "_view_name": "HTMLView",
      "description": "",
      "description_tooltip": null,
      "layout": "IPY_MODEL_d215f903f15c4dde8029b46b240ca745",
      "placeholder": "​",
      "style": "IPY_MODEL_e4d5ebef5c8743ef8e1d58b04f111c12",
      "value": " 112/112 [00:00&lt;00:00, 2.56kB/s]"
     }
    },
    "4d5e703e4fcb466cb680116605e77c3d": {
     "model_module": "@jupyter-widgets/base",
     "model_module_version": "1.2.0",
     "model_name": "LayoutModel",
     "state": {
      "_model_module": "@jupyter-widgets/base",
      "_model_module_version": "1.2.0",
      "_model_name": "LayoutModel",
      "_view_count": null,
      "_view_module": "@jupyter-widgets/base",
      "_view_module_version": "1.2.0",
      "_view_name": "LayoutView",
      "align_content": null,
      "align_items": null,
      "align_self": null,
      "border": null,
      "bottom": null,
      "display": null,
      "flex": null,
      "flex_flow": null,
      "grid_area": null,
      "grid_auto_columns": null,
      "grid_auto_flow": null,
      "grid_auto_rows": null,
      "grid_column": null,
      "grid_gap": null,
      "grid_row": null,
      "grid_template_areas": null,
      "grid_template_columns": null,
      "grid_template_rows": null,
      "height": null,
      "justify_content": null,
      "justify_items": null,
      "left": null,
      "margin": null,
      "max_height": null,
      "max_width": null,
      "min_height": null,
      "min_width": null,
      "object_fit": null,
      "object_position": null,
      "order": null,
      "overflow": null,
      "overflow_x": null,
      "overflow_y": null,
      "padding": null,
      "right": null,
      "top": null,
      "visibility": null,
      "width": null
     }
    },
    "53a809571b2842d9abd619ffc520fa6a": {
     "model_module": "@jupyter-widgets/controls",
     "model_module_version": "1.5.0",
     "model_name": "DescriptionStyleModel",
     "state": {
      "_model_module": "@jupyter-widgets/controls",
      "_model_module_version": "1.5.0",
      "_model_name": "DescriptionStyleModel",
      "_view_count": null,
      "_view_module": "@jupyter-widgets/base",
      "_view_module_version": "1.2.0",
      "_view_name": "StyleView",
      "description_width": ""
     }
    },
    "59f6db7fd8454407a973a3bf4c0f7bad": {
     "model_module": "@jupyter-widgets/controls",
     "model_module_version": "1.5.0",
     "model_name": "FloatProgressModel",
     "state": {
      "_dom_classes": [],
      "_model_module": "@jupyter-widgets/controls",
      "_model_module_version": "1.5.0",
      "_model_name": "FloatProgressModel",
      "_view_count": null,
      "_view_module": "@jupyter-widgets/controls",
      "_view_module_version": "1.5.0",
      "_view_name": "ProgressView",
      "bar_style": "success",
      "description": "",
      "description_tooltip": null,
      "layout": "IPY_MODEL_8025d52a828e4756989e4ef9200d7d03",
      "max": 39,
      "min": 0,
      "orientation": "horizontal",
      "style": "IPY_MODEL_db0236be2a3a41c4a6302f028390c0df",
      "value": 39
     }
    },
    "5e8f8ea65ba44e1ca81464964abacfd7": {
     "model_module": "@jupyter-widgets/controls",
     "model_module_version": "1.5.0",
     "model_name": "FloatProgressModel",
     "state": {
      "_dom_classes": [],
      "_model_module": "@jupyter-widgets/controls",
      "_model_module_version": "1.5.0",
      "_model_name": "FloatProgressModel",
      "_view_count": null,
      "_view_module": "@jupyter-widgets/controls",
      "_view_module_version": "1.5.0",
      "_view_name": "ProgressView",
      "bar_style": "success",
      "description": "",
      "description_tooltip": null,
      "layout": "IPY_MODEL_1c670c89024248cbbbb73506728a9ab9",
      "max": 112,
      "min": 0,
      "orientation": "horizontal",
      "style": "IPY_MODEL_c6effe9e0f214656887d39788bf9a237",
      "value": 112
     }
    },
    "6815be2ce6c84bb88b22f29b3ee87713": {
     "model_module": "@jupyter-widgets/controls",
     "model_module_version": "1.5.0",
     "model_name": "HBoxModel",
     "state": {
      "_dom_classes": [],
      "_model_module": "@jupyter-widgets/controls",
      "_model_module_version": "1.5.0",
      "_model_name": "HBoxModel",
      "_view_count": null,
      "_view_module": "@jupyter-widgets/controls",
      "_view_module_version": "1.5.0",
      "_view_name": "HBoxView",
      "box_style": "",
      "children": [
       "IPY_MODEL_9a9ddf8e534a4213aa7d3c59fc941ace",
       "IPY_MODEL_a6e8532e15b944ccb10cf10d61435cf2",
       "IPY_MODEL_72c5f0ea86ba475bb6b6827822d7f028"
      ],
      "layout": "IPY_MODEL_1baa58b4a8134699aa979611f2409fd7"
     }
    },
    "72c5f0ea86ba475bb6b6827822d7f028": {
     "model_module": "@jupyter-widgets/controls",
     "model_module_version": "1.5.0",
     "model_name": "HTMLModel",
     "state": {
      "_dom_classes": [],
      "_model_module": "@jupyter-widgets/controls",
      "_model_module_version": "1.5.0",
      "_model_name": "HTMLModel",
      "_view_count": null,
      "_view_module": "@jupyter-widgets/controls",
      "_view_module_version": "1.5.0",
      "_view_name": "HTMLView",
      "description": "",
      "description_tooltip": null,
      "layout": "IPY_MODEL_259894b738d14130a5cda46b64180840",
      "placeholder": "​",
      "style": "IPY_MODEL_26f9537872ea41eebc4fa2387550fb43",
      "value": " 953/953 [00:00&lt;00:00, 19.3kB/s]"
     }
    },
    "75d30707e13d4ba18c54e830416b781a": {
     "model_module": "@jupyter-widgets/controls",
     "model_module_version": "1.5.0",
     "model_name": "DescriptionStyleModel",
     "state": {
      "_model_module": "@jupyter-widgets/controls",
      "_model_module_version": "1.5.0",
      "_model_name": "DescriptionStyleModel",
      "_view_count": null,
      "_view_module": "@jupyter-widgets/base",
      "_view_module_version": "1.2.0",
      "_view_name": "StyleView",
      "description_width": ""
     }
    },
    "7629206078224a00ba404ea646c743f2": {
     "model_module": "@jupyter-widgets/base",
     "model_module_version": "1.2.0",
     "model_name": "LayoutModel",
     "state": {
      "_model_module": "@jupyter-widgets/base",
      "_model_module_version": "1.2.0",
      "_model_name": "LayoutModel",
      "_view_count": null,
      "_view_module": "@jupyter-widgets/base",
      "_view_module_version": "1.2.0",
      "_view_name": "LayoutView",
      "align_content": null,
      "align_items": null,
      "align_self": null,
      "border": null,
      "bottom": null,
      "display": null,
      "flex": null,
      "flex_flow": null,
      "grid_area": null,
      "grid_auto_columns": null,
      "grid_auto_flow": null,
      "grid_auto_rows": null,
      "grid_column": null,
      "grid_gap": null,
      "grid_row": null,
      "grid_template_areas": null,
      "grid_template_columns": null,
      "grid_template_rows": null,
      "height": null,
      "justify_content": null,
      "justify_items": null,
      "left": null,
      "margin": null,
      "max_height": null,
      "max_width": null,
      "min_height": null,
      "min_width": null,
      "object_fit": null,
      "object_position": null,
      "order": null,
      "overflow": null,
      "overflow_x": null,
      "overflow_y": null,
      "padding": null,
      "right": null,
      "top": null,
      "visibility": null,
      "width": null
     }
    },
    "7774621069624d949d6240ae36e92758": {
     "model_module": "@jupyter-widgets/controls",
     "model_module_version": "1.5.0",
     "model_name": "DescriptionStyleModel",
     "state": {
      "_model_module": "@jupyter-widgets/controls",
      "_model_module_version": "1.5.0",
      "_model_name": "DescriptionStyleModel",
      "_view_count": null,
      "_view_module": "@jupyter-widgets/base",
      "_view_module_version": "1.2.0",
      "_view_name": "StyleView",
      "description_width": ""
     }
    },
    "77c7d8fc0dc94ac1ad7a34b38d16e4c6": {
     "model_module": "@jupyter-widgets/controls",
     "model_module_version": "1.5.0",
     "model_name": "DescriptionStyleModel",
     "state": {
      "_model_module": "@jupyter-widgets/controls",
      "_model_module_version": "1.5.0",
      "_model_name": "DescriptionStyleModel",
      "_view_count": null,
      "_view_module": "@jupyter-widgets/base",
      "_view_module_version": "1.2.0",
      "_view_name": "StyleView",
      "description_width": ""
     }
    },
    "77ea08a2373a4382917c889df28923da": {
     "model_module": "@jupyter-widgets/controls",
     "model_module_version": "1.5.0",
     "model_name": "HTMLModel",
     "state": {
      "_dom_classes": [],
      "_model_module": "@jupyter-widgets/controls",
      "_model_module_version": "1.5.0",
      "_model_name": "HTMLModel",
      "_view_count": null,
      "_view_module": "@jupyter-widgets/controls",
      "_view_module_version": "1.5.0",
      "_view_name": "HTMLView",
      "description": "",
      "description_tooltip": null,
      "layout": "IPY_MODEL_beb34664c677424999a289aac3419378",
      "placeholder": "​",
      "style": "IPY_MODEL_c3b5788ebc8048a3a864f4174d9b1397",
      "value": "Downloading tokenizer_config.json: 100%"
     }
    },
    "77eede187ca64571a3175ab11df89fda": {
     "model_module": "@jupyter-widgets/controls",
     "model_module_version": "1.5.0",
     "model_name": "HTMLModel",
     "state": {
      "_dom_classes": [],
      "_model_module": "@jupyter-widgets/controls",
      "_model_module_version": "1.5.0",
      "_model_name": "HTMLModel",
      "_view_count": null,
      "_view_module": "@jupyter-widgets/controls",
      "_view_module_version": "1.5.0",
      "_view_name": "HTMLView",
      "description": "",
      "description_tooltip": null,
      "layout": "IPY_MODEL_cc14b971ea6f4ca5aaefc513caf7375d",
      "placeholder": "​",
      "style": "IPY_MODEL_77c7d8fc0dc94ac1ad7a34b38d16e4c6",
      "value": "Downloading vocab.txt: 100%"
     }
    },
    "7807410141b6486ea48a3c936ebab134": {
     "model_module": "@jupyter-widgets/base",
     "model_module_version": "1.2.0",
     "model_name": "LayoutModel",
     "state": {
      "_model_module": "@jupyter-widgets/base",
      "_model_module_version": "1.2.0",
      "_model_name": "LayoutModel",
      "_view_count": null,
      "_view_module": "@jupyter-widgets/base",
      "_view_module_version": "1.2.0",
      "_view_name": "LayoutView",
      "align_content": null,
      "align_items": null,
      "align_self": null,
      "border": null,
      "bottom": null,
      "display": null,
      "flex": null,
      "flex_flow": null,
      "grid_area": null,
      "grid_auto_columns": null,
      "grid_auto_flow": null,
      "grid_auto_rows": null,
      "grid_column": null,
      "grid_gap": null,
      "grid_row": null,
      "grid_template_areas": null,
      "grid_template_columns": null,
      "grid_template_rows": null,
      "height": null,
      "justify_content": null,
      "justify_items": null,
      "left": null,
      "margin": null,
      "max_height": null,
      "max_width": null,
      "min_height": null,
      "min_width": null,
      "object_fit": null,
      "object_position": null,
      "order": null,
      "overflow": null,
      "overflow_x": null,
      "overflow_y": null,
      "padding": null,
      "right": null,
      "top": null,
      "visibility": null,
      "width": null
     }
    },
    "8025d52a828e4756989e4ef9200d7d03": {
     "model_module": "@jupyter-widgets/base",
     "model_module_version": "1.2.0",
     "model_name": "LayoutModel",
     "state": {
      "_model_module": "@jupyter-widgets/base",
      "_model_module_version": "1.2.0",
      "_model_name": "LayoutModel",
      "_view_count": null,
      "_view_module": "@jupyter-widgets/base",
      "_view_module_version": "1.2.0",
      "_view_name": "LayoutView",
      "align_content": null,
      "align_items": null,
      "align_self": null,
      "border": null,
      "bottom": null,
      "display": null,
      "flex": null,
      "flex_flow": null,
      "grid_area": null,
      "grid_auto_columns": null,
      "grid_auto_flow": null,
      "grid_auto_rows": null,
      "grid_column": null,
      "grid_gap": null,
      "grid_row": null,
      "grid_template_areas": null,
      "grid_template_columns": null,
      "grid_template_rows": null,
      "height": null,
      "justify_content": null,
      "justify_items": null,
      "left": null,
      "margin": null,
      "max_height": null,
      "max_width": null,
      "min_height": null,
      "min_width": null,
      "object_fit": null,
      "object_position": null,
      "order": null,
      "overflow": null,
      "overflow_x": null,
      "overflow_y": null,
      "padding": null,
      "right": null,
      "top": null,
      "visibility": null,
      "width": null
     }
    },
    "8d50729d55124ee2a790ac7cd9412f18": {
     "model_module": "@jupyter-widgets/controls",
     "model_module_version": "1.5.0",
     "model_name": "HBoxModel",
     "state": {
      "_dom_classes": [],
      "_model_module": "@jupyter-widgets/controls",
      "_model_module_version": "1.5.0",
      "_model_name": "HBoxModel",
      "_view_count": null,
      "_view_module": "@jupyter-widgets/controls",
      "_view_module_version": "1.5.0",
      "_view_name": "HBoxView",
      "box_style": "",
      "children": [
       "IPY_MODEL_2cf1e7ecd2db443faf67106bddbdfcd0",
       "IPY_MODEL_5e8f8ea65ba44e1ca81464964abacfd7",
       "IPY_MODEL_3add2375e1e04454a86c83e40600c38e"
      ],
      "layout": "IPY_MODEL_fa7f5c7d25264465bd698af00ac52ef8"
     }
    },
    "8f30622342e1439d9756a81860a1968d": {
     "model_module": "@jupyter-widgets/controls",
     "model_module_version": "1.5.0",
     "model_name": "HBoxModel",
     "state": {
      "_dom_classes": [],
      "_model_module": "@jupyter-widgets/controls",
      "_model_module_version": "1.5.0",
      "_model_name": "HBoxModel",
      "_view_count": null,
      "_view_module": "@jupyter-widgets/controls",
      "_view_module_version": "1.5.0",
      "_view_name": "HBoxView",
      "box_style": "",
      "children": [
       "IPY_MODEL_77eede187ca64571a3175ab11df89fda",
       "IPY_MODEL_ba2cd2ad58714c6683b04439b5f488ad",
       "IPY_MODEL_08f642845ebc4aa09e90bba5f97c6f8a"
      ],
      "layout": "IPY_MODEL_a6c546da627142ccac99144a6d1a8ccc"
     }
    },
    "92f6383124d14876910398353f9ee21c": {
     "model_module": "@jupyter-widgets/controls",
     "model_module_version": "1.5.0",
     "model_name": "ProgressStyleModel",
     "state": {
      "_model_module": "@jupyter-widgets/controls",
      "_model_module_version": "1.5.0",
      "_model_name": "ProgressStyleModel",
      "_view_count": null,
      "_view_module": "@jupyter-widgets/base",
      "_view_module_version": "1.2.0",
      "_view_name": "StyleView",
      "bar_color": null,
      "description_width": ""
     }
    },
    "945c97a54ab74d11914884af3781e4d0": {
     "model_module": "@jupyter-widgets/controls",
     "model_module_version": "1.5.0",
     "model_name": "HBoxModel",
     "state": {
      "_dom_classes": [],
      "_model_module": "@jupyter-widgets/controls",
      "_model_module_version": "1.5.0",
      "_model_name": "HBoxModel",
      "_view_count": null,
      "_view_module": "@jupyter-widgets/controls",
      "_view_module_version": "1.5.0",
      "_view_name": "HBoxView",
      "box_style": "",
      "children": [
       "IPY_MODEL_77ea08a2373a4382917c889df28923da",
       "IPY_MODEL_59f6db7fd8454407a973a3bf4c0f7bad",
       "IPY_MODEL_a4dea758df8c42998566b86b00551d79"
      ],
      "layout": "IPY_MODEL_b4b73de4ae044ddb8a9c9298ba4b5164"
     }
    },
    "9a9ddf8e534a4213aa7d3c59fc941ace": {
     "model_module": "@jupyter-widgets/controls",
     "model_module_version": "1.5.0",
     "model_name": "HTMLModel",
     "state": {
      "_dom_classes": [],
      "_model_module": "@jupyter-widgets/controls",
      "_model_module_version": "1.5.0",
      "_model_name": "HTMLModel",
      "_view_count": null,
      "_view_module": "@jupyter-widgets/controls",
      "_view_module_version": "1.5.0",
      "_view_name": "HTMLView",
      "description": "",
      "description_tooltip": null,
      "layout": "IPY_MODEL_17309bd5815143458ba052478dedbdf0",
      "placeholder": "​",
      "style": "IPY_MODEL_53a809571b2842d9abd619ffc520fa6a",
      "value": "Downloading config.json: 100%"
     }
    },
    "9ff9acdd003e4033a9238da8a129536c": {
     "model_module": "@jupyter-widgets/controls",
     "model_module_version": "1.5.0",
     "model_name": "ProgressStyleModel",
     "state": {
      "_model_module": "@jupyter-widgets/controls",
      "_model_module_version": "1.5.0",
      "_model_name": "ProgressStyleModel",
      "_view_count": null,
      "_view_module": "@jupyter-widgets/base",
      "_view_module_version": "1.2.0",
      "_view_name": "StyleView",
      "bar_color": null,
      "description_width": ""
     }
    },
    "a16acd4479b84c8f8e67464d2829d4cf": {
     "model_module": "@jupyter-widgets/controls",
     "model_module_version": "1.5.0",
     "model_name": "ProgressStyleModel",
     "state": {
      "_model_module": "@jupyter-widgets/controls",
      "_model_module_version": "1.5.0",
      "_model_name": "ProgressStyleModel",
      "_view_count": null,
      "_view_module": "@jupyter-widgets/base",
      "_view_module_version": "1.2.0",
      "_view_name": "StyleView",
      "bar_color": null,
      "description_width": ""
     }
    },
    "a4dea758df8c42998566b86b00551d79": {
     "model_module": "@jupyter-widgets/controls",
     "model_module_version": "1.5.0",
     "model_name": "HTMLModel",
     "state": {
      "_dom_classes": [],
      "_model_module": "@jupyter-widgets/controls",
      "_model_module_version": "1.5.0",
      "_model_name": "HTMLModel",
      "_view_count": null,
      "_view_module": "@jupyter-widgets/controls",
      "_view_module_version": "1.5.0",
      "_view_name": "HTMLView",
      "description": "",
      "description_tooltip": null,
      "layout": "IPY_MODEL_c534000279f74effbd5060e22f23f748",
      "placeholder": "​",
      "style": "IPY_MODEL_7774621069624d949d6240ae36e92758",
      "value": " 39.0/39.0 [00:00&lt;00:00, 633B/s]"
     }
    },
    "a639476eba404541be03d090433e94ff": {
     "model_module": "@jupyter-widgets/base",
     "model_module_version": "1.2.0",
     "model_name": "LayoutModel",
     "state": {
      "_model_module": "@jupyter-widgets/base",
      "_model_module_version": "1.2.0",
      "_model_name": "LayoutModel",
      "_view_count": null,
      "_view_module": "@jupyter-widgets/base",
      "_view_module_version": "1.2.0",
      "_view_name": "LayoutView",
      "align_content": null,
      "align_items": null,
      "align_self": null,
      "border": null,
      "bottom": null,
      "display": null,
      "flex": null,
      "flex_flow": null,
      "grid_area": null,
      "grid_auto_columns": null,
      "grid_auto_flow": null,
      "grid_auto_rows": null,
      "grid_column": null,
      "grid_gap": null,
      "grid_row": null,
      "grid_template_areas": null,
      "grid_template_columns": null,
      "grid_template_rows": null,
      "height": null,
      "justify_content": null,
      "justify_items": null,
      "left": null,
      "margin": null,
      "max_height": null,
      "max_width": null,
      "min_height": null,
      "min_width": null,
      "object_fit": null,
      "object_position": null,
      "order": null,
      "overflow": null,
      "overflow_x": null,
      "overflow_y": null,
      "padding": null,
      "right": null,
      "top": null,
      "visibility": null,
      "width": null
     }
    },
    "a6c546da627142ccac99144a6d1a8ccc": {
     "model_module": "@jupyter-widgets/base",
     "model_module_version": "1.2.0",
     "model_name": "LayoutModel",
     "state": {
      "_model_module": "@jupyter-widgets/base",
      "_model_module_version": "1.2.0",
      "_model_name": "LayoutModel",
      "_view_count": null,
      "_view_module": "@jupyter-widgets/base",
      "_view_module_version": "1.2.0",
      "_view_name": "LayoutView",
      "align_content": null,
      "align_items": null,
      "align_self": null,
      "border": null,
      "bottom": null,
      "display": null,
      "flex": null,
      "flex_flow": null,
      "grid_area": null,
      "grid_auto_columns": null,
      "grid_auto_flow": null,
      "grid_auto_rows": null,
      "grid_column": null,
      "grid_gap": null,
      "grid_row": null,
      "grid_template_areas": null,
      "grid_template_columns": null,
      "grid_template_rows": null,
      "height": null,
      "justify_content": null,
      "justify_items": null,
      "left": null,
      "margin": null,
      "max_height": null,
      "max_width": null,
      "min_height": null,
      "min_width": null,
      "object_fit": null,
      "object_position": null,
      "order": null,
      "overflow": null,
      "overflow_x": null,
      "overflow_y": null,
      "padding": null,
      "right": null,
      "top": null,
      "visibility": null,
      "width": null
     }
    },
    "a6e8532e15b944ccb10cf10d61435cf2": {
     "model_module": "@jupyter-widgets/controls",
     "model_module_version": "1.5.0",
     "model_name": "FloatProgressModel",
     "state": {
      "_dom_classes": [],
      "_model_module": "@jupyter-widgets/controls",
      "_model_module_version": "1.5.0",
      "_model_name": "FloatProgressModel",
      "_view_count": null,
      "_view_module": "@jupyter-widgets/controls",
      "_view_module_version": "1.5.0",
      "_view_name": "ProgressView",
      "bar_style": "success",
      "description": "",
      "description_tooltip": null,
      "layout": "IPY_MODEL_3073833450414f1b98be92efd10491bd",
      "max": 953,
      "min": 0,
      "orientation": "horizontal",
      "style": "IPY_MODEL_a16acd4479b84c8f8e67464d2829d4cf",
      "value": 953
     }
    },
    "b2218cb480094ee7ab754739272964c3": {
     "model_module": "@jupyter-widgets/controls",
     "model_module_version": "1.5.0",
     "model_name": "HTMLModel",
     "state": {
      "_dom_classes": [],
      "_model_module": "@jupyter-widgets/controls",
      "_model_module_version": "1.5.0",
      "_model_name": "HTMLModel",
      "_view_count": null,
      "_view_module": "@jupyter-widgets/controls",
      "_view_module_version": "1.5.0",
      "_view_name": "HTMLView",
      "description": "",
      "description_tooltip": null,
      "layout": "IPY_MODEL_4d5e703e4fcb466cb680116605e77c3d",
      "placeholder": "​",
      "style": "IPY_MODEL_c0f174276d5646279023946b175d045f",
      "value": " 638M/638M [00:16&lt;00:00, 36.7MB/s]"
     }
    },
    "b4b73de4ae044ddb8a9c9298ba4b5164": {
     "model_module": "@jupyter-widgets/base",
     "model_module_version": "1.2.0",
     "model_name": "LayoutModel",
     "state": {
      "_model_module": "@jupyter-widgets/base",
      "_model_module_version": "1.2.0",
      "_model_name": "LayoutModel",
      "_view_count": null,
      "_view_module": "@jupyter-widgets/base",
      "_view_module_version": "1.2.0",
      "_view_name": "LayoutView",
      "align_content": null,
      "align_items": null,
      "align_self": null,
      "border": null,
      "bottom": null,
      "display": null,
      "flex": null,
      "flex_flow": null,
      "grid_area": null,
      "grid_auto_columns": null,
      "grid_auto_flow": null,
      "grid_auto_rows": null,
      "grid_column": null,
      "grid_gap": null,
      "grid_row": null,
      "grid_template_areas": null,
      "grid_template_columns": null,
      "grid_template_rows": null,
      "height": null,
      "justify_content": null,
      "justify_items": null,
      "left": null,
      "margin": null,
      "max_height": null,
      "max_width": null,
      "min_height": null,
      "min_width": null,
      "object_fit": null,
      "object_position": null,
      "order": null,
      "overflow": null,
      "overflow_x": null,
      "overflow_y": null,
      "padding": null,
      "right": null,
      "top": null,
      "visibility": null,
      "width": null
     }
    },
    "ba2cd2ad58714c6683b04439b5f488ad": {
     "model_module": "@jupyter-widgets/controls",
     "model_module_version": "1.5.0",
     "model_name": "FloatProgressModel",
     "state": {
      "_dom_classes": [],
      "_model_module": "@jupyter-widgets/controls",
      "_model_module_version": "1.5.0",
      "_model_name": "FloatProgressModel",
      "_view_count": null,
      "_view_module": "@jupyter-widgets/controls",
      "_view_module_version": "1.5.0",
      "_view_name": "ProgressView",
      "bar_style": "success",
      "description": "",
      "description_tooltip": null,
      "layout": "IPY_MODEL_31412e9ab15547dfbd2a5e0bc79d02bd",
      "max": 871891,
      "min": 0,
      "orientation": "horizontal",
      "style": "IPY_MODEL_9ff9acdd003e4033a9238da8a129536c",
      "value": 871891
     }
    },
    "beb34664c677424999a289aac3419378": {
     "model_module": "@jupyter-widgets/base",
     "model_module_version": "1.2.0",
     "model_name": "LayoutModel",
     "state": {
      "_model_module": "@jupyter-widgets/base",
      "_model_module_version": "1.2.0",
      "_model_name": "LayoutModel",
      "_view_count": null,
      "_view_module": "@jupyter-widgets/base",
      "_view_module_version": "1.2.0",
      "_view_name": "LayoutView",
      "align_content": null,
      "align_items": null,
      "align_self": null,
      "border": null,
      "bottom": null,
      "display": null,
      "flex": null,
      "flex_flow": null,
      "grid_area": null,
      "grid_auto_columns": null,
      "grid_auto_flow": null,
      "grid_auto_rows": null,
      "grid_column": null,
      "grid_gap": null,
      "grid_row": null,
      "grid_template_areas": null,
      "grid_template_columns": null,
      "grid_template_rows": null,
      "height": null,
      "justify_content": null,
      "justify_items": null,
      "left": null,
      "margin": null,
      "max_height": null,
      "max_width": null,
      "min_height": null,
      "min_width": null,
      "object_fit": null,
      "object_position": null,
      "order": null,
      "overflow": null,
      "overflow_x": null,
      "overflow_y": null,
      "padding": null,
      "right": null,
      "top": null,
      "visibility": null,
      "width": null
     }
    },
    "c0f174276d5646279023946b175d045f": {
     "model_module": "@jupyter-widgets/controls",
     "model_module_version": "1.5.0",
     "model_name": "DescriptionStyleModel",
     "state": {
      "_model_module": "@jupyter-widgets/controls",
      "_model_module_version": "1.5.0",
      "_model_name": "DescriptionStyleModel",
      "_view_count": null,
      "_view_module": "@jupyter-widgets/base",
      "_view_module_version": "1.2.0",
      "_view_name": "StyleView",
      "description_width": ""
     }
    },
    "c3b5788ebc8048a3a864f4174d9b1397": {
     "model_module": "@jupyter-widgets/controls",
     "model_module_version": "1.5.0",
     "model_name": "DescriptionStyleModel",
     "state": {
      "_model_module": "@jupyter-widgets/controls",
      "_model_module_version": "1.5.0",
      "_model_name": "DescriptionStyleModel",
      "_view_count": null,
      "_view_module": "@jupyter-widgets/base",
      "_view_module_version": "1.2.0",
      "_view_name": "StyleView",
      "description_width": ""
     }
    },
    "c534000279f74effbd5060e22f23f748": {
     "model_module": "@jupyter-widgets/base",
     "model_module_version": "1.2.0",
     "model_name": "LayoutModel",
     "state": {
      "_model_module": "@jupyter-widgets/base",
      "_model_module_version": "1.2.0",
      "_model_name": "LayoutModel",
      "_view_count": null,
      "_view_module": "@jupyter-widgets/base",
      "_view_module_version": "1.2.0",
      "_view_name": "LayoutView",
      "align_content": null,
      "align_items": null,
      "align_self": null,
      "border": null,
      "bottom": null,
      "display": null,
      "flex": null,
      "flex_flow": null,
      "grid_area": null,
      "grid_auto_columns": null,
      "grid_auto_flow": null,
      "grid_auto_rows": null,
      "grid_column": null,
      "grid_gap": null,
      "grid_row": null,
      "grid_template_areas": null,
      "grid_template_columns": null,
      "grid_template_rows": null,
      "height": null,
      "justify_content": null,
      "justify_items": null,
      "left": null,
      "margin": null,
      "max_height": null,
      "max_width": null,
      "min_height": null,
      "min_width": null,
      "object_fit": null,
      "object_position": null,
      "order": null,
      "overflow": null,
      "overflow_x": null,
      "overflow_y": null,
      "padding": null,
      "right": null,
      "top": null,
      "visibility": null,
      "width": null
     }
    },
    "c6effe9e0f214656887d39788bf9a237": {
     "model_module": "@jupyter-widgets/controls",
     "model_module_version": "1.5.0",
     "model_name": "ProgressStyleModel",
     "state": {
      "_model_module": "@jupyter-widgets/controls",
      "_model_module_version": "1.5.0",
      "_model_name": "ProgressStyleModel",
      "_view_count": null,
      "_view_module": "@jupyter-widgets/base",
      "_view_module_version": "1.2.0",
      "_view_name": "StyleView",
      "bar_color": null,
      "description_width": ""
     }
    },
    "c7b20d8f1c4d4902ac95f05237b1c8c2": {
     "model_module": "@jupyter-widgets/controls",
     "model_module_version": "1.5.0",
     "model_name": "HBoxModel",
     "state": {
      "_dom_classes": [],
      "_model_module": "@jupyter-widgets/controls",
      "_model_module_version": "1.5.0",
      "_model_name": "HBoxModel",
      "_view_count": null,
      "_view_module": "@jupyter-widgets/controls",
      "_view_module_version": "1.5.0",
      "_view_name": "HBoxView",
      "box_style": "",
      "children": [
       "IPY_MODEL_fd64c1381b7949e58525b98b737a65ce",
       "IPY_MODEL_0e6256c9b0d24449b9838ae618f2bcba",
       "IPY_MODEL_b2218cb480094ee7ab754739272964c3"
      ],
      "layout": "IPY_MODEL_a639476eba404541be03d090433e94ff"
     }
    },
    "cbc24bb04c3842c383262dd6163254df": {
     "model_module": "@jupyter-widgets/base",
     "model_module_version": "1.2.0",
     "model_name": "LayoutModel",
     "state": {
      "_model_module": "@jupyter-widgets/base",
      "_model_module_version": "1.2.0",
      "_model_name": "LayoutModel",
      "_view_count": null,
      "_view_module": "@jupyter-widgets/base",
      "_view_module_version": "1.2.0",
      "_view_name": "LayoutView",
      "align_content": null,
      "align_items": null,
      "align_self": null,
      "border": null,
      "bottom": null,
      "display": null,
      "flex": null,
      "flex_flow": null,
      "grid_area": null,
      "grid_auto_columns": null,
      "grid_auto_flow": null,
      "grid_auto_rows": null,
      "grid_column": null,
      "grid_gap": null,
      "grid_row": null,
      "grid_template_areas": null,
      "grid_template_columns": null,
      "grid_template_rows": null,
      "height": null,
      "justify_content": null,
      "justify_items": null,
      "left": null,
      "margin": null,
      "max_height": null,
      "max_width": null,
      "min_height": null,
      "min_width": null,
      "object_fit": null,
      "object_position": null,
      "order": null,
      "overflow": null,
      "overflow_x": null,
      "overflow_y": null,
      "padding": null,
      "right": null,
      "top": null,
      "visibility": null,
      "width": null
     }
    },
    "cc14b971ea6f4ca5aaefc513caf7375d": {
     "model_module": "@jupyter-widgets/base",
     "model_module_version": "1.2.0",
     "model_name": "LayoutModel",
     "state": {
      "_model_module": "@jupyter-widgets/base",
      "_model_module_version": "1.2.0",
      "_model_name": "LayoutModel",
      "_view_count": null,
      "_view_module": "@jupyter-widgets/base",
      "_view_module_version": "1.2.0",
      "_view_name": "LayoutView",
      "align_content": null,
      "align_items": null,
      "align_self": null,
      "border": null,
      "bottom": null,
      "display": null,
      "flex": null,
      "flex_flow": null,
      "grid_area": null,
      "grid_auto_columns": null,
      "grid_auto_flow": null,
      "grid_auto_rows": null,
      "grid_column": null,
      "grid_gap": null,
      "grid_row": null,
      "grid_template_areas": null,
      "grid_template_columns": null,
      "grid_template_rows": null,
      "height": null,
      "justify_content": null,
      "justify_items": null,
      "left": null,
      "margin": null,
      "max_height": null,
      "max_width": null,
      "min_height": null,
      "min_width": null,
      "object_fit": null,
      "object_position": null,
      "order": null,
      "overflow": null,
      "overflow_x": null,
      "overflow_y": null,
      "padding": null,
      "right": null,
      "top": null,
      "visibility": null,
      "width": null
     }
    },
    "d215f903f15c4dde8029b46b240ca745": {
     "model_module": "@jupyter-widgets/base",
     "model_module_version": "1.2.0",
     "model_name": "LayoutModel",
     "state": {
      "_model_module": "@jupyter-widgets/base",
      "_model_module_version": "1.2.0",
      "_model_name": "LayoutModel",
      "_view_count": null,
      "_view_module": "@jupyter-widgets/base",
      "_view_module_version": "1.2.0",
      "_view_name": "LayoutView",
      "align_content": null,
      "align_items": null,
      "align_self": null,
      "border": null,
      "bottom": null,
      "display": null,
      "flex": null,
      "flex_flow": null,
      "grid_area": null,
      "grid_auto_columns": null,
      "grid_auto_flow": null,
      "grid_auto_rows": null,
      "grid_column": null,
      "grid_gap": null,
      "grid_row": null,
      "grid_template_areas": null,
      "grid_template_columns": null,
      "grid_template_rows": null,
      "height": null,
      "justify_content": null,
      "justify_items": null,
      "left": null,
      "margin": null,
      "max_height": null,
      "max_width": null,
      "min_height": null,
      "min_width": null,
      "object_fit": null,
      "object_position": null,
      "order": null,
      "overflow": null,
      "overflow_x": null,
      "overflow_y": null,
      "padding": null,
      "right": null,
      "top": null,
      "visibility": null,
      "width": null
     }
    },
    "db0236be2a3a41c4a6302f028390c0df": {
     "model_module": "@jupyter-widgets/controls",
     "model_module_version": "1.5.0",
     "model_name": "ProgressStyleModel",
     "state": {
      "_model_module": "@jupyter-widgets/controls",
      "_model_module_version": "1.5.0",
      "_model_name": "ProgressStyleModel",
      "_view_count": null,
      "_view_module": "@jupyter-widgets/base",
      "_view_module_version": "1.2.0",
      "_view_name": "StyleView",
      "bar_color": null,
      "description_width": ""
     }
    },
    "e29c3a4badb14a7aa1138706dd25a585": {
     "model_module": "@jupyter-widgets/controls",
     "model_module_version": "1.5.0",
     "model_name": "DescriptionStyleModel",
     "state": {
      "_model_module": "@jupyter-widgets/controls",
      "_model_module_version": "1.5.0",
      "_model_name": "DescriptionStyleModel",
      "_view_count": null,
      "_view_module": "@jupyter-widgets/base",
      "_view_module_version": "1.2.0",
      "_view_name": "StyleView",
      "description_width": ""
     }
    },
    "e4d5ebef5c8743ef8e1d58b04f111c12": {
     "model_module": "@jupyter-widgets/controls",
     "model_module_version": "1.5.0",
     "model_name": "DescriptionStyleModel",
     "state": {
      "_model_module": "@jupyter-widgets/controls",
      "_model_module_version": "1.5.0",
      "_model_name": "DescriptionStyleModel",
      "_view_count": null,
      "_view_module": "@jupyter-widgets/base",
      "_view_module_version": "1.2.0",
      "_view_name": "StyleView",
      "description_width": ""
     }
    },
    "fa7f5c7d25264465bd698af00ac52ef8": {
     "model_module": "@jupyter-widgets/base",
     "model_module_version": "1.2.0",
     "model_name": "LayoutModel",
     "state": {
      "_model_module": "@jupyter-widgets/base",
      "_model_module_version": "1.2.0",
      "_model_name": "LayoutModel",
      "_view_count": null,
      "_view_module": "@jupyter-widgets/base",
      "_view_module_version": "1.2.0",
      "_view_name": "LayoutView",
      "align_content": null,
      "align_items": null,
      "align_self": null,
      "border": null,
      "bottom": null,
      "display": null,
      "flex": null,
      "flex_flow": null,
      "grid_area": null,
      "grid_auto_columns": null,
      "grid_auto_flow": null,
      "grid_auto_rows": null,
      "grid_column": null,
      "grid_gap": null,
      "grid_row": null,
      "grid_template_areas": null,
      "grid_template_columns": null,
      "grid_template_rows": null,
      "height": null,
      "justify_content": null,
      "justify_items": null,
      "left": null,
      "margin": null,
      "max_height": null,
      "max_width": null,
      "min_height": null,
      "min_width": null,
      "object_fit": null,
      "object_position": null,
      "order": null,
      "overflow": null,
      "overflow_x": null,
      "overflow_y": null,
      "padding": null,
      "right": null,
      "top": null,
      "visibility": null,
      "width": null
     }
    },
    "fd64c1381b7949e58525b98b737a65ce": {
     "model_module": "@jupyter-widgets/controls",
     "model_module_version": "1.5.0",
     "model_name": "HTMLModel",
     "state": {
      "_dom_classes": [],
      "_model_module": "@jupyter-widgets/controls",
      "_model_module_version": "1.5.0",
      "_model_name": "HTMLModel",
      "_view_count": null,
      "_view_module": "@jupyter-widgets/controls",
      "_view_module_version": "1.5.0",
      "_view_name": "HTMLView",
      "description": "",
      "description_tooltip": null,
      "layout": "IPY_MODEL_7807410141b6486ea48a3c936ebab134",
      "placeholder": "​",
      "style": "IPY_MODEL_3a1ab884a9f9443c88e399b7becbee79",
      "value": "Downloading pytorch_model.bin: 100%"
     }
    }
   }
  }
 },
 "nbformat": 4,
 "nbformat_minor": 5
}
